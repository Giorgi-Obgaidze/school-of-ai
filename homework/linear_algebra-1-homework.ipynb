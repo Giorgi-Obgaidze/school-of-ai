{
 "cells": [
  {
   "cell_type": "code",
   "execution_count": 1,
   "metadata": {},
   "outputs": [],
   "source": [
    "%load_ext autoreload\n",
    "%autoreload 2\n",
    "\n",
    "%matplotlib inline"
   ]
  },
  {
   "cell_type": "markdown",
   "metadata": {},
   "source": [
    "## Basic setup"
   ]
  },
  {
   "cell_type": "markdown",
   "metadata": {},
   "source": [
    "Create anaconda environment\n",
    "<br>\n",
    "```bash\n",
    "conda create -n ml python=3.7.4 jupyter\n",
    "```\n",
    "Install fastai library\n",
    "<br>\n",
    "```bash\n",
    "conda install -c pytorch -c fastai fastai\n",
    "```"
   ]
  },
  {
   "cell_type": "markdown",
   "metadata": {},
   "source": [
    "# Set theory basics"
   ]
  },
  {
   "cell_type": "markdown",
   "metadata": {},
   "source": [
    "#### Prove that:\n",
    "<br>\n",
    "$A \\subseteq A$\n",
    "$$ x\\in S ⇒ x \\in S$$\n",
    "the rule of generalization allows us to conclude\n",
    "$$∀x(x \\in S ⇒ x \\in S)$$\n",
    "above expression means that: $$S \\subseteq S$$"
   ]
  },
  {
   "cell_type": "markdown",
   "metadata": {},
   "source": [
    "#### Prove that:\n",
    "<br>\n",
    "If $A \\subseteq B$ and $B \\subseteq A$ $\\to$ $A = B$\n",
    "\n",
    "$(\\forall x : x \\in A \\Rightarrow x \\in B) \\wedge (\\forall x : x \\in B \\Rightarrow x \\in A) \\Rightarrow \\forall x : x \\in A \\Leftrightarrow x \\in B$"
   ]
  },
  {
   "cell_type": "markdown",
   "metadata": {},
   "source": [
    "#### Prove that:\n",
    "<br>\n",
    "if $B \\subset A$ then $A \\cap B = B$\n",
    "<br>\n",
    "$A \\subseteq B$ if $x \\in (A \\cap B)$, then $x \\in A $ and\n",
    "$x \\in B$\n",
    "<br>\n",
    "this proves that$(A \\cap B) \\subseteq A$\n",
    "<br>\n",
    "now if $x \\in A$ then $x \\in B$ so $x \\in (A \\cap B)$\n",
    "<br>\n",
    "this proves $A \\subseteq (A \\cap B)$\n",
    "<br>\n",
    "and in the end this implies $A = (A \\cap B)$"
   ]
  },
  {
   "cell_type": "raw",
   "metadata": {},
   "source": []
  },
  {
   "cell_type": "markdown",
   "metadata": {},
   "source": [
    "#### Prove that:\n",
    "<br>\n",
    "$A \\cap B = B \\cap A$\n",
    "<br>\n",
    "if $x \\in (A \\cap B)$ then $x \\in A$ and $x \\in B$ we can also say that  $x \\in B$ and $x \\in A$ so $x \\in (B \\cap A)$ therefore\n",
    "$A \\cap B \\subseteq B \\cap A$\n",
    "<br>\n",
    "we do the same thing but swap A and B and get $B \\cap A \\subseteq A \\cap B$ so:\n",
    "<br>\n",
    "$A \\cap B = B \\cap A$"
   ]
  },
  {
   "cell_type": "markdown",
   "metadata": {},
   "source": [
    "#### Prove that:\n",
    "<br>\n",
    "if $B \\subset A$ then $A \\cup B = A$\n",
    "\n",
    "$\\forall x : (x \\in A) \\Rightarrow (x \\in A) \\vee (x \\in B) \\Rightarrow x \\in (A \\cup B)$\n",
    "Also, $B \\subset A \\Rightarrow \\forall x : (x \\in B) \\Rightarrow (x \\in A)$, Thus $\\forall x : x \\in (A \\cup B) \\Rightarrow (x \\in A) \\vee (x \\in B) \\Rightarrow (x \\in A) \\vee (x \\in A) \\Rightarrow x \\in A$"
   ]
  },
  {
   "cell_type": "markdown",
   "metadata": {},
   "source": [
    "#### Prove that:\n",
    "<br>\n",
    "$A \\cup B = B \\cup A$\n",
    "<br>\n",
    "if $x \\in (A \\cup B)$ then we have $x \\in A$ or $x \\in B$\n",
    "<br>\n",
    "if x is in A or B then it is in B or A and by definition of union this means $x \\in (B \\cup A)$ ⇒ $A \\cup B \\subseteq B \\cup A$\n",
    "we can swap A and B and do the same thing as we did above \n",
    "⇒ $B \\cup A \\subseteq A \\cup B$\n",
    "<br>\n",
    "hence $A \\cup B$ = $B \\cup A$"
   ]
  },
  {
   "cell_type": "markdown",
   "metadata": {},
   "source": [
    "#### Prove that:\n",
    "- for every injection $m:A \\to B$ and pair of functions $f, g :C \\to A$: if $m \\circ f = m \\circ g$ then $f = g$ and vice-versa\n",
    "- for every surjection $e:A \\to B$ and every pair of functions $f, g :B \\to C$: if $f \\circ e = g \\circ e$ then $f = g$ and vice-versa"
   ]
  },
  {
   "cell_type": "markdown",
   "metadata": {},
   "source": [
    "#### Prove that \n",
    "- composition of injections is injection itself\n",
    "- composition of surjections is surjection itself\n",
    "- composition of bijections is bijection itself\n",
    "<br>\n",
    "or give a counterexamples\n",
    "<br>\n",
    "\n",
    "proof 1:\n",
    "if f(x1)=f(x2), then x1=x2.\n",
    "\n",
    "So, assume f and g are injective and suppose\n",
    "g∘f(x1)=g∘f(x2).\n",
    "This means\n",
    "g(f(x1))=g(f(x2))\n",
    "that, by the injectivity of g, implies\n",
    "f(x1)=f(x2).\n",
    "Injectivity of f allows us to argue that\n",
    "x1=x2.\n",
    "As you clearly see, these are the same steps as in your proof; but dealing with equality is psychologically easier than dealing with inequalities.\n",
    "\n",
    "proof 2:\n",
    "$(\\forall y \\exists x: f(x) = y) \\wedge (\\forall z \\exists y: g(y) = z)$\n",
    "$\\forall z \\exists y \\exists x: (f(x) = y) \\wedge (g(y) = z) \\Rightarrow (g \\circ f)(x) = g(f(x)) = g(y) = z$\n",
    "\n",
    "proof 3 derives from proof one and 2"
   ]
  },
  {
   "cell_type": "markdown",
   "metadata": {},
   "source": [
    "#### Prove that for each set $A$:\n",
    "- $A \\cong A$\n",
    "- if $B \\cong A$ then $B \\cong A$ for every pair of sets $A$ and $B$\n",
    "- if $A \\cong B$ and $B \\cong C$ then $A \\cong C$ for every triplet $A$, $B$ and $C$\n",
    "\n",
    "proof 1:\n",
    "$f(x) = x$ is a bijection $f:A \\rightarrow A$\n",
    "\n",
    "proof 2:\n",
    "Since inverse of a bijection is a bijection\n",
    "\n",
    "\n",
    "proof 3:\n",
    "Since composition of bijections is a bijection"
   ]
  },
  {
   "cell_type": "markdown",
   "metadata": {},
   "source": [
    "#### Prove that:\n",
    "<br>\n",
    "there exists a bijection between set of natural and even numbers\n",
    "\n",
    "$f(n) = 2 n$"
   ]
  },
  {
   "cell_type": "markdown",
   "metadata": {},
   "source": [
    "#### Prove that:\n",
    "<br>\n",
    "if we have a bijection between two finite sets than they have an equal number of elements\n",
    "\n",
    "$(\\{1, 2, \\dots n\\} \\cong A) \\wedge (A \\cong B) \\Rightarrow \\{1, 2, \\dots n\\} \\cong B$"
   ]
  },
  {
   "cell_type": "markdown",
   "metadata": {},
   "source": [
    "#### Prove that:\n",
    "<br>\n",
    "$A \\times B \\cong B \\times A$"
   ]
  },
  {
   "cell_type": "markdown",
   "metadata": {},
   "source": [
    "$\\cap_{i\\in I}A_i$ and $\\cup_{i\\in I}A_i$"
   ]
  },
  {
   "cell_type": "code",
   "execution_count": null,
   "metadata": {},
   "outputs": [],
   "source": [
    "# Inplement in python"
   ]
  },
  {
   "cell_type": "markdown",
   "metadata": {},
   "source": [
    "We can also define cartesian product of any \"number\" of sets $\\prod_{i \\in I}{A_i}$"
   ]
  },
  {
   "cell_type": "code",
   "execution_count": null,
   "metadata": {},
   "outputs": [],
   "source": [
    "# Inplement in python"
   ]
  },
  {
   "cell_type": "markdown",
   "metadata": {},
   "source": [
    "#### Prove that:\n",
    "<br>\n",
    "$$A \\cap (B \\cup C)=(A \\cap B) \\cup (A\\cap C)$$\n",
    "$$A \\cup (B \\cap C)=(A \\cup B) \\cap (A\\cup C)$$\n",
    "<br>\n",
    "Proof 1: We will show that (i) A ∩ (B ∪ C) ⊆ (A ∩ B) ∪ (A ∩ C) and (ii) (A ∩ B) ∪ (A ∩ C) ⊆ A ∩ (B ∪ C).\n",
    "To prove (i), let x ∈ A∩(B ∪C). Then x ∈ A and x ∈ B ∪C. (Why?) Thus x ∈ A and x ∈ B or x ∈ C.(Why?)\n",
    "Hence x ∈ A and x ∈ B or x ∈ A and x ∈ C. In other words, we have x ∈ A ∩ B or x ∈ A ∩ C. Therefore,\n",
    "x ∈ (A ∩ B) ∪ (A ∩ C), that is A ∩ (B ∪ C) ⊆ (A ∩ B) ∪ (A ∩ C).\n",
    "Please prove (ii) in a similar manner. Also show that A ∪ (B ∩ C)=(A ∪ B) ∩ (A ∪ C)\n",
    "\n",
    "Proof 2:\n",
    "Let x ∈ A ∪ (B ∩ C). If x ∈ A ∪ (B ∩ C) then x is either in A or in (B and C).\n",
    "\n",
    "x ∈ A or x ∈ (B and C)\n",
    "\n",
    "x ∈ A or {x ∈ B and x ∈ C}\n",
    "\n",
    "{x ∈ A or x ∈ B} and {x ∈ A or x ∈ C}\n",
    "\n",
    "x ∈ (A or B) and x ∈ (A or C)\n",
    "\n",
    "x ∈ (A ∪ B) ∩ x ∈ (A ∩ C)\n",
    "\n",
    "x ∈ (A ∪ B) ∩ (A ∪ C)\n",
    "\n",
    "x∈ A ∪ (B ∩ C) => x ∈ (A ∪ B) ∩ (A ∪ C)\n",
    "\n",
    "Therefore,\n",
    "\n",
    "A ∪ (B ∩ C) ⊂ (A ∪ B) ∩ (A ∪ C).........(1)\n",
    "\n",
    "Let x ∈ (A ∪ B) ∩ (A ∪ C). If x ∈ (A ∪ B) ∩ (A ∪ C) then x is in (A or B) and x is in (A or C).\n",
    "\n",
    "x ∈ (A or B) and x ∈ (A or C)\n",
    "\n",
    "{x ∈ A or x ∈ B} and {x ∈ A or x ∈ C}\n",
    "\n",
    "x ∈ A or {x ∈ B and x ∈ C}\n",
    "\n",
    "x ∈ A or {x ∈ (B and C)}\n",
    "\n",
    "x ∈ A ∪ {x ∈ (B ∩ C)}\n",
    "\n",
    "x ∈ A ∪ (B ∩ C)\n",
    "\n",
    "x ∈ (A ∪ B) ∩ (A ∪ C) => x ∈ A ∪ (B ∩ C)\n",
    "\n",
    "Therefore,\n",
    "\n",
    "(A ∪ B) ∩ (A ∪ C) ⊂ A ∪ (B ∩ C)..........(2)\n",
    "\n",
    "So ,\n",
    "\n",
    "A ∪ (B ∩ C) = (A ∪ B) ∩ (A ∪ C)"
   ]
  },
  {
   "cell_type": "markdown",
   "metadata": {},
   "source": [
    "# Linear Algebra"
   ]
  },
  {
   "cell_type": "markdown",
   "metadata": {},
   "source": [
    "#### Prove that:\n",
    "<br>\n",
    "$(AB)^{T} = B^{T}A^{T}$ for each pair of matrices $A, B \\in \\mathbb{R}^{n \\times m}$\n",
    "<br>\n",
    "$(A B)^T_{i, j} = (A B)_{j, i} = \\sum_k A_{j, k} B_{k, i} = \\sum_k B^T_{i, k} A^T_{k, j} = (B^T A^T)_{i, j}$"
   ]
  },
  {
   "cell_type": "markdown",
   "metadata": {},
   "source": [
    "## Functions on tensors"
   ]
  },
  {
   "cell_type": "markdown",
   "metadata": {},
   "source": [
    "#### Write combination for $XOR$ calculation"
   ]
  },
  {
   "cell_type": "code",
   "execution_count": null,
   "metadata": {},
   "outputs": [],
   "source": []
  },
  {
   "cell_type": "code",
   "execution_count": null,
   "metadata": {},
   "outputs": [],
   "source": []
  }
 ],
 "metadata": {
  "kernelspec": {
   "display_name": "Python 3",
   "language": "python",
   "name": "python3"
  },
  "language_info": {
   "codemirror_mode": {
    "name": "ipython",
    "version": 3
   },
   "file_extension": ".py",
   "mimetype": "text/x-python",
   "name": "python",
   "nbconvert_exporter": "python",
   "pygments_lexer": "ipython3",
   "version": "3.7.3"
  }
 },
 "nbformat": 4,
 "nbformat_minor": 4
}
