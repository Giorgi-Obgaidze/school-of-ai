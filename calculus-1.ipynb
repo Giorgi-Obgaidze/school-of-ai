{
 "cells": [
  {
   "cell_type": "code",
   "execution_count": 1,
   "metadata": {},
   "outputs": [],
   "source": [
    "%load_ext autoreload\n",
    "%autoreload 2\n",
    "\n",
    "%matplotlib inline"
   ]
  },
  {
   "cell_type": "markdown",
   "metadata": {},
   "source": [
    "## Basic setup"
   ]
  },
  {
   "cell_type": "markdown",
   "metadata": {},
   "source": [
    "Create anaconda environment\n",
    "<br>\n",
    "```bash\n",
    "conda create -n ml python=3.7.4 jupyter\n",
    "```\n",
    "Install fastai library\n",
    "<br>\n",
    "```bash\n",
    "conda install -c pytorch -c fastai fastai\n",
    "```"
   ]
  },
  {
   "cell_type": "code",
   "execution_count": 1,
   "metadata": {},
   "outputs": [
    {
     "name": "stdout",
     "output_type": "stream",
     "text": [
      "Collecting https://github.com/ipython-contrib/jupyter_contrib_nbextensions/tarball/master\n",
      "\u001b[?25l  Downloading https://github.com/ipython-contrib/jupyter_contrib_nbextensions/tarball/master\n",
      "\u001b[K     - 29.3MB 5.9MB/s     \\ 27.8MB 5.9MB/s\n",
      "\u001b[?25hRequirement already satisfied: ipython_genutils in /Users/levan/anaconda3/envs/edu/lib/python3.7/site-packages (from jupyter-contrib-nbextensions==0.5.1) (0.2.0)\n",
      "Collecting jupyter_contrib_core>=0.3.3 (from jupyter-contrib-nbextensions==0.5.1)\n",
      "  Downloading https://files.pythonhosted.org/packages/e6/8f/04a752a8b66a66e7092c035e5d87d2502ac7ec07f9fb6059059b6c0dc272/jupyter_contrib_core-0.3.3-py2.py3-none-any.whl\n",
      "Requirement already satisfied: jupyter_core in /Users/levan/anaconda3/envs/edu/lib/python3.7/site-packages (from jupyter-contrib-nbextensions==0.5.1) (4.5.0)\n",
      "Collecting jupyter_highlight_selected_word>=0.1.1 (from jupyter-contrib-nbextensions==0.5.1)\n",
      "  Downloading https://files.pythonhosted.org/packages/50/d7/19ab7cfd60bf268d2abbacc52d4295a40f52d74dfc0d938e4761ee5e598b/jupyter_highlight_selected_word-0.2.0-py2.py3-none-any.whl\n",
      "Collecting jupyter_latex_envs>=1.3.8 (from jupyter-contrib-nbextensions==0.5.1)\n",
      "\u001b[?25l  Downloading https://files.pythonhosted.org/packages/0e/15/55805de080d5542f76920364635e96e64d3b37f678befdfe3b16aa154205/jupyter_latex_envs-1.4.6.tar.gz (861kB)\n",
      "\u001b[K     |████████████████████████████████| 870kB 541kB/s eta 0:00:01\n",
      "\u001b[?25hCollecting jupyter_nbextensions_configurator>=0.4.0 (from jupyter-contrib-nbextensions==0.5.1)\n",
      "\u001b[?25l  Downloading https://files.pythonhosted.org/packages/51/a3/d72d5f2dc10c5ccf5a6f4c79f636bf071a5ce462dedd07af2f70384db6cb/jupyter_nbextensions_configurator-0.4.1.tar.gz (479kB)\n",
      "\u001b[K     |████████████████████████████████| 481kB 1.3MB/s eta 0:00:01\n",
      "\u001b[?25hRequirement already satisfied: nbconvert>=4.2 in /Users/levan/anaconda3/envs/edu/lib/python3.7/site-packages (from jupyter-contrib-nbextensions==0.5.1) (5.6.0)\n",
      "Requirement already satisfied: notebook>=4.0 in /Users/levan/anaconda3/envs/edu/lib/python3.7/site-packages (from jupyter-contrib-nbextensions==0.5.1) (6.0.1)\n",
      "Requirement already satisfied: pyyaml in /Users/levan/anaconda3/envs/edu/lib/python3.7/site-packages (from jupyter-contrib-nbextensions==0.5.1) (5.1.2)\n",
      "Requirement already satisfied: tornado in /Users/levan/anaconda3/envs/edu/lib/python3.7/site-packages (from jupyter-contrib-nbextensions==0.5.1) (6.0.3)\n",
      "Requirement already satisfied: traitlets>=4.1 in /Users/levan/anaconda3/envs/edu/lib/python3.7/site-packages (from jupyter-contrib-nbextensions==0.5.1) (4.3.3)\n",
      "Collecting lxml (from jupyter-contrib-nbextensions==0.5.1)\n",
      "  Using cached https://files.pythonhosted.org/packages/bd/9f/6cda4672d3ad1aa4cf818ab8401a763787efba751c88aaf4b38fc8f923bb/lxml-4.4.1-cp37-cp37m-macosx_10_6_intel.macosx_10_9_intel.macosx_10_9_x86_64.macosx_10_10_intel.macosx_10_10_x86_64.whl\n",
      "Requirement already satisfied: setuptools in /Users/levan/anaconda3/envs/edu/lib/python3.7/site-packages (from jupyter_contrib_core>=0.3.3->jupyter-contrib-nbextensions==0.5.1) (41.4.0)\n",
      "Requirement already satisfied: ipython in /Users/levan/anaconda3/envs/edu/lib/python3.7/site-packages (from jupyter_latex_envs>=1.3.8->jupyter-contrib-nbextensions==0.5.1) (7.8.0)\n",
      "Requirement already satisfied: mistune<2,>=0.8.1 in /Users/levan/anaconda3/envs/edu/lib/python3.7/site-packages (from nbconvert>=4.2->jupyter-contrib-nbextensions==0.5.1) (0.8.4)\n",
      "Requirement already satisfied: defusedxml in /Users/levan/anaconda3/envs/edu/lib/python3.7/site-packages (from nbconvert>=4.2->jupyter-contrib-nbextensions==0.5.1) (0.6.0)\n",
      "Requirement already satisfied: pygments in /Users/levan/anaconda3/envs/edu/lib/python3.7/site-packages (from nbconvert>=4.2->jupyter-contrib-nbextensions==0.5.1) (2.4.2)\n",
      "Requirement already satisfied: pandocfilters>=1.4.1 in /Users/levan/anaconda3/envs/edu/lib/python3.7/site-packages (from nbconvert>=4.2->jupyter-contrib-nbextensions==0.5.1) (1.4.2)\n",
      "Requirement already satisfied: nbformat>=4.4 in /Users/levan/anaconda3/envs/edu/lib/python3.7/site-packages (from nbconvert>=4.2->jupyter-contrib-nbextensions==0.5.1) (4.4.0)\n",
      "Requirement already satisfied: bleach in /Users/levan/anaconda3/envs/edu/lib/python3.7/site-packages (from nbconvert>=4.2->jupyter-contrib-nbextensions==0.5.1) (3.1.0)\n",
      "Requirement already satisfied: entrypoints>=0.2.2 in /Users/levan/anaconda3/envs/edu/lib/python3.7/site-packages (from nbconvert>=4.2->jupyter-contrib-nbextensions==0.5.1) (0.3)\n",
      "Requirement already satisfied: testpath in /Users/levan/anaconda3/envs/edu/lib/python3.7/site-packages (from nbconvert>=4.2->jupyter-contrib-nbextensions==0.5.1) (0.4.2)\n",
      "Requirement already satisfied: jinja2>=2.4 in /Users/levan/anaconda3/envs/edu/lib/python3.7/site-packages (from nbconvert>=4.2->jupyter-contrib-nbextensions==0.5.1) (2.10.3)\n",
      "Requirement already satisfied: terminado>=0.8.1 in /Users/levan/anaconda3/envs/edu/lib/python3.7/site-packages (from notebook>=4.0->jupyter-contrib-nbextensions==0.5.1) (0.8.2)\n",
      "Requirement already satisfied: ipykernel in /Users/levan/anaconda3/envs/edu/lib/python3.7/site-packages (from notebook>=4.0->jupyter-contrib-nbextensions==0.5.1) (5.1.2)\n",
      "Requirement already satisfied: jupyter-client>=5.3.1 in /Users/levan/anaconda3/envs/edu/lib/python3.7/site-packages (from notebook>=4.0->jupyter-contrib-nbextensions==0.5.1) (5.3.3)\n",
      "Requirement already satisfied: prometheus-client in /Users/levan/anaconda3/envs/edu/lib/python3.7/site-packages (from notebook>=4.0->jupyter-contrib-nbextensions==0.5.1) (0.7.1)\n",
      "Requirement already satisfied: Send2Trash in /Users/levan/anaconda3/envs/edu/lib/python3.7/site-packages (from notebook>=4.0->jupyter-contrib-nbextensions==0.5.1) (1.5.0)\n",
      "Requirement already satisfied: pyzmq>=17 in /Users/levan/anaconda3/envs/edu/lib/python3.7/site-packages (from notebook>=4.0->jupyter-contrib-nbextensions==0.5.1) (18.1.0)\n",
      "Requirement already satisfied: decorator in /Users/levan/anaconda3/envs/edu/lib/python3.7/site-packages (from traitlets>=4.1->jupyter-contrib-nbextensions==0.5.1) (4.4.0)\n",
      "Requirement already satisfied: six in /Users/levan/anaconda3/envs/edu/lib/python3.7/site-packages (from traitlets>=4.1->jupyter-contrib-nbextensions==0.5.1) (1.12.0)\n",
      "Requirement already satisfied: prompt-toolkit<2.1.0,>=2.0.0 in /Users/levan/anaconda3/envs/edu/lib/python3.7/site-packages (from ipython->jupyter_latex_envs>=1.3.8->jupyter-contrib-nbextensions==0.5.1) (2.0.10)\n",
      "Requirement already satisfied: pickleshare in /Users/levan/anaconda3/envs/edu/lib/python3.7/site-packages (from ipython->jupyter_latex_envs>=1.3.8->jupyter-contrib-nbextensions==0.5.1) (0.7.5)\n",
      "Requirement already satisfied: pexpect; sys_platform != \"win32\" in /Users/levan/anaconda3/envs/edu/lib/python3.7/site-packages (from ipython->jupyter_latex_envs>=1.3.8->jupyter-contrib-nbextensions==0.5.1) (4.7.0)\n",
      "Requirement already satisfied: jedi>=0.10 in /Users/levan/anaconda3/envs/edu/lib/python3.7/site-packages (from ipython->jupyter_latex_envs>=1.3.8->jupyter-contrib-nbextensions==0.5.1) (0.15.1)\n",
      "Requirement already satisfied: appnope; sys_platform == \"darwin\" in /Users/levan/anaconda3/envs/edu/lib/python3.7/site-packages (from ipython->jupyter_latex_envs>=1.3.8->jupyter-contrib-nbextensions==0.5.1) (0.1.0)\n",
      "Requirement already satisfied: backcall in /Users/levan/anaconda3/envs/edu/lib/python3.7/site-packages (from ipython->jupyter_latex_envs>=1.3.8->jupyter-contrib-nbextensions==0.5.1) (0.1.0)\n",
      "Requirement already satisfied: jsonschema!=2.5.0,>=2.4 in /Users/levan/anaconda3/envs/edu/lib/python3.7/site-packages (from nbformat>=4.4->nbconvert>=4.2->jupyter-contrib-nbextensions==0.5.1) (3.0.2)\n",
      "Requirement already satisfied: webencodings in /Users/levan/anaconda3/envs/edu/lib/python3.7/site-packages (from bleach->nbconvert>=4.2->jupyter-contrib-nbextensions==0.5.1) (0.5.1)\n",
      "Requirement already satisfied: MarkupSafe>=0.23 in /Users/levan/anaconda3/envs/edu/lib/python3.7/site-packages (from jinja2>=2.4->nbconvert>=4.2->jupyter-contrib-nbextensions==0.5.1) (1.1.1)\n",
      "Requirement already satisfied: python-dateutil>=2.1 in /Users/levan/anaconda3/envs/edu/lib/python3.7/site-packages (from jupyter-client>=5.3.1->notebook>=4.0->jupyter-contrib-nbextensions==0.5.1) (2.8.0)\n",
      "Requirement already satisfied: wcwidth in /Users/levan/anaconda3/envs/edu/lib/python3.7/site-packages (from prompt-toolkit<2.1.0,>=2.0.0->ipython->jupyter_latex_envs>=1.3.8->jupyter-contrib-nbextensions==0.5.1) (0.1.7)\n",
      "Requirement already satisfied: ptyprocess>=0.5 in /Users/levan/anaconda3/envs/edu/lib/python3.7/site-packages (from pexpect; sys_platform != \"win32\"->ipython->jupyter_latex_envs>=1.3.8->jupyter-contrib-nbextensions==0.5.1) (0.6.0)\n",
      "Requirement already satisfied: parso>=0.5.0 in /Users/levan/anaconda3/envs/edu/lib/python3.7/site-packages (from jedi>=0.10->ipython->jupyter_latex_envs>=1.3.8->jupyter-contrib-nbextensions==0.5.1) (0.5.1)\n"
     ]
    },
    {
     "name": "stdout",
     "output_type": "stream",
     "text": [
      "Requirement already satisfied: pyrsistent>=0.14.0 in /Users/levan/anaconda3/envs/edu/lib/python3.7/site-packages (from jsonschema!=2.5.0,>=2.4->nbformat>=4.4->nbconvert>=4.2->jupyter-contrib-nbextensions==0.5.1) (0.15.4)\n",
      "Requirement already satisfied: attrs>=17.4.0 in /Users/levan/anaconda3/envs/edu/lib/python3.7/site-packages (from jsonschema!=2.5.0,>=2.4->nbformat>=4.4->nbconvert>=4.2->jupyter-contrib-nbextensions==0.5.1) (19.2.0)\n",
      "Building wheels for collected packages: jupyter-contrib-nbextensions, jupyter-latex-envs, jupyter-nbextensions-configurator\n",
      "  Building wheel for jupyter-contrib-nbextensions (setup.py) ... \u001b[?25ldone\n",
      "\u001b[?25h  Created wheel for jupyter-contrib-nbextensions: filename=jupyter_contrib_nbextensions-0.5.1-py2.py3-none-any.whl size=23430599 sha256=27c208d9b3607b9962f79006395db968d398115159cb990b93e4a9f83d0918e7\n",
      "  Stored in directory: /private/var/folders/ty/6rf19wds713g1kjv_tmfb95c0000gn/T/pip-ephem-wheel-cache-dhaenazh/wheels/22/4a/9f/df59e985684a10ea0e025300581870b5b3a300ee3525f0eef5\n",
      "  Building wheel for jupyter-latex-envs (setup.py) ... \u001b[?25ldone\n",
      "\u001b[?25h  Created wheel for jupyter-latex-envs: filename=jupyter_latex_envs-1.4.6-py2.py3-none-any.whl size=963395 sha256=95eb7143d06c648b7b0c521a0dafedef173aba2974011749b4e52c4315a534a4\n",
      "  Stored in directory: /Users/levan/Library/Caches/pip/wheels/0d/71/2a/164491997299b9f2479a251e254323fe35d946779e18f27956\n",
      "  Building wheel for jupyter-nbextensions-configurator (setup.py) ... \u001b[?25ldone\n",
      "\u001b[?25h  Created wheel for jupyter-nbextensions-configurator: filename=jupyter_nbextensions_configurator-0.4.1-py2.py3-none-any.whl size=465823 sha256=f9538a6a4b4ce951a25068251b3923f85a4922b998012351cfc5656b40701b5b\n",
      "  Stored in directory: /Users/levan/Library/Caches/pip/wheels/15/df/fe/2a74fe34709e7fdc5ae153a768675d9fda93cc7d5133ed1fb0\n",
      "Successfully built jupyter-contrib-nbextensions jupyter-latex-envs jupyter-nbextensions-configurator\n",
      "Installing collected packages: jupyter-contrib-core, jupyter-highlight-selected-word, jupyter-latex-envs, jupyter-nbextensions-configurator, lxml, jupyter-contrib-nbextensions\n",
      "Successfully installed jupyter-contrib-core-0.3.3 jupyter-contrib-nbextensions-0.5.1 jupyter-highlight-selected-word-0.2.0 jupyter-latex-envs-1.4.6 jupyter-nbextensions-configurator-0.4.1 lxml-4.4.1\n",
      "Requirement already satisfied: jupyter_nbextensions_configurator in /Users/levan/anaconda3/envs/edu/lib/python3.7/site-packages (0.4.1)\n",
      "Requirement already satisfied: pyyaml in /Users/levan/anaconda3/envs/edu/lib/python3.7/site-packages (from jupyter_nbextensions_configurator) (5.1.2)\n",
      "Requirement already satisfied: tornado in /Users/levan/anaconda3/envs/edu/lib/python3.7/site-packages (from jupyter_nbextensions_configurator) (6.0.3)\n",
      "Requirement already satisfied: notebook>=4.0 in /Users/levan/anaconda3/envs/edu/lib/python3.7/site-packages (from jupyter_nbextensions_configurator) (6.0.1)\n",
      "Requirement already satisfied: traitlets in /Users/levan/anaconda3/envs/edu/lib/python3.7/site-packages (from jupyter_nbextensions_configurator) (4.3.3)\n",
      "Requirement already satisfied: jupyter-contrib-core>=0.3.3 in /Users/levan/anaconda3/envs/edu/lib/python3.7/site-packages (from jupyter_nbextensions_configurator) (0.3.3)\n",
      "Requirement already satisfied: jupyter-core in /Users/levan/anaconda3/envs/edu/lib/python3.7/site-packages (from jupyter_nbextensions_configurator) (4.5.0)\n",
      "Requirement already satisfied: prometheus-client in /Users/levan/anaconda3/envs/edu/lib/python3.7/site-packages (from notebook>=4.0->jupyter_nbextensions_configurator) (0.7.1)\n",
      "Requirement already satisfied: jinja2 in /Users/levan/anaconda3/envs/edu/lib/python3.7/site-packages (from notebook>=4.0->jupyter_nbextensions_configurator) (2.10.3)\n",
      "Requirement already satisfied: nbconvert in /Users/levan/anaconda3/envs/edu/lib/python3.7/site-packages (from notebook>=4.0->jupyter_nbextensions_configurator) (5.6.0)\n",
      "Requirement already satisfied: Send2Trash in /Users/levan/anaconda3/envs/edu/lib/python3.7/site-packages (from notebook>=4.0->jupyter_nbextensions_configurator) (1.5.0)\n",
      "Requirement already satisfied: pyzmq>=17 in /Users/levan/anaconda3/envs/edu/lib/python3.7/site-packages (from notebook>=4.0->jupyter_nbextensions_configurator) (18.1.0)\n",
      "Requirement already satisfied: ipython-genutils in /Users/levan/anaconda3/envs/edu/lib/python3.7/site-packages (from notebook>=4.0->jupyter_nbextensions_configurator) (0.2.0)\n",
      "Requirement already satisfied: nbformat in /Users/levan/anaconda3/envs/edu/lib/python3.7/site-packages (from notebook>=4.0->jupyter_nbextensions_configurator) (4.4.0)\n",
      "Requirement already satisfied: jupyter-client>=5.3.1 in /Users/levan/anaconda3/envs/edu/lib/python3.7/site-packages (from notebook>=4.0->jupyter_nbextensions_configurator) (5.3.3)\n",
      "Requirement already satisfied: ipykernel in /Users/levan/anaconda3/envs/edu/lib/python3.7/site-packages (from notebook>=4.0->jupyter_nbextensions_configurator) (5.1.2)\n",
      "Requirement already satisfied: terminado>=0.8.1 in /Users/levan/anaconda3/envs/edu/lib/python3.7/site-packages (from notebook>=4.0->jupyter_nbextensions_configurator) (0.8.2)\n",
      "Requirement already satisfied: decorator in /Users/levan/anaconda3/envs/edu/lib/python3.7/site-packages (from traitlets->jupyter_nbextensions_configurator) (4.4.0)\n",
      "Requirement already satisfied: six in /Users/levan/anaconda3/envs/edu/lib/python3.7/site-packages (from traitlets->jupyter_nbextensions_configurator) (1.12.0)\n",
      "Requirement already satisfied: setuptools in /Users/levan/anaconda3/envs/edu/lib/python3.7/site-packages (from jupyter-contrib-core>=0.3.3->jupyter_nbextensions_configurator) (41.4.0)\n",
      "Requirement already satisfied: MarkupSafe>=0.23 in /Users/levan/anaconda3/envs/edu/lib/python3.7/site-packages (from jinja2->notebook>=4.0->jupyter_nbextensions_configurator) (1.1.1)\n",
      "Requirement already satisfied: bleach in /Users/levan/anaconda3/envs/edu/lib/python3.7/site-packages (from nbconvert->notebook>=4.0->jupyter_nbextensions_configurator) (3.1.0)\n",
      "Requirement already satisfied: pandocfilters>=1.4.1 in /Users/levan/anaconda3/envs/edu/lib/python3.7/site-packages (from nbconvert->notebook>=4.0->jupyter_nbextensions_configurator) (1.4.2)\n",
      "Requirement already satisfied: mistune<2,>=0.8.1 in /Users/levan/anaconda3/envs/edu/lib/python3.7/site-packages (from nbconvert->notebook>=4.0->jupyter_nbextensions_configurator) (0.8.4)\n",
      "Requirement already satisfied: testpath in /Users/levan/anaconda3/envs/edu/lib/python3.7/site-packages (from nbconvert->notebook>=4.0->jupyter_nbextensions_configurator) (0.4.2)\n",
      "Requirement already satisfied: defusedxml in /Users/levan/anaconda3/envs/edu/lib/python3.7/site-packages (from nbconvert->notebook>=4.0->jupyter_nbextensions_configurator) (0.6.0)\n",
      "Requirement already satisfied: pygments in /Users/levan/anaconda3/envs/edu/lib/python3.7/site-packages (from nbconvert->notebook>=4.0->jupyter_nbextensions_configurator) (2.4.2)\n",
      "Requirement already satisfied: entrypoints>=0.2.2 in /Users/levan/anaconda3/envs/edu/lib/python3.7/site-packages (from nbconvert->notebook>=4.0->jupyter_nbextensions_configurator) (0.3)\n",
      "Requirement already satisfied: jsonschema!=2.5.0,>=2.4 in /Users/levan/anaconda3/envs/edu/lib/python3.7/site-packages (from nbformat->notebook>=4.0->jupyter_nbextensions_configurator) (3.0.2)\n",
      "Requirement already satisfied: python-dateutil>=2.1 in /Users/levan/anaconda3/envs/edu/lib/python3.7/site-packages (from jupyter-client>=5.3.1->notebook>=4.0->jupyter_nbextensions_configurator) (2.8.0)\n",
      "Requirement already satisfied: ipython>=5.0.0 in /Users/levan/anaconda3/envs/edu/lib/python3.7/site-packages (from ipykernel->notebook>=4.0->jupyter_nbextensions_configurator) (7.8.0)\n",
      "Requirement already satisfied: webencodings in /Users/levan/anaconda3/envs/edu/lib/python3.7/site-packages (from bleach->nbconvert->notebook>=4.0->jupyter_nbextensions_configurator) (0.5.1)\n",
      "Requirement already satisfied: attrs>=17.4.0 in /Users/levan/anaconda3/envs/edu/lib/python3.7/site-packages (from jsonschema!=2.5.0,>=2.4->nbformat->notebook>=4.0->jupyter_nbextensions_configurator) (19.2.0)\n",
      "Requirement already satisfied: pyrsistent>=0.14.0 in /Users/levan/anaconda3/envs/edu/lib/python3.7/site-packages (from jsonschema!=2.5.0,>=2.4->nbformat->notebook>=4.0->jupyter_nbextensions_configurator) (0.15.4)\n",
      "Requirement already satisfied: jedi>=0.10 in /Users/levan/anaconda3/envs/edu/lib/python3.7/site-packages (from ipython>=5.0.0->ipykernel->notebook>=4.0->jupyter_nbextensions_configurator) (0.15.1)\n",
      "Requirement already satisfied: pexpect; sys_platform != \"win32\" in /Users/levan/anaconda3/envs/edu/lib/python3.7/site-packages (from ipython>=5.0.0->ipykernel->notebook>=4.0->jupyter_nbextensions_configurator) (4.7.0)\n",
      "Requirement already satisfied: backcall in /Users/levan/anaconda3/envs/edu/lib/python3.7/site-packages (from ipython>=5.0.0->ipykernel->notebook>=4.0->jupyter_nbextensions_configurator) (0.1.0)\n",
      "Requirement already satisfied: appnope; sys_platform == \"darwin\" in /Users/levan/anaconda3/envs/edu/lib/python3.7/site-packages (from ipython>=5.0.0->ipykernel->notebook>=4.0->jupyter_nbextensions_configurator) (0.1.0)\n",
      "Requirement already satisfied: prompt-toolkit<2.1.0,>=2.0.0 in /Users/levan/anaconda3/envs/edu/lib/python3.7/site-packages (from ipython>=5.0.0->ipykernel->notebook>=4.0->jupyter_nbextensions_configurator) (2.0.10)\n",
      "Requirement already satisfied: pickleshare in /Users/levan/anaconda3/envs/edu/lib/python3.7/site-packages (from ipython>=5.0.0->ipykernel->notebook>=4.0->jupyter_nbextensions_configurator) (0.7.5)\n",
      "Requirement already satisfied: parso>=0.5.0 in /Users/levan/anaconda3/envs/edu/lib/python3.7/site-packages (from jedi>=0.10->ipython>=5.0.0->ipykernel->notebook>=4.0->jupyter_nbextensions_configurator) (0.5.1)\n",
      "Requirement already satisfied: ptyprocess>=0.5 in /Users/levan/anaconda3/envs/edu/lib/python3.7/site-packages (from pexpect; sys_platform != \"win32\"->ipython>=5.0.0->ipykernel->notebook>=4.0->jupyter_nbextensions_configurator) (0.6.0)\n",
      "Requirement already satisfied: wcwidth in /Users/levan/anaconda3/envs/edu/lib/python3.7/site-packages (from prompt-toolkit<2.1.0,>=2.0.0->ipython>=5.0.0->ipykernel->notebook>=4.0->jupyter_nbextensions_configurator) (0.1.7)\n"
     ]
    },
    {
     "name": "stdout",
     "output_type": "stream",
     "text": [
      "\u001b[32m[I 19:52:23 InstallContribNbextensionsApp]\u001b[m jupyter contrib nbextension install --user\n",
      "\u001b[32m[I 19:52:23 InstallContribNbextensionsApp]\u001b[m Installing jupyter_contrib_nbextensions nbextension files to jupyter data directory\n",
      "\u001b[32m[I 19:52:23 InstallContribNbextensionsApp]\u001b[m Installing /Users/levan/anaconda3/envs/edu/lib/python3.7/site-packages/jupyter_contrib_nbextensions/nbextensions/rubberband -> rubberband\n",
      "\u001b[32m[I 19:52:23 InstallContribNbextensionsApp]\u001b[m Making directory: /Users/levan/Library/Jupyter/nbextensions/rubberband/\n",
      "\u001b[32m[I 19:52:23 InstallContribNbextensionsApp]\u001b[m Copying: /Users/levan/anaconda3/envs/edu/lib/python3.7/site-packages/jupyter_contrib_nbextensions/nbextensions/rubberband/icon.png -> /Users/levan/Library/Jupyter/nbextensions/rubberband/icon.png\n",
      "\u001b[32m[I 19:52:23 InstallContribNbextensionsApp]\u001b[m Copying: /Users/levan/anaconda3/envs/edu/lib/python3.7/site-packages/jupyter_contrib_nbextensions/nbextensions/rubberband/main.css -> /Users/levan/Library/Jupyter/nbextensions/rubberband/main.css\n",
      "\u001b[32m[I 19:52:23 InstallContribNbextensionsApp]\u001b[m Copying: /Users/levan/anaconda3/envs/edu/lib/python3.7/site-packages/jupyter_contrib_nbextensions/nbextensions/rubberband/readme.md -> /Users/levan/Library/Jupyter/nbextensions/rubberband/readme.md\n",
      "\u001b[32m[I 19:52:23 InstallContribNbextensionsApp]\u001b[m Copying: /Users/levan/anaconda3/envs/edu/lib/python3.7/site-packages/jupyter_contrib_nbextensions/nbextensions/rubberband/main.js -> /Users/levan/Library/Jupyter/nbextensions/rubberband/main.js\n",
      "\u001b[32m[I 19:52:23 InstallContribNbextensionsApp]\u001b[m Copying: /Users/levan/anaconda3/envs/edu/lib/python3.7/site-packages/jupyter_contrib_nbextensions/nbextensions/rubberband/rubberband.yaml -> /Users/levan/Library/Jupyter/nbextensions/rubberband/rubberband.yaml\n",
      "\u001b[32m[I 19:52:23 InstallContribNbextensionsApp]\u001b[m - Validating: \u001b[32mOK\u001b[0m\n",
      "\u001b[32m[I 19:52:23 InstallContribNbextensionsApp]\u001b[m Installing /Users/levan/anaconda3/envs/edu/lib/python3.7/site-packages/jupyter_contrib_nbextensions/nbextensions/scroll_down -> scroll_down\n",
      "\u001b[32m[I 19:52:23 InstallContribNbextensionsApp]\u001b[m Making directory: /Users/levan/Library/Jupyter/nbextensions/scroll_down/\n",
      "\u001b[32m[I 19:52:23 InstallContribNbextensionsApp]\u001b[m Copying: /Users/levan/anaconda3/envs/edu/lib/python3.7/site-packages/jupyter_contrib_nbextensions/nbextensions/scroll_down/icon.png -> /Users/levan/Library/Jupyter/nbextensions/scroll_down/icon.png\n",
      "\u001b[32m[I 19:52:23 InstallContribNbextensionsApp]\u001b[m Copying: /Users/levan/anaconda3/envs/edu/lib/python3.7/site-packages/jupyter_contrib_nbextensions/nbextensions/scroll_down/config.yaml -> /Users/levan/Library/Jupyter/nbextensions/scroll_down/config.yaml\n",
      "\u001b[32m[I 19:52:23 InstallContribNbextensionsApp]\u001b[m Copying: /Users/levan/anaconda3/envs/edu/lib/python3.7/site-packages/jupyter_contrib_nbextensions/nbextensions/scroll_down/readme.md -> /Users/levan/Library/Jupyter/nbextensions/scroll_down/readme.md\n",
      "\u001b[32m[I 19:52:23 InstallContribNbextensionsApp]\u001b[m Copying: /Users/levan/anaconda3/envs/edu/lib/python3.7/site-packages/jupyter_contrib_nbextensions/nbextensions/scroll_down/main.js -> /Users/levan/Library/Jupyter/nbextensions/scroll_down/main.js\n",
      "\u001b[32m[I 19:52:23 InstallContribNbextensionsApp]\u001b[m - Validating: \u001b[32mOK\u001b[0m\n",
      "\u001b[32m[I 19:52:23 InstallContribNbextensionsApp]\u001b[m Installing /Users/levan/anaconda3/envs/edu/lib/python3.7/site-packages/jupyter_contrib_nbextensions/nbextensions/hinterland -> hinterland\n",
      "\u001b[32m[I 19:52:23 InstallContribNbextensionsApp]\u001b[m Making directory: /Users/levan/Library/Jupyter/nbextensions/hinterland/\n",
      "\u001b[32m[I 19:52:23 InstallContribNbextensionsApp]\u001b[m Copying: /Users/levan/anaconda3/envs/edu/lib/python3.7/site-packages/jupyter_contrib_nbextensions/nbextensions/hinterland/hinterland.yaml -> /Users/levan/Library/Jupyter/nbextensions/hinterland/hinterland.yaml\n",
      "\u001b[32m[I 19:52:23 InstallContribNbextensionsApp]\u001b[m Copying: /Users/levan/anaconda3/envs/edu/lib/python3.7/site-packages/jupyter_contrib_nbextensions/nbextensions/hinterland/hinterland.js -> /Users/levan/Library/Jupyter/nbextensions/hinterland/hinterland.js\n",
      "\u001b[32m[I 19:52:23 InstallContribNbextensionsApp]\u001b[m Copying: /Users/levan/anaconda3/envs/edu/lib/python3.7/site-packages/jupyter_contrib_nbextensions/nbextensions/hinterland/README.md -> /Users/levan/Library/Jupyter/nbextensions/hinterland/README.md\n",
      "\u001b[32m[I 19:52:23 InstallContribNbextensionsApp]\u001b[m - Validating: \u001b[32mOK\u001b[0m\n",
      "\u001b[32m[I 19:52:23 InstallContribNbextensionsApp]\u001b[m Installing /Users/levan/anaconda3/envs/edu/lib/python3.7/site-packages/jupyter_contrib_nbextensions/nbextensions/snippets -> snippets\n",
      "\u001b[32m[I 19:52:23 InstallContribNbextensionsApp]\u001b[m Making directory: /Users/levan/Library/Jupyter/nbextensions/snippets/\n",
      "\u001b[32m[I 19:52:23 InstallContribNbextensionsApp]\u001b[m Copying: /Users/levan/anaconda3/envs/edu/lib/python3.7/site-packages/jupyter_contrib_nbextensions/nbextensions/snippets/snippets.yaml -> /Users/levan/Library/Jupyter/nbextensions/snippets/snippets.yaml\n",
      "\u001b[32m[I 19:52:23 InstallContribNbextensionsApp]\u001b[m Copying: /Users/levan/anaconda3/envs/edu/lib/python3.7/site-packages/jupyter_contrib_nbextensions/nbextensions/snippets/snippets.json -> /Users/levan/Library/Jupyter/nbextensions/snippets/snippets.json\n",
      "\u001b[32m[I 19:52:23 InstallContribNbextensionsApp]\u001b[m Copying: /Users/levan/anaconda3/envs/edu/lib/python3.7/site-packages/jupyter_contrib_nbextensions/nbextensions/snippets/README.md -> /Users/levan/Library/Jupyter/nbextensions/snippets/README.md\n",
      "\u001b[32m[I 19:52:23 InstallContribNbextensionsApp]\u001b[m Copying: /Users/levan/anaconda3/envs/edu/lib/python3.7/site-packages/jupyter_contrib_nbextensions/nbextensions/snippets/main.js -> /Users/levan/Library/Jupyter/nbextensions/snippets/main.js\n",
      "\u001b[32m[I 19:52:23 InstallContribNbextensionsApp]\u001b[m Copying: /Users/levan/anaconda3/envs/edu/lib/python3.7/site-packages/jupyter_contrib_nbextensions/nbextensions/snippets/snippets-demo.gif -> /Users/levan/Library/Jupyter/nbextensions/snippets/snippets-demo.gif\n",
      "\u001b[32m[I 19:52:23 InstallContribNbextensionsApp]\u001b[m - Validating: \u001b[32mOK\u001b[0m\n",
      "\u001b[32m[I 19:52:23 InstallContribNbextensionsApp]\u001b[m Installing /Users/levan/anaconda3/envs/edu/lib/python3.7/site-packages/jupyter_contrib_nbextensions/nbextensions/toggle_all_line_numbers -> toggle_all_line_numbers\n",
      "\u001b[32m[I 19:52:23 InstallContribNbextensionsApp]\u001b[m Making directory: /Users/levan/Library/Jupyter/nbextensions/toggle_all_line_numbers/\n",
      "\u001b[32m[I 19:52:23 InstallContribNbextensionsApp]\u001b[m Copying: /Users/levan/anaconda3/envs/edu/lib/python3.7/site-packages/jupyter_contrib_nbextensions/nbextensions/toggle_all_line_numbers/icon.png -> /Users/levan/Library/Jupyter/nbextensions/toggle_all_line_numbers/icon.png\n",
      "\u001b[32m[I 19:52:23 InstallContribNbextensionsApp]\u001b[m Copying: /Users/levan/anaconda3/envs/edu/lib/python3.7/site-packages/jupyter_contrib_nbextensions/nbextensions/toggle_all_line_numbers/main.yaml -> /Users/levan/Library/Jupyter/nbextensions/toggle_all_line_numbers/main.yaml\n",
      "\u001b[32m[I 19:52:23 InstallContribNbextensionsApp]\u001b[m Copying: /Users/levan/anaconda3/envs/edu/lib/python3.7/site-packages/jupyter_contrib_nbextensions/nbextensions/toggle_all_line_numbers/readme.md -> /Users/levan/Library/Jupyter/nbextensions/toggle_all_line_numbers/readme.md\n",
      "\u001b[32m[I 19:52:23 InstallContribNbextensionsApp]\u001b[m Copying: /Users/levan/anaconda3/envs/edu/lib/python3.7/site-packages/jupyter_contrib_nbextensions/nbextensions/toggle_all_line_numbers/main.js -> /Users/levan/Library/Jupyter/nbextensions/toggle_all_line_numbers/main.js\n",
      "\u001b[32m[I 19:52:23 InstallContribNbextensionsApp]\u001b[m - Validating: \u001b[32mOK\u001b[0m\n",
      "\u001b[32m[I 19:52:23 InstallContribNbextensionsApp]\u001b[m Installing /Users/levan/anaconda3/envs/edu/lib/python3.7/site-packages/jupyter_contrib_nbextensions/nbextensions/notify -> notify\n",
      "\u001b[32m[I 19:52:23 InstallContribNbextensionsApp]\u001b[m Making directory: /Users/levan/Library/Jupyter/nbextensions/notify/\n",
      "\u001b[32m[I 19:52:23 InstallContribNbextensionsApp]\u001b[m Copying: /Users/levan/anaconda3/envs/edu/lib/python3.7/site-packages/jupyter_contrib_nbextensions/nbextensions/notify/notify.js -> /Users/levan/Library/Jupyter/nbextensions/notify/notify.js\n",
      "\u001b[32m[I 19:52:23 InstallContribNbextensionsApp]\u001b[m Copying: /Users/levan/anaconda3/envs/edu/lib/python3.7/site-packages/jupyter_contrib_nbextensions/nbextensions/notify/notify.mp3 -> /Users/levan/Library/Jupyter/nbextensions/notify/notify.mp3\n",
      "\u001b[32m[I 19:52:23 InstallContribNbextensionsApp]\u001b[m Copying: /Users/levan/anaconda3/envs/edu/lib/python3.7/site-packages/jupyter_contrib_nbextensions/nbextensions/notify/readme.md -> /Users/levan/Library/Jupyter/nbextensions/notify/readme.md\n",
      "\u001b[32m[I 19:52:23 InstallContribNbextensionsApp]\u001b[m Copying: /Users/levan/anaconda3/envs/edu/lib/python3.7/site-packages/jupyter_contrib_nbextensions/nbextensions/notify/notify.yaml -> /Users/levan/Library/Jupyter/nbextensions/notify/notify.yaml\n",
      "\u001b[32m[I 19:52:23 InstallContribNbextensionsApp]\u001b[m Copying: /Users/levan/anaconda3/envs/edu/lib/python3.7/site-packages/jupyter_contrib_nbextensions/nbextensions/notify/notification.png -> /Users/levan/Library/Jupyter/nbextensions/notify/notification.png\n",
      "\u001b[32m[I 19:52:23 InstallContribNbextensionsApp]\u001b[m - Validating: \u001b[32mOK\u001b[0m\n",
      "\u001b[32m[I 19:52:23 InstallContribNbextensionsApp]\u001b[m Installing /Users/levan/anaconda3/envs/edu/lib/python3.7/site-packages/jupyter_contrib_nbextensions/nbextensions/runtools -> runtools\n",
      "\u001b[32m[I 19:52:23 InstallContribNbextensionsApp]\u001b[m Making directory: /Users/levan/Library/Jupyter/nbextensions/runtools/\n",
      "\u001b[32m[I 19:52:23 InstallContribNbextensionsApp]\u001b[m Copying: /Users/levan/anaconda3/envs/edu/lib/python3.7/site-packages/jupyter_contrib_nbextensions/nbextensions/runtools/cellstate.js -> /Users/levan/Library/Jupyter/nbextensions/runtools/cellstate.js\n",
      "\u001b[32m[I 19:52:23 InstallContribNbextensionsApp]\u001b[m Copying: /Users/levan/anaconda3/envs/edu/lib/python3.7/site-packages/jupyter_contrib_nbextensions/nbextensions/runtools/icon.png -> /Users/levan/Library/Jupyter/nbextensions/runtools/icon.png\n",
      "\u001b[32m[I 19:52:23 InstallContribNbextensionsApp]\u001b[m Copying: /Users/levan/anaconda3/envs/edu/lib/python3.7/site-packages/jupyter_contrib_nbextensions/nbextensions/runtools/runtools_execute.png -> /Users/levan/Library/Jupyter/nbextensions/runtools/runtools_execute.png\n",
      "\u001b[32m[I 19:52:23 InstallContribNbextensionsApp]\u001b[m Copying: /Users/levan/anaconda3/envs/edu/lib/python3.7/site-packages/jupyter_contrib_nbextensions/nbextensions/runtools/annotations.odg -> /Users/levan/Library/Jupyter/nbextensions/runtools/annotations.odg\n",
      "\u001b[32m[I 19:52:23 InstallContribNbextensionsApp]\u001b[m Copying: /Users/levan/anaconda3/envs/edu/lib/python3.7/site-packages/jupyter_contrib_nbextensions/nbextensions/runtools/runtools.yaml -> /Users/levan/Library/Jupyter/nbextensions/runtools/runtools.yaml\n",
      "\u001b[32m[I 19:52:23 InstallContribNbextensionsApp]\u001b[m Copying: /Users/levan/anaconda3/envs/edu/lib/python3.7/site-packages/jupyter_contrib_nbextensions/nbextensions/runtools/main.css -> /Users/levan/Library/Jupyter/nbextensions/runtools/main.css\n",
      "\u001b[32m[I 19:52:23 InstallContribNbextensionsApp]\u001b[m Copying: /Users/levan/anaconda3/envs/edu/lib/python3.7/site-packages/jupyter_contrib_nbextensions/nbextensions/runtools/runtools_nb.png -> /Users/levan/Library/Jupyter/nbextensions/runtools/runtools_nb.png\n",
      "\u001b[32m[I 19:52:23 InstallContribNbextensionsApp]\u001b[m Copying: /Users/levan/anaconda3/envs/edu/lib/python3.7/site-packages/jupyter_contrib_nbextensions/nbextensions/runtools/readme.md -> /Users/levan/Library/Jupyter/nbextensions/runtools/readme.md\n",
      "\u001b[32m[I 19:52:23 InstallContribNbextensionsApp]\u001b[m Copying: /Users/levan/anaconda3/envs/edu/lib/python3.7/site-packages/jupyter_contrib_nbextensions/nbextensions/runtools/runtools_marker.png -> /Users/levan/Library/Jupyter/nbextensions/runtools/runtools_marker.png\n",
      "\u001b[32m[I 19:52:23 InstallContribNbextensionsApp]\u001b[m Copying: /Users/levan/anaconda3/envs/edu/lib/python3.7/site-packages/jupyter_contrib_nbextensions/nbextensions/runtools/main.js -> /Users/levan/Library/Jupyter/nbextensions/runtools/main.js\n",
      "\u001b[32m[I 19:52:23 InstallContribNbextensionsApp]\u001b[m Copying: /Users/levan/anaconda3/envs/edu/lib/python3.7/site-packages/jupyter_contrib_nbextensions/nbextensions/runtools/runtools_show_hide.png -> /Users/levan/Library/Jupyter/nbextensions/runtools/runtools_show_hide.png\n",
      "\u001b[32m[I 19:52:23 InstallContribNbextensionsApp]\u001b[m Copying: /Users/levan/anaconda3/envs/edu/lib/python3.7/site-packages/jupyter_contrib_nbextensions/nbextensions/runtools/runtools_lock.png -> /Users/levan/Library/Jupyter/nbextensions/runtools/runtools_lock.png\n",
      "\u001b[32m[I 19:52:23 InstallContribNbextensionsApp]\u001b[m Copying: /Users/levan/anaconda3/envs/edu/lib/python3.7/site-packages/jupyter_contrib_nbextensions/nbextensions/runtools/demo.gif -> /Users/levan/Library/Jupyter/nbextensions/runtools/demo.gif\n",
      "\u001b[32m[I 19:52:23 InstallContribNbextensionsApp]\u001b[m Copying: /Users/levan/anaconda3/envs/edu/lib/python3.7/site-packages/jupyter_contrib_nbextensions/nbextensions/runtools/gutter.css -> /Users/levan/Library/Jupyter/nbextensions/runtools/gutter.css\n",
      "\u001b[32m[I 19:52:23 InstallContribNbextensionsApp]\u001b[m - Validating: \u001b[32mOK\u001b[0m\n",
      "\u001b[32m[I 19:52:23 InstallContribNbextensionsApp]\u001b[m Installing /Users/levan/anaconda3/envs/edu/lib/python3.7/site-packages/jupyter_contrib_nbextensions/nbextensions/tree-filter -> tree-filter\n",
      "\u001b[32m[I 19:52:23 InstallContribNbextensionsApp]\u001b[m Making directory: /Users/levan/Library/Jupyter/nbextensions/tree-filter/\n",
      "\u001b[32m[I 19:52:23 InstallContribNbextensionsApp]\u001b[m Copying: /Users/levan/anaconda3/envs/edu/lib/python3.7/site-packages/jupyter_contrib_nbextensions/nbextensions/tree-filter/tree-filter.yaml -> /Users/levan/Library/Jupyter/nbextensions/tree-filter/tree-filter.yaml\n",
      "\u001b[32m[I 19:52:23 InstallContribNbextensionsApp]\u001b[m Copying: /Users/levan/anaconda3/envs/edu/lib/python3.7/site-packages/jupyter_contrib_nbextensions/nbextensions/tree-filter/index.js -> /Users/levan/Library/Jupyter/nbextensions/tree-filter/index.js\n",
      "\u001b[32m[I 19:52:23 InstallContribNbextensionsApp]\u001b[m Copying: /Users/levan/anaconda3/envs/edu/lib/python3.7/site-packages/jupyter_contrib_nbextensions/nbextensions/tree-filter/readme.md -> /Users/levan/Library/Jupyter/nbextensions/tree-filter/readme.md\n",
      "\u001b[32m[I 19:52:23 InstallContribNbextensionsApp]\u001b[m Copying: /Users/levan/anaconda3/envs/edu/lib/python3.7/site-packages/jupyter_contrib_nbextensions/nbextensions/tree-filter/demo.gif -> /Users/levan/Library/Jupyter/nbextensions/tree-filter/demo.gif\n",
      "\u001b[32m[I 19:52:23 InstallContribNbextensionsApp]\u001b[m - Validating: \u001b[32mOK\u001b[0m\n",
      "\u001b[32m[I 19:52:23 InstallContribNbextensionsApp]\u001b[m Installing /Users/levan/anaconda3/envs/edu/lib/python3.7/site-packages/jupyter_contrib_nbextensions/nbextensions/table_beautifier -> table_beautifier\n",
      "\u001b[32m[I 19:52:23 InstallContribNbextensionsApp]\u001b[m Making directory: /Users/levan/Library/Jupyter/nbextensions/table_beautifier/\n",
      "\u001b[32m[I 19:52:23 InstallContribNbextensionsApp]\u001b[m Copying: /Users/levan/anaconda3/envs/edu/lib/python3.7/site-packages/jupyter_contrib_nbextensions/nbextensions/table_beautifier/main.css -> /Users/levan/Library/Jupyter/nbextensions/table_beautifier/main.css\n",
      "\u001b[32m[I 19:52:23 InstallContribNbextensionsApp]\u001b[m Copying: /Users/levan/anaconda3/envs/edu/lib/python3.7/site-packages/jupyter_contrib_nbextensions/nbextensions/table_beautifier/README.md -> /Users/levan/Library/Jupyter/nbextensions/table_beautifier/README.md\n",
      "\u001b[32m[I 19:52:23 InstallContribNbextensionsApp]\u001b[m Copying: /Users/levan/anaconda3/envs/edu/lib/python3.7/site-packages/jupyter_contrib_nbextensions/nbextensions/table_beautifier/main.js -> /Users/levan/Library/Jupyter/nbextensions/table_beautifier/main.js\n",
      "\u001b[32m[I 19:52:23 InstallContribNbextensionsApp]\u001b[m Copying: /Users/levan/anaconda3/envs/edu/lib/python3.7/site-packages/jupyter_contrib_nbextensions/nbextensions/table_beautifier/table_beautifier.yaml -> /Users/levan/Library/Jupyter/nbextensions/table_beautifier/table_beautifier.yaml\n"
     ]
    },
    {
     "name": "stdout",
     "output_type": "stream",
     "text": [
      "\u001b[32m[I 19:52:23 InstallContribNbextensionsApp]\u001b[m - Validating: \u001b[32mOK\u001b[0m\r\n",
      "\u001b[32m[I 19:52:23 InstallContribNbextensionsApp]\u001b[m Installing /Users/levan/anaconda3/envs/edu/lib/python3.7/site-packages/jupyter_contrib_nbextensions/nbextensions/freeze -> freeze\r\n",
      "\u001b[32m[I 19:52:23 InstallContribNbextensionsApp]\u001b[m Making directory: /Users/levan/Library/Jupyter/nbextensions/freeze/\r\n",
      "\u001b[32m[I 19:52:23 InstallContribNbextensionsApp]\u001b[m Copying: /Users/levan/anaconda3/envs/edu/lib/python3.7/site-packages/jupyter_contrib_nbextensions/nbextensions/freeze/icon.png -> /Users/levan/Library/Jupyter/nbextensions/freeze/icon.png\r\n",
      "\u001b[32m[I 19:52:23 InstallContribNbextensionsApp]\u001b[m Copying: /Users/levan/anaconda3/envs/edu/lib/python3.7/site-packages/jupyter_contrib_nbextensions/nbextensions/freeze/config.yaml -> /Users/levan/Library/Jupyter/nbextensions/freeze/config.yaml\r\n",
      "\u001b[32m[I 19:52:23 InstallContribNbextensionsApp]\u001b[m Copying: /Users/levan/anaconda3/envs/edu/lib/python3.7/site-packages/jupyter_contrib_nbextensions/nbextensions/freeze/readme.md -> /Users/levan/Library/Jupyter/nbextensions/freeze/readme.md\r\n",
      "\u001b[32m[I 19:52:23 InstallContribNbextensionsApp]\u001b[m Copying: /Users/levan/anaconda3/envs/edu/lib/python3.7/site-packages/jupyter_contrib_nbextensions/nbextensions/freeze/main.js -> /Users/levan/Library/Jupyter/nbextensions/freeze/main.js\r\n",
      "\u001b[32m[I 19:52:23 InstallContribNbextensionsApp]\u001b[m - Validating: \u001b[32mOK\u001b[0m\r\n",
      "\u001b[32m[I 19:52:23 InstallContribNbextensionsApp]\u001b[m Installing /Users/levan/anaconda3/envs/edu/lib/python3.7/site-packages/jupyter_contrib_nbextensions/nbextensions/exercise2 -> exercise2\r\n",
      "\u001b[32m[I 19:52:23 InstallContribNbextensionsApp]\u001b[m Making directory: /Users/levan/Library/Jupyter/nbextensions/exercise2/\r\n",
      "\u001b[32m[I 19:52:23 InstallContribNbextensionsApp]\u001b[m Copying: /Users/levan/anaconda3/envs/edu/lib/python3.7/site-packages/jupyter_contrib_nbextensions/nbextensions/exercise2/icon.png -> /Users/levan/Library/Jupyter/nbextensions/exercise2/icon.png\r\n",
      "\u001b[32m[I 19:52:23 InstallContribNbextensionsApp]\u001b[m Copying: /Users/levan/anaconda3/envs/edu/lib/python3.7/site-packages/jupyter_contrib_nbextensions/nbextensions/exercise2/exercise2.yaml -> /Users/levan/Library/Jupyter/nbextensions/exercise2/exercise2.yaml\r\n",
      "\u001b[32m[I 19:52:23 InstallContribNbextensionsApp]\u001b[m Copying: /Users/levan/anaconda3/envs/edu/lib/python3.7/site-packages/jupyter_contrib_nbextensions/nbextensions/exercise2/main.css -> /Users/levan/Library/Jupyter/nbextensions/exercise2/main.css\r\n",
      "\u001b[32m[I 19:52:23 InstallContribNbextensionsApp]\u001b[m Copying: /Users/levan/anaconda3/envs/edu/lib/python3.7/site-packages/jupyter_contrib_nbextensions/nbextensions/exercise2/image.gif -> /Users/levan/Library/Jupyter/nbextensions/exercise2/image.gif\r\n",
      "\u001b[32m[I 19:52:23 InstallContribNbextensionsApp]\u001b[m Copying: /Users/levan/anaconda3/envs/edu/lib/python3.7/site-packages/jupyter_contrib_nbextensions/nbextensions/exercise2/readme.md -> /Users/levan/Library/Jupyter/nbextensions/exercise2/readme.md\r\n",
      "\u001b[32m[I 19:52:23 InstallContribNbextensionsApp]\u001b[m Copying: /Users/levan/anaconda3/envs/edu/lib/python3.7/site-packages/jupyter_contrib_nbextensions/nbextensions/exercise2/main.js -> /Users/levan/Library/Jupyter/nbextensions/exercise2/main.js\r\n",
      "\u001b[32m[I 19:52:23 InstallContribNbextensionsApp]\u001b[m - Validating: \u001b[32mOK\u001b[0m\r\n",
      "\u001b[32m[I 19:52:23 InstallContribNbextensionsApp]\u001b[m Installing /Users/levan/anaconda3/envs/edu/lib/python3.7/site-packages/jupyter_contrib_nbextensions/nbextensions/execution_dependencies -> execution_dependencies\r\n",
      "\u001b[32m[I 19:52:23 InstallContribNbextensionsApp]\u001b[m Making directory: /Users/levan/Library/Jupyter/nbextensions/execution_dependencies/\r\n",
      "\u001b[32m[I 19:52:23 InstallContribNbextensionsApp]\u001b[m Copying: /Users/levan/anaconda3/envs/edu/lib/python3.7/site-packages/jupyter_contrib_nbextensions/nbextensions/execution_dependencies/execution_dependencies.yml -> /Users/levan/Library/Jupyter/nbextensions/execution_dependencies/execution_dependencies.yml\r\n",
      "\u001b[32m[I 19:52:23 InstallContribNbextensionsApp]\u001b[m Copying: /Users/levan/anaconda3/envs/edu/lib/python3.7/site-packages/jupyter_contrib_nbextensions/nbextensions/execution_dependencies/README.md -> /Users/levan/Library/Jupyter/nbextensions/execution_dependencies/README.md\r\n",
      "\u001b[32m[I 19:52:23 InstallContribNbextensionsApp]\u001b[m Copying: /Users/levan/anaconda3/envs/edu/lib/python3.7/site-packages/jupyter_contrib_nbextensions/nbextensions/execution_dependencies/execution_dependencies.js -> /Users/levan/Library/Jupyter/nbextensions/execution_dependencies/execution_dependencies.js\r\n",
      "\u001b[32m[I 19:52:23 InstallContribNbextensionsApp]\u001b[m - Validating: \u001b[32mOK\u001b[0m\r\n",
      "\u001b[32m[I 19:52:23 InstallContribNbextensionsApp]\u001b[m Installing /Users/levan/anaconda3/envs/edu/lib/python3.7/site-packages/jupyter_contrib_nbextensions/nbextensions/skill -> skill\r\n",
      "\u001b[32m[I 19:52:23 InstallContribNbextensionsApp]\u001b[m Making directory: /Users/levan/Library/Jupyter/nbextensions/skill/\r\n",
      "\u001b[32m[I 19:52:23 InstallContribNbextensionsApp]\u001b[m Copying: /Users/levan/anaconda3/envs/edu/lib/python3.7/site-packages/jupyter_contrib_nbextensions/nbextensions/skill/skill.js -> /Users/levan/Library/Jupyter/nbextensions/skill/skill.js\r\n",
      "\u001b[32m[I 19:52:23 InstallContribNbextensionsApp]\u001b[m Copying: /Users/levan/anaconda3/envs/edu/lib/python3.7/site-packages/jupyter_contrib_nbextensions/nbextensions/skill/README.md -> /Users/levan/Library/Jupyter/nbextensions/skill/README.md\r\n",
      "\u001b[32m[I 19:52:23 InstallContribNbextensionsApp]\u001b[m Copying: /Users/levan/anaconda3/envs/edu/lib/python3.7/site-packages/jupyter_contrib_nbextensions/nbextensions/skill/main.js -> /Users/levan/Library/Jupyter/nbextensions/skill/main.js\r\n",
      "\u001b[32m[I 19:52:23 InstallContribNbextensionsApp]\u001b[m Copying: /Users/levan/anaconda3/envs/edu/lib/python3.7/site-packages/jupyter_contrib_nbextensions/nbextensions/skill/skill.yaml -> /Users/levan/Library/Jupyter/nbextensions/skill/skill.yaml\r\n",
      "\u001b[32m[I 19:52:23 InstallContribNbextensionsApp]\u001b[m - Validating: \u001b[32mOK\u001b[0m\r\n",
      "\u001b[32m[I 19:52:23 InstallContribNbextensionsApp]\u001b[m Installing /Users/levan/anaconda3/envs/edu/lib/python3.7/site-packages/jupyter_contrib_nbextensions/nbextensions/splitcell -> splitcell\r\n",
      "\u001b[32m[I 19:52:23 InstallContribNbextensionsApp]\u001b[m Making directory: /Users/levan/Library/Jupyter/nbextensions/splitcell/\r\n",
      "\u001b[32m[I 19:52:23 InstallContribNbextensionsApp]\u001b[m Copying: /Users/levan/anaconda3/envs/edu/lib/python3.7/site-packages/jupyter_contrib_nbextensions/nbextensions/splitcell/icon.png -> /Users/levan/Library/Jupyter/nbextensions/splitcell/icon.png\r\n",
      "\u001b[32m[I 19:52:23 InstallContribNbextensionsApp]\u001b[m Copying: /Users/levan/anaconda3/envs/edu/lib/python3.7/site-packages/jupyter_contrib_nbextensions/nbextensions/splitcell/readme.md -> /Users/levan/Library/Jupyter/nbextensions/splitcell/readme.md\r\n",
      "\u001b[32m[I 19:52:23 InstallContribNbextensionsApp]\u001b[m Copying: /Users/levan/anaconda3/envs/edu/lib/python3.7/site-packages/jupyter_contrib_nbextensions/nbextensions/splitcell/splitcell.yaml -> /Users/levan/Library/Jupyter/nbextensions/splitcell/splitcell.yaml\r\n",
      "\u001b[32m[I 19:52:23 InstallContribNbextensionsApp]\u001b[m Copying: /Users/levan/anaconda3/envs/edu/lib/python3.7/site-packages/jupyter_contrib_nbextensions/nbextensions/splitcell/splitcell.js -> /Users/levan/Library/Jupyter/nbextensions/splitcell/splitcell.js\r\n",
      "\u001b[32m[I 19:52:23 InstallContribNbextensionsApp]\u001b[m - Validating: \u001b[32mOK\u001b[0m\r\n",
      "\u001b[32m[I 19:52:23 InstallContribNbextensionsApp]\u001b[m Installing /Users/levan/anaconda3/envs/edu/lib/python3.7/site-packages/jupyter_contrib_nbextensions/nbextensions/autosavetime -> autosavetime\r\n",
      "\u001b[32m[I 19:52:23 InstallContribNbextensionsApp]\u001b[m Making directory: /Users/levan/Library/Jupyter/nbextensions/autosavetime/\r\n",
      "\u001b[32m[I 19:52:23 InstallContribNbextensionsApp]\u001b[m Copying: /Users/levan/anaconda3/envs/edu/lib/python3.7/site-packages/jupyter_contrib_nbextensions/nbextensions/autosavetime/icon.png -> /Users/levan/Library/Jupyter/nbextensions/autosavetime/icon.png\r\n",
      "\u001b[32m[I 19:52:23 InstallContribNbextensionsApp]\u001b[m Copying: /Users/levan/anaconda3/envs/edu/lib/python3.7/site-packages/jupyter_contrib_nbextensions/nbextensions/autosavetime/README.md -> /Users/levan/Library/Jupyter/nbextensions/autosavetime/README.md\r\n",
      "\u001b[32m[I 19:52:23 InstallContribNbextensionsApp]\u001b[m Copying: /Users/levan/anaconda3/envs/edu/lib/python3.7/site-packages/jupyter_contrib_nbextensions/nbextensions/autosavetime/autosavetime.yaml -> /Users/levan/Library/Jupyter/nbextensions/autosavetime/autosavetime.yaml\r\n",
      "\u001b[32m[I 19:52:23 InstallContribNbextensionsApp]\u001b[m Copying: /Users/levan/anaconda3/envs/edu/lib/python3.7/site-packages/jupyter_contrib_nbextensions/nbextensions/autosavetime/main.js -> /Users/levan/Library/Jupyter/nbextensions/autosavetime/main.js\r\n",
      "\u001b[32m[I 19:52:23 InstallContribNbextensionsApp]\u001b[m - Validating: \u001b[32mOK\u001b[0m\r\n",
      "\u001b[32m[I 19:52:23 InstallContribNbextensionsApp]\u001b[m Installing /Users/levan/anaconda3/envs/edu/lib/python3.7/site-packages/jupyter_contrib_nbextensions/nbextensions/select_keymap -> select_keymap\r\n",
      "\u001b[32m[I 19:52:23 InstallContribNbextensionsApp]\u001b[m Making directory: /Users/levan/Library/Jupyter/nbextensions/select_keymap/\r\n",
      "\u001b[32m[I 19:52:23 InstallContribNbextensionsApp]\u001b[m Copying: /Users/levan/anaconda3/envs/edu/lib/python3.7/site-packages/jupyter_contrib_nbextensions/nbextensions/select_keymap/select_keymap.png -> /Users/levan/Library/Jupyter/nbextensions/select_keymap/select_keymap.png\r\n",
      "\u001b[32m[I 19:52:23 InstallContribNbextensionsApp]\u001b[m Copying: /Users/levan/anaconda3/envs/edu/lib/python3.7/site-packages/jupyter_contrib_nbextensions/nbextensions/select_keymap/README.md -> /Users/levan/Library/Jupyter/nbextensions/select_keymap/README.md\r\n",
      "\u001b[32m[I 19:52:23 InstallContribNbextensionsApp]\u001b[m Copying: /Users/levan/anaconda3/envs/edu/lib/python3.7/site-packages/jupyter_contrib_nbextensions/nbextensions/select_keymap/main.js -> /Users/levan/Library/Jupyter/nbextensions/select_keymap/main.js\r\n",
      "\u001b[32m[I 19:52:23 InstallContribNbextensionsApp]\u001b[m Copying: /Users/levan/anaconda3/envs/edu/lib/python3.7/site-packages/jupyter_contrib_nbextensions/nbextensions/select_keymap/select_keymap.yaml -> /Users/levan/Library/Jupyter/nbextensions/select_keymap/select_keymap.yaml\r\n",
      "\u001b[32m[I 19:52:23 InstallContribNbextensionsApp]\u001b[m - Validating: \u001b[32mOK\u001b[0m\r\n",
      "\u001b[32m[I 19:52:23 InstallContribNbextensionsApp]\u001b[m Installing /Users/levan/anaconda3/envs/edu/lib/python3.7/site-packages/jupyter_contrib_nbextensions/nbextensions/livemdpreview -> livemdpreview\r\n",
      "\u001b[32m[I 19:52:23 InstallContribNbextensionsApp]\u001b[m Making directory: /Users/levan/Library/Jupyter/nbextensions/livemdpreview/\r\n",
      "\u001b[32m[I 19:52:23 InstallContribNbextensionsApp]\u001b[m Copying: /Users/levan/anaconda3/envs/edu/lib/python3.7/site-packages/jupyter_contrib_nbextensions/nbextensions/livemdpreview/livemdpreview.yml -> /Users/levan/Library/Jupyter/nbextensions/livemdpreview/livemdpreview.yml\r\n",
      "\u001b[32m[I 19:52:23 InstallContribNbextensionsApp]\u001b[m Copying: /Users/levan/anaconda3/envs/edu/lib/python3.7/site-packages/jupyter_contrib_nbextensions/nbextensions/livemdpreview/livemdpreview.js -> /Users/levan/Library/Jupyter/nbextensions/livemdpreview/livemdpreview.js\r\n",
      "\u001b[32m[I 19:52:23 InstallContribNbextensionsApp]\u001b[m - Validating: \u001b[32mOK\u001b[0m\r\n",
      "\u001b[32m[I 19:52:23 InstallContribNbextensionsApp]\u001b[m Installing /Users/levan/anaconda3/envs/edu/lib/python3.7/site-packages/jupyter_contrib_nbextensions/nbextensions/gist_it -> gist_it\r\n",
      "\u001b[32m[I 19:52:23 InstallContribNbextensionsApp]\u001b[m Making directory: /Users/levan/Library/Jupyter/nbextensions/gist_it/\r\n",
      "\u001b[32m[I 19:52:23 InstallContribNbextensionsApp]\u001b[m Copying: /Users/levan/anaconda3/envs/edu/lib/python3.7/site-packages/jupyter_contrib_nbextensions/nbextensions/gist_it/icon.png -> /Users/levan/Library/Jupyter/nbextensions/gist_it/icon.png\r\n",
      "\u001b[32m[I 19:52:23 InstallContribNbextensionsApp]\u001b[m Copying: /Users/levan/anaconda3/envs/edu/lib/python3.7/site-packages/jupyter_contrib_nbextensions/nbextensions/gist_it/gist_it.yaml -> /Users/levan/Library/Jupyter/nbextensions/gist_it/gist_it.yaml\r\n",
      "\u001b[32m[I 19:52:23 InstallContribNbextensionsApp]\u001b[m Copying: /Users/levan/anaconda3/envs/edu/lib/python3.7/site-packages/jupyter_contrib_nbextensions/nbextensions/gist_it/readme.md -> /Users/levan/Library/Jupyter/nbextensions/gist_it/readme.md\r\n",
      "\u001b[32m[I 19:52:23 InstallContribNbextensionsApp]\u001b[m Copying: /Users/levan/anaconda3/envs/edu/lib/python3.7/site-packages/jupyter_contrib_nbextensions/nbextensions/gist_it/main.js -> /Users/levan/Library/Jupyter/nbextensions/gist_it/main.js\r\n",
      "\u001b[32m[I 19:52:23 InstallContribNbextensionsApp]\u001b[m - Validating: \u001b[32mOK\u001b[0m\r\n",
      "\u001b[32m[I 19:52:23 InstallContribNbextensionsApp]\u001b[m Installing /Users/levan/anaconda3/envs/edu/lib/python3.7/site-packages/jupyter_contrib_nbextensions/nbextensions/cell_filter -> cell_filter\r\n",
      "\u001b[32m[I 19:52:23 InstallContribNbextensionsApp]\u001b[m Making directory: /Users/levan/Library/Jupyter/nbextensions/cell_filter/\r\n",
      "\u001b[32m[I 19:52:23 InstallContribNbextensionsApp]\u001b[m Copying: /Users/levan/anaconda3/envs/edu/lib/python3.7/site-packages/jupyter_contrib_nbextensions/nbextensions/cell_filter/cell_filter.yml -> /Users/levan/Library/Jupyter/nbextensions/cell_filter/cell_filter.yml\r\n",
      "\u001b[32m[I 19:52:23 InstallContribNbextensionsApp]\u001b[m Copying: /Users/levan/anaconda3/envs/edu/lib/python3.7/site-packages/jupyter_contrib_nbextensions/nbextensions/cell_filter/cell_filter.js -> /Users/levan/Library/Jupyter/nbextensions/cell_filter/cell_filter.js\r\n",
      "\u001b[32m[I 19:52:23 InstallContribNbextensionsApp]\u001b[m Copying: /Users/levan/anaconda3/envs/edu/lib/python3.7/site-packages/jupyter_contrib_nbextensions/nbextensions/cell_filter/README.md -> /Users/levan/Library/Jupyter/nbextensions/cell_filter/README.md\r\n",
      "\u001b[32m[I 19:52:23 InstallContribNbextensionsApp]\u001b[m - Validating: \u001b[32mOK\u001b[0m\r\n",
      "\u001b[32m[I 19:52:23 InstallContribNbextensionsApp]\u001b[m Installing /Users/levan/anaconda3/envs/edu/lib/python3.7/site-packages/jupyter_contrib_nbextensions/nbextensions/scratchpad -> scratchpad\r\n",
      "\u001b[32m[I 19:52:23 InstallContribNbextensionsApp]\u001b[m Making directory: /Users/levan/Library/Jupyter/nbextensions/scratchpad/\r\n",
      "\u001b[32m[I 19:52:23 InstallContribNbextensionsApp]\u001b[m Copying: /Users/levan/anaconda3/envs/edu/lib/python3.7/site-packages/jupyter_contrib_nbextensions/nbextensions/scratchpad/LICENSE -> /Users/levan/Library/Jupyter/nbextensions/scratchpad/LICENSE\r\n",
      "\u001b[32m[I 19:52:23 InstallContribNbextensionsApp]\u001b[m Copying: /Users/levan/anaconda3/envs/edu/lib/python3.7/site-packages/jupyter_contrib_nbextensions/nbextensions/scratchpad/scratchpad.yaml -> /Users/levan/Library/Jupyter/nbextensions/scratchpad/scratchpad.yaml\r\n",
      "\u001b[32m[I 19:52:23 InstallContribNbextensionsApp]\u001b[m Copying: /Users/levan/anaconda3/envs/edu/lib/python3.7/site-packages/jupyter_contrib_nbextensions/nbextensions/scratchpad/README.md -> /Users/levan/Library/Jupyter/nbextensions/scratchpad/README.md\r\n",
      "\u001b[32m[I 19:52:23 InstallContribNbextensionsApp]\u001b[m Copying: /Users/levan/anaconda3/envs/edu/lib/python3.7/site-packages/jupyter_contrib_nbextensions/nbextensions/scratchpad/main.js -> /Users/levan/Library/Jupyter/nbextensions/scratchpad/main.js\r\n",
      "\u001b[32m[I 19:52:23 InstallContribNbextensionsApp]\u001b[m Copying: /Users/levan/anaconda3/envs/edu/lib/python3.7/site-packages/jupyter_contrib_nbextensions/nbextensions/scratchpad/scratchpad.css -> /Users/levan/Library/Jupyter/nbextensions/scratchpad/scratchpad.css\r\n",
      "\u001b[32m[I 19:52:23 InstallContribNbextensionsApp]\u001b[m Copying: /Users/levan/anaconda3/envs/edu/lib/python3.7/site-packages/jupyter_contrib_nbextensions/nbextensions/scratchpad/demo.gif -> /Users/levan/Library/Jupyter/nbextensions/scratchpad/demo.gif\r\n",
      "\u001b[32m[I 19:52:23 InstallContribNbextensionsApp]\u001b[m - Validating: \u001b[32mOK\u001b[0m\r\n",
      "\u001b[32m[I 19:52:23 InstallContribNbextensionsApp]\u001b[m Installing /Users/levan/anaconda3/envs/edu/lib/python3.7/site-packages/jupyter_contrib_nbextensions/nbextensions/toc2 -> toc2\r\n",
      "\u001b[32m[I 19:52:23 InstallContribNbextensionsApp]\u001b[m Making directory: /Users/levan/Library/Jupyter/nbextensions/toc2/\r\n",
      "\u001b[32m[I 19:52:23 InstallContribNbextensionsApp]\u001b[m Copying: /Users/levan/anaconda3/envs/edu/lib/python3.7/site-packages/jupyter_contrib_nbextensions/nbextensions/toc2/toc2.yaml -> /Users/levan/Library/Jupyter/nbextensions/toc2/toc2.yaml\r\n",
      "\u001b[32m[I 19:52:23 InstallContribNbextensionsApp]\u001b[m Copying: /Users/levan/anaconda3/envs/edu/lib/python3.7/site-packages/jupyter_contrib_nbextensions/nbextensions/toc2/icon.png -> /Users/levan/Library/Jupyter/nbextensions/toc2/icon.png\r\n",
      "\u001b[32m[I 19:52:23 InstallContribNbextensionsApp]\u001b[m Copying: /Users/levan/anaconda3/envs/edu/lib/python3.7/site-packages/jupyter_contrib_nbextensions/nbextensions/toc2/demo_dark.png -> /Users/levan/Library/Jupyter/nbextensions/toc2/demo_dark.png\r\n",
      "\u001b[32m[I 19:52:23 InstallContribNbextensionsApp]\u001b[m Copying: /Users/levan/anaconda3/envs/edu/lib/python3.7/site-packages/jupyter_contrib_nbextensions/nbextensions/toc2/main.css -> /Users/levan/Library/Jupyter/nbextensions/toc2/main.css\r\n",
      "\u001b[32m[I 19:52:23 InstallContribNbextensionsApp]\u001b[m Copying: /Users/levan/anaconda3/envs/edu/lib/python3.7/site-packages/jupyter_contrib_nbextensions/nbextensions/toc2/README.md -> /Users/levan/Library/Jupyter/nbextensions/toc2/README.md\r\n",
      "\u001b[32m[I 19:52:23 InstallContribNbextensionsApp]\u001b[m Copying: /Users/levan/anaconda3/envs/edu/lib/python3.7/site-packages/jupyter_contrib_nbextensions/nbextensions/toc2/main.js -> /Users/levan/Library/Jupyter/nbextensions/toc2/main.js\r\n",
      "\u001b[32m[I 19:52:23 InstallContribNbextensionsApp]\u001b[m Copying: /Users/levan/anaconda3/envs/edu/lib/python3.7/site-packages/jupyter_contrib_nbextensions/nbextensions/toc2/demo3.gif -> /Users/levan/Library/Jupyter/nbextensions/toc2/demo3.gif\r\n",
      "\u001b[32m[I 19:52:23 InstallContribNbextensionsApp]\u001b[m Copying: /Users/levan/anaconda3/envs/edu/lib/python3.7/site-packages/jupyter_contrib_nbextensions/nbextensions/toc2/demo2.gif -> /Users/levan/Library/Jupyter/nbextensions/toc2/demo2.gif\r\n",
      "\u001b[32m[I 19:52:23 InstallContribNbextensionsApp]\u001b[m Copying: /Users/levan/anaconda3/envs/edu/lib/python3.7/site-packages/jupyter_contrib_nbextensions/nbextensions/toc2/toc2.js -> /Users/levan/Library/Jupyter/nbextensions/toc2/toc2.js\r\n",
      "\u001b[32m[I 19:52:23 InstallContribNbextensionsApp]\u001b[m Copying: /Users/levan/anaconda3/envs/edu/lib/python3.7/site-packages/jupyter_contrib_nbextensions/nbextensions/toc2/demo.gif -> /Users/levan/Library/Jupyter/nbextensions/toc2/demo.gif\r\n",
      "\u001b[32m[I 19:52:23 InstallContribNbextensionsApp]\u001b[m Copying: /Users/levan/anaconda3/envs/edu/lib/python3.7/site-packages/jupyter_contrib_nbextensions/nbextensions/toc2/image.png -> /Users/levan/Library/Jupyter/nbextensions/toc2/image.png\r\n",
      "\u001b[32m[I 19:52:23 InstallContribNbextensionsApp]\u001b[m - Validating: \u001b[32mOK\u001b[0m\r\n",
      "\u001b[32m[I 19:52:23 InstallContribNbextensionsApp]\u001b[m Installing /Users/levan/anaconda3/envs/edu/lib/python3.7/site-packages/jupyter_contrib_nbextensions/nbextensions/nbTranslate -> nbTranslate\r\n",
      "\u001b[32m[I 19:52:23 InstallContribNbextensionsApp]\u001b[m Making directory: /Users/levan/Library/Jupyter/nbextensions/nbTranslate/\r\n",
      "\u001b[32m[I 19:52:23 InstallContribNbextensionsApp]\u001b[m Copying: /Users/levan/anaconda3/envs/edu/lib/python3.7/site-packages/jupyter_contrib_nbextensions/nbextensions/nbTranslate/nbTranslate.yaml -> /Users/levan/Library/Jupyter/nbextensions/nbTranslate/nbTranslate.yaml\r\n",
      "\u001b[32m[I 19:52:23 InstallContribNbextensionsApp]\u001b[m Copying: /Users/levan/anaconda3/envs/edu/lib/python3.7/site-packages/jupyter_contrib_nbextensions/nbextensions/nbTranslate/nbTranslate.js -> /Users/levan/Library/Jupyter/nbextensions/nbTranslate/nbTranslate.js\r\n"
     ]
    },
    {
     "name": "stdout",
     "output_type": "stream",
     "text": [
      "\u001b[32m[I 19:52:23 InstallContribNbextensionsApp]\u001b[m Copying: /Users/levan/anaconda3/envs/edu/lib/python3.7/site-packages/jupyter_contrib_nbextensions/nbextensions/nbTranslate/README.md -> /Users/levan/Library/Jupyter/nbextensions/nbTranslate/README.md\r\n",
      "\u001b[32m[I 19:52:23 InstallContribNbextensionsApp]\u001b[m Copying: /Users/levan/anaconda3/envs/edu/lib/python3.7/site-packages/jupyter_contrib_nbextensions/nbextensions/nbTranslate/main.js -> /Users/levan/Library/Jupyter/nbextensions/nbTranslate/main.js\r\n",
      "\u001b[32m[I 19:52:23 InstallContribNbextensionsApp]\u001b[m Copying: /Users/levan/anaconda3/envs/edu/lib/python3.7/site-packages/jupyter_contrib_nbextensions/nbextensions/nbTranslate/demo1.gif -> /Users/levan/Library/Jupyter/nbextensions/nbTranslate/demo1.gif\r\n",
      "\u001b[32m[I 19:52:23 InstallContribNbextensionsApp]\u001b[m Copying: /Users/levan/anaconda3/envs/edu/lib/python3.7/site-packages/jupyter_contrib_nbextensions/nbextensions/nbTranslate/demo2.gif -> /Users/levan/Library/Jupyter/nbextensions/nbTranslate/demo2.gif\r\n",
      "\u001b[32m[I 19:52:23 InstallContribNbextensionsApp]\u001b[m Copying: /Users/levan/anaconda3/envs/edu/lib/python3.7/site-packages/jupyter_contrib_nbextensions/nbextensions/nbTranslate/languages.js -> /Users/levan/Library/Jupyter/nbextensions/nbTranslate/languages.js\r\n",
      "\u001b[32m[I 19:52:23 InstallContribNbextensionsApp]\u001b[m Copying: /Users/levan/anaconda3/envs/edu/lib/python3.7/site-packages/jupyter_contrib_nbextensions/nbextensions/nbTranslate/mutils.js -> /Users/levan/Library/Jupyter/nbextensions/nbTranslate/mutils.js\r\n",
      "\u001b[32m[I 19:52:23 InstallContribNbextensionsApp]\u001b[m - Validating: \u001b[32mOK\u001b[0m\r\n",
      "\u001b[32m[I 19:52:23 InstallContribNbextensionsApp]\u001b[m Installing /Users/levan/anaconda3/envs/edu/lib/python3.7/site-packages/jupyter_contrib_nbextensions/nbextensions/equation-numbering -> equation-numbering\r\n",
      "\u001b[32m[I 19:52:23 InstallContribNbextensionsApp]\u001b[m Making directory: /Users/levan/Library/Jupyter/nbextensions/equation-numbering/\r\n",
      "\u001b[32m[I 19:52:23 InstallContribNbextensionsApp]\u001b[m Copying: /Users/levan/anaconda3/envs/edu/lib/python3.7/site-packages/jupyter_contrib_nbextensions/nbextensions/equation-numbering/icon.png -> /Users/levan/Library/Jupyter/nbextensions/equation-numbering/icon.png\r\n",
      "\u001b[32m[I 19:52:23 InstallContribNbextensionsApp]\u001b[m Copying: /Users/levan/anaconda3/envs/edu/lib/python3.7/site-packages/jupyter_contrib_nbextensions/nbextensions/equation-numbering/readme.md -> /Users/levan/Library/Jupyter/nbextensions/equation-numbering/readme.md\r\n",
      "\u001b[32m[I 19:52:23 InstallContribNbextensionsApp]\u001b[m Copying: /Users/levan/anaconda3/envs/edu/lib/python3.7/site-packages/jupyter_contrib_nbextensions/nbextensions/equation-numbering/main.js -> /Users/levan/Library/Jupyter/nbextensions/equation-numbering/main.js\r\n",
      "\u001b[32m[I 19:52:23 InstallContribNbextensionsApp]\u001b[m Copying: /Users/levan/anaconda3/envs/edu/lib/python3.7/site-packages/jupyter_contrib_nbextensions/nbextensions/equation-numbering/info.yaml -> /Users/levan/Library/Jupyter/nbextensions/equation-numbering/info.yaml\r\n",
      "\u001b[32m[I 19:52:23 InstallContribNbextensionsApp]\u001b[m Copying: /Users/levan/anaconda3/envs/edu/lib/python3.7/site-packages/jupyter_contrib_nbextensions/nbextensions/equation-numbering/button.png -> /Users/levan/Library/Jupyter/nbextensions/equation-numbering/button.png\r\n",
      "\u001b[32m[I 19:52:23 InstallContribNbextensionsApp]\u001b[m - Validating: \u001b[32mOK\u001b[0m\r\n",
      "\u001b[32m[I 19:52:23 InstallContribNbextensionsApp]\u001b[m Installing /Users/levan/anaconda3/envs/edu/lib/python3.7/site-packages/jupyter_contrib_nbextensions/nbextensions/navigation-hotkeys -> navigation-hotkeys\r\n",
      "\u001b[32m[I 19:52:23 InstallContribNbextensionsApp]\u001b[m Making directory: /Users/levan/Library/Jupyter/nbextensions/navigation-hotkeys/\r\n",
      "\u001b[32m[I 19:52:23 InstallContribNbextensionsApp]\u001b[m Copying: /Users/levan/anaconda3/envs/edu/lib/python3.7/site-packages/jupyter_contrib_nbextensions/nbextensions/navigation-hotkeys/icon.png -> /Users/levan/Library/Jupyter/nbextensions/navigation-hotkeys/icon.png\r\n",
      "\u001b[32m[I 19:52:23 InstallContribNbextensionsApp]\u001b[m Copying: /Users/levan/anaconda3/envs/edu/lib/python3.7/site-packages/jupyter_contrib_nbextensions/nbextensions/navigation-hotkeys/readme.md -> /Users/levan/Library/Jupyter/nbextensions/navigation-hotkeys/readme.md\r\n",
      "\u001b[32m[I 19:52:23 InstallContribNbextensionsApp]\u001b[m Copying: /Users/levan/anaconda3/envs/edu/lib/python3.7/site-packages/jupyter_contrib_nbextensions/nbextensions/navigation-hotkeys/main.js -> /Users/levan/Library/Jupyter/nbextensions/navigation-hotkeys/main.js\r\n",
      "\u001b[32m[I 19:52:23 InstallContribNbextensionsApp]\u001b[m Copying: /Users/levan/anaconda3/envs/edu/lib/python3.7/site-packages/jupyter_contrib_nbextensions/nbextensions/navigation-hotkeys/hotkeys.yaml -> /Users/levan/Library/Jupyter/nbextensions/navigation-hotkeys/hotkeys.yaml\r\n",
      "\u001b[32m[I 19:52:23 InstallContribNbextensionsApp]\u001b[m - Validating: \u001b[32mOK\u001b[0m\r\n",
      "\u001b[32m[I 19:52:23 InstallContribNbextensionsApp]\u001b[m Installing /Users/levan/anaconda3/envs/edu/lib/python3.7/site-packages/jupyter_contrib_nbextensions/nbextensions/snippets_menu -> snippets_menu\r\n",
      "\u001b[32m[I 19:52:23 InstallContribNbextensionsApp]\u001b[m Making directory: /Users/levan/Library/Jupyter/nbextensions/snippets_menu/\r\n",
      "\u001b[32m[I 19:52:23 InstallContribNbextensionsApp]\u001b[m Copying: /Users/levan/anaconda3/envs/edu/lib/python3.7/site-packages/jupyter_contrib_nbextensions/nbextensions/snippets_menu/snippets_menu.css -> /Users/levan/Library/Jupyter/nbextensions/snippets_menu/snippets_menu.css\r\n",
      "\u001b[32m[I 19:52:23 InstallContribNbextensionsApp]\u001b[m Copying: /Users/levan/anaconda3/envs/edu/lib/python3.7/site-packages/jupyter_contrib_nbextensions/nbextensions/snippets_menu/snippets_submenu_python.js -> /Users/levan/Library/Jupyter/nbextensions/snippets_menu/snippets_submenu_python.js\r\n",
      "\u001b[32m[I 19:52:23 InstallContribNbextensionsApp]\u001b[m Copying: /Users/levan/anaconda3/envs/edu/lib/python3.7/site-packages/jupyter_contrib_nbextensions/nbextensions/snippets_menu/config.yaml -> /Users/levan/Library/Jupyter/nbextensions/snippets_menu/config.yaml\r\n",
      "\u001b[32m[I 19:52:23 InstallContribNbextensionsApp]\u001b[m Copying: /Users/levan/anaconda3/envs/edu/lib/python3.7/site-packages/jupyter_contrib_nbextensions/nbextensions/snippets_menu/readme.md -> /Users/levan/Library/Jupyter/nbextensions/snippets_menu/readme.md\r\n",
      "\u001b[32m[I 19:52:24 InstallContribNbextensionsApp]\u001b[m Copying: /Users/levan/anaconda3/envs/edu/lib/python3.7/site-packages/jupyter_contrib_nbextensions/nbextensions/snippets_menu/main.js -> /Users/levan/Library/Jupyter/nbextensions/snippets_menu/main.js\r\n",
      "\u001b[32m[I 19:52:24 InstallContribNbextensionsApp]\u001b[m Copying: /Users/levan/anaconda3/envs/edu/lib/python3.7/site-packages/jupyter_contrib_nbextensions/nbextensions/snippets_menu/snippets_submenu_markdown.js -> /Users/levan/Library/Jupyter/nbextensions/snippets_menu/snippets_submenu_markdown.js\r\n",
      "\u001b[32m[I 19:52:24 InstallContribNbextensionsApp]\u001b[m Copying: /Users/levan/anaconda3/envs/edu/lib/python3.7/site-packages/jupyter_contrib_nbextensions/nbextensions/snippets_menu/thumbnail.png -> /Users/levan/Library/Jupyter/nbextensions/snippets_menu/thumbnail.png\r\n",
      "\u001b[32m[I 19:52:24 InstallContribNbextensionsApp]\u001b[m Copying: /Users/levan/anaconda3/envs/edu/lib/python3.7/site-packages/jupyter_contrib_nbextensions/nbextensions/snippets_menu/screenshot1.png -> /Users/levan/Library/Jupyter/nbextensions/snippets_menu/screenshot1.png\r\n",
      "\u001b[32m[I 19:52:24 InstallContribNbextensionsApp]\u001b[m Copying: /Users/levan/anaconda3/envs/edu/lib/python3.7/site-packages/jupyter_contrib_nbextensions/nbextensions/snippets_menu/screenshot2.png -> /Users/levan/Library/Jupyter/nbextensions/snippets_menu/screenshot2.png\r\n",
      "\u001b[32m[I 19:52:24 InstallContribNbextensionsApp]\u001b[m Copying: /Users/levan/anaconda3/envs/edu/lib/python3.7/site-packages/jupyter_contrib_nbextensions/nbextensions/snippets_menu/screenshot3.png -> /Users/levan/Library/Jupyter/nbextensions/snippets_menu/screenshot3.png\r\n",
      "\u001b[32m[I 19:52:24 InstallContribNbextensionsApp]\u001b[m Copying: /Users/levan/anaconda3/envs/edu/lib/python3.7/site-packages/jupyter_contrib_nbextensions/nbextensions/snippets_menu/examples_for_custom.js -> /Users/levan/Library/Jupyter/nbextensions/snippets_menu/examples_for_custom.js\r\n",
      "\u001b[32m[I 19:52:24 InstallContribNbextensionsApp]\u001b[m Making directory: /Users/levan/Library/Jupyter/nbextensions/snippets_menu/snippets_submenus_python\r\n",
      "\u001b[32m[I 19:52:24 InstallContribNbextensionsApp]\u001b[m Copying: /Users/levan/anaconda3/envs/edu/lib/python3.7/site-packages/jupyter_contrib_nbextensions/nbextensions/snippets_menu/snippets_submenus_python/numpy_ufuncs.js -> /Users/levan/Library/Jupyter/nbextensions/snippets_menu/snippets_submenus_python/numpy_ufuncs.js\r\n",
      "\u001b[32m[I 19:52:24 InstallContribNbextensionsApp]\u001b[m Copying: /Users/levan/anaconda3/envs/edu/lib/python3.7/site-packages/jupyter_contrib_nbextensions/nbextensions/snippets_menu/snippets_submenus_python/numba.js -> /Users/levan/Library/Jupyter/nbextensions/snippets_menu/snippets_submenus_python/numba.js\r\n",
      "\u001b[32m[I 19:52:24 InstallContribNbextensionsApp]\u001b[m Copying: /Users/levan/anaconda3/envs/edu/lib/python3.7/site-packages/jupyter_contrib_nbextensions/nbextensions/snippets_menu/snippets_submenus_python/sympy_assumptions.js -> /Users/levan/Library/Jupyter/nbextensions/snippets_menu/snippets_submenus_python/sympy_assumptions.js\r\n",
      "\u001b[32m[I 19:52:24 InstallContribNbextensionsApp]\u001b[m Copying: /Users/levan/anaconda3/envs/edu/lib/python3.7/site-packages/jupyter_contrib_nbextensions/nbextensions/snippets_menu/snippets_submenus_python/sympy.js -> /Users/levan/Library/Jupyter/nbextensions/snippets_menu/snippets_submenus_python/sympy.js\r\n",
      "\u001b[32m[I 19:52:24 InstallContribNbextensionsApp]\u001b[m Copying: /Users/levan/anaconda3/envs/edu/lib/python3.7/site-packages/jupyter_contrib_nbextensions/nbextensions/snippets_menu/snippets_submenus_python/numpy.js -> /Users/levan/Library/Jupyter/nbextensions/snippets_menu/snippets_submenus_python/numpy.js\r\n",
      "\u001b[32m[I 19:52:24 InstallContribNbextensionsApp]\u001b[m Copying: /Users/levan/anaconda3/envs/edu/lib/python3.7/site-packages/jupyter_contrib_nbextensions/nbextensions/snippets_menu/snippets_submenus_python/astropy.js -> /Users/levan/Library/Jupyter/nbextensions/snippets_menu/snippets_submenus_python/astropy.js\r\n",
      "\u001b[32m[I 19:52:24 InstallContribNbextensionsApp]\u001b[m Copying: /Users/levan/anaconda3/envs/edu/lib/python3.7/site-packages/jupyter_contrib_nbextensions/nbextensions/snippets_menu/snippets_submenus_python/pandas.js -> /Users/levan/Library/Jupyter/nbextensions/snippets_menu/snippets_submenus_python/pandas.js\r\n",
      "\u001b[32m[I 19:52:24 InstallContribNbextensionsApp]\u001b[m Copying: /Users/levan/anaconda3/envs/edu/lib/python3.7/site-packages/jupyter_contrib_nbextensions/nbextensions/snippets_menu/snippets_submenus_python/numpy_polynomial.js -> /Users/levan/Library/Jupyter/nbextensions/snippets_menu/snippets_submenus_python/numpy_polynomial.js\r\n",
      "\u001b[32m[I 19:52:24 InstallContribNbextensionsApp]\u001b[m Copying: /Users/levan/anaconda3/envs/edu/lib/python3.7/site-packages/jupyter_contrib_nbextensions/nbextensions/snippets_menu/snippets_submenus_python/scipy_constants.js -> /Users/levan/Library/Jupyter/nbextensions/snippets_menu/snippets_submenus_python/scipy_constants.js\r\n",
      "\u001b[32m[I 19:52:24 InstallContribNbextensionsApp]\u001b[m Copying: /Users/levan/anaconda3/envs/edu/lib/python3.7/site-packages/jupyter_contrib_nbextensions/nbextensions/snippets_menu/snippets_submenus_python/matplotlib.js -> /Users/levan/Library/Jupyter/nbextensions/snippets_menu/snippets_submenus_python/matplotlib.js\r\n",
      "\u001b[32m[I 19:52:24 InstallContribNbextensionsApp]\u001b[m Copying: /Users/levan/anaconda3/envs/edu/lib/python3.7/site-packages/jupyter_contrib_nbextensions/nbextensions/snippets_menu/snippets_submenus_python/sympy_functions.js -> /Users/levan/Library/Jupyter/nbextensions/snippets_menu/snippets_submenus_python/sympy_functions.js\r\n",
      "\u001b[32m[I 19:52:24 InstallContribNbextensionsApp]\u001b[m Copying: /Users/levan/anaconda3/envs/edu/lib/python3.7/site-packages/jupyter_contrib_nbextensions/nbextensions/snippets_menu/snippets_submenus_python/h5py.js -> /Users/levan/Library/Jupyter/nbextensions/snippets_menu/snippets_submenus_python/h5py.js\r\n",
      "\u001b[32m[I 19:52:24 InstallContribNbextensionsApp]\u001b[m Copying: /Users/levan/anaconda3/envs/edu/lib/python3.7/site-packages/jupyter_contrib_nbextensions/nbextensions/snippets_menu/snippets_submenus_python/scipy_special.js -> /Users/levan/Library/Jupyter/nbextensions/snippets_menu/snippets_submenus_python/scipy_special.js\r\n",
      "\u001b[32m[I 19:52:24 InstallContribNbextensionsApp]\u001b[m Copying: /Users/levan/anaconda3/envs/edu/lib/python3.7/site-packages/jupyter_contrib_nbextensions/nbextensions/snippets_menu/snippets_submenus_python/python_regex.js -> /Users/levan/Library/Jupyter/nbextensions/snippets_menu/snippets_submenus_python/python_regex.js\r\n",
      "\u001b[32m[I 19:52:24 InstallContribNbextensionsApp]\u001b[m Copying: /Users/levan/anaconda3/envs/edu/lib/python3.7/site-packages/jupyter_contrib_nbextensions/nbextensions/snippets_menu/snippets_submenus_python/python.js -> /Users/levan/Library/Jupyter/nbextensions/snippets_menu/snippets_submenus_python/python.js\r\n",
      "\u001b[32m[I 19:52:24 InstallContribNbextensionsApp]\u001b[m Copying: /Users/levan/anaconda3/envs/edu/lib/python3.7/site-packages/jupyter_contrib_nbextensions/nbextensions/snippets_menu/snippets_submenus_python/scipy.js -> /Users/levan/Library/Jupyter/nbextensions/snippets_menu/snippets_submenus_python/scipy.js\r\n",
      "\u001b[32m[I 19:52:24 InstallContribNbextensionsApp]\u001b[m - Validating: \u001b[32mOK\u001b[0m\r\n",
      "\u001b[32m[I 19:52:24 InstallContribNbextensionsApp]\u001b[m Installing /Users/levan/anaconda3/envs/edu/lib/python3.7/site-packages/jupyter_contrib_nbextensions/nbextensions/printview -> printview\r\n",
      "\u001b[32m[I 19:52:24 InstallContribNbextensionsApp]\u001b[m Making directory: /Users/levan/Library/Jupyter/nbextensions/printview/\r\n",
      "\u001b[32m[I 19:52:24 InstallContribNbextensionsApp]\u001b[m Copying: /Users/levan/anaconda3/envs/edu/lib/python3.7/site-packages/jupyter_contrib_nbextensions/nbextensions/printview/icon.png -> /Users/levan/Library/Jupyter/nbextensions/printview/icon.png\r\n",
      "\u001b[32m[I 19:52:24 InstallContribNbextensionsApp]\u001b[m Copying: /Users/levan/anaconda3/envs/edu/lib/python3.7/site-packages/jupyter_contrib_nbextensions/nbextensions/printview/printview-button.png -> /Users/levan/Library/Jupyter/nbextensions/printview/printview-button.png\r\n",
      "\u001b[32m[I 19:52:24 InstallContribNbextensionsApp]\u001b[m Copying: /Users/levan/anaconda3/envs/edu/lib/python3.7/site-packages/jupyter_contrib_nbextensions/nbextensions/printview/readme.md -> /Users/levan/Library/Jupyter/nbextensions/printview/readme.md\r\n",
      "\u001b[32m[I 19:52:24 InstallContribNbextensionsApp]\u001b[m Copying: /Users/levan/anaconda3/envs/edu/lib/python3.7/site-packages/jupyter_contrib_nbextensions/nbextensions/printview/main.js -> /Users/levan/Library/Jupyter/nbextensions/printview/main.js\r\n",
      "\u001b[32m[I 19:52:24 InstallContribNbextensionsApp]\u001b[m Copying: /Users/levan/anaconda3/envs/edu/lib/python3.7/site-packages/jupyter_contrib_nbextensions/nbextensions/printview/printview.yaml -> /Users/levan/Library/Jupyter/nbextensions/printview/printview.yaml\r\n",
      "\u001b[32m[I 19:52:24 InstallContribNbextensionsApp]\u001b[m - Validating: \u001b[32mOK\u001b[0m\r\n",
      "\u001b[32m[I 19:52:24 InstallContribNbextensionsApp]\u001b[m Installing /Users/levan/anaconda3/envs/edu/lib/python3.7/site-packages/jupyter_contrib_nbextensions/nbextensions/export_embedded -> export_embedded\r\n",
      "\u001b[32m[I 19:52:24 InstallContribNbextensionsApp]\u001b[m Making directory: /Users/levan/Library/Jupyter/nbextensions/export_embedded/\r\n",
      "\u001b[32m[I 19:52:24 InstallContribNbextensionsApp]\u001b[m Copying: /Users/levan/anaconda3/envs/edu/lib/python3.7/site-packages/jupyter_contrib_nbextensions/nbextensions/export_embedded/export_embedded.yaml -> /Users/levan/Library/Jupyter/nbextensions/export_embedded/export_embedded.yaml\r\n",
      "\u001b[32m[I 19:52:24 InstallContribNbextensionsApp]\u001b[m Copying: /Users/levan/anaconda3/envs/edu/lib/python3.7/site-packages/jupyter_contrib_nbextensions/nbextensions/export_embedded/icon.png -> /Users/levan/Library/Jupyter/nbextensions/export_embedded/icon.png\r\n",
      "\u001b[32m[I 19:52:24 InstallContribNbextensionsApp]\u001b[m Copying: /Users/levan/anaconda3/envs/edu/lib/python3.7/site-packages/jupyter_contrib_nbextensions/nbextensions/export_embedded/readme.md -> /Users/levan/Library/Jupyter/nbextensions/export_embedded/readme.md\r\n",
      "\u001b[32m[I 19:52:24 InstallContribNbextensionsApp]\u001b[m Copying: /Users/levan/anaconda3/envs/edu/lib/python3.7/site-packages/jupyter_contrib_nbextensions/nbextensions/export_embedded/main.js -> /Users/levan/Library/Jupyter/nbextensions/export_embedded/main.js\r\n",
      "\u001b[32m[I 19:52:24 InstallContribNbextensionsApp]\u001b[m - Validating: \u001b[32mOK\u001b[0m\r\n",
      "\u001b[32m[I 19:52:24 InstallContribNbextensionsApp]\u001b[m Installing /Users/levan/anaconda3/envs/edu/lib/python3.7/site-packages/jupyter_contrib_nbextensions/nbextensions/autoscroll -> autoscroll\r\n",
      "\u001b[32m[I 19:52:24 InstallContribNbextensionsApp]\u001b[m Making directory: /Users/levan/Library/Jupyter/nbextensions/autoscroll/\r\n",
      "\u001b[32m[I 19:52:24 InstallContribNbextensionsApp]\u001b[m Copying: /Users/levan/anaconda3/envs/edu/lib/python3.7/site-packages/jupyter_contrib_nbextensions/nbextensions/autoscroll/icon.png -> /Users/levan/Library/Jupyter/nbextensions/autoscroll/icon.png\r\n",
      "\u001b[32m[I 19:52:24 InstallContribNbextensionsApp]\u001b[m Copying: /Users/levan/anaconda3/envs/edu/lib/python3.7/site-packages/jupyter_contrib_nbextensions/nbextensions/autoscroll/autoscroll.yaml -> /Users/levan/Library/Jupyter/nbextensions/autoscroll/autoscroll.yaml\r\n",
      "\u001b[32m[I 19:52:24 InstallContribNbextensionsApp]\u001b[m Copying: /Users/levan/anaconda3/envs/edu/lib/python3.7/site-packages/jupyter_contrib_nbextensions/nbextensions/autoscroll/README.md -> /Users/levan/Library/Jupyter/nbextensions/autoscroll/README.md\r\n",
      "\u001b[32m[I 19:52:24 InstallContribNbextensionsApp]\u001b[m Copying: /Users/levan/anaconda3/envs/edu/lib/python3.7/site-packages/jupyter_contrib_nbextensions/nbextensions/autoscroll/main.js -> /Users/levan/Library/Jupyter/nbextensions/autoscroll/main.js\r\n",
      "\u001b[32m[I 19:52:24 InstallContribNbextensionsApp]\u001b[m - Validating: \u001b[32mOK\u001b[0m\r\n",
      "\u001b[32m[I 19:52:24 InstallContribNbextensionsApp]\u001b[m Installing /Users/levan/anaconda3/envs/edu/lib/python3.7/site-packages/jupyter_contrib_nbextensions/nbextensions/hide_input -> hide_input\r\n",
      "\u001b[32m[I 19:52:24 InstallContribNbextensionsApp]\u001b[m Making directory: /Users/levan/Library/Jupyter/nbextensions/hide_input/\r\n",
      "\u001b[32m[I 19:52:24 InstallContribNbextensionsApp]\u001b[m Copying: /Users/levan/anaconda3/envs/edu/lib/python3.7/site-packages/jupyter_contrib_nbextensions/nbextensions/hide_input/icon.png -> /Users/levan/Library/Jupyter/nbextensions/hide_input/icon.png\r\n",
      "\u001b[32m[I 19:52:24 InstallContribNbextensionsApp]\u001b[m Copying: /Users/levan/anaconda3/envs/edu/lib/python3.7/site-packages/jupyter_contrib_nbextensions/nbextensions/hide_input/readme.md -> /Users/levan/Library/Jupyter/nbextensions/hide_input/readme.md\r\n",
      "\u001b[32m[I 19:52:24 InstallContribNbextensionsApp]\u001b[m Copying: /Users/levan/anaconda3/envs/edu/lib/python3.7/site-packages/jupyter_contrib_nbextensions/nbextensions/hide_input/main.js -> /Users/levan/Library/Jupyter/nbextensions/hide_input/main.js\r\n",
      "\u001b[32m[I 19:52:24 InstallContribNbextensionsApp]\u001b[m Copying: /Users/levan/anaconda3/envs/edu/lib/python3.7/site-packages/jupyter_contrib_nbextensions/nbextensions/hide_input/hide-input.yaml -> /Users/levan/Library/Jupyter/nbextensions/hide_input/hide-input.yaml\r\n",
      "\u001b[32m[I 19:52:24 InstallContribNbextensionsApp]\u001b[m - Validating: \u001b[32mOK\u001b[0m\r\n",
      "\u001b[32m[I 19:52:24 InstallContribNbextensionsApp]\u001b[m Installing /Users/levan/anaconda3/envs/edu/lib/python3.7/site-packages/jupyter_contrib_nbextensions/nbextensions/hide_input_all -> hide_input_all\r\n",
      "\u001b[32m[I 19:52:24 InstallContribNbextensionsApp]\u001b[m Making directory: /Users/levan/Library/Jupyter/nbextensions/hide_input_all/\r\n",
      "\u001b[32m[I 19:52:24 InstallContribNbextensionsApp]\u001b[m Copying: /Users/levan/anaconda3/envs/edu/lib/python3.7/site-packages/jupyter_contrib_nbextensions/nbextensions/hide_input_all/icon.png -> /Users/levan/Library/Jupyter/nbextensions/hide_input_all/icon.png\r\n",
      "\u001b[32m[I 19:52:24 InstallContribNbextensionsApp]\u001b[m Copying: /Users/levan/anaconda3/envs/edu/lib/python3.7/site-packages/jupyter_contrib_nbextensions/nbextensions/hide_input_all/hide_input_all.yaml -> /Users/levan/Library/Jupyter/nbextensions/hide_input_all/hide_input_all.yaml\r\n",
      "\u001b[32m[I 19:52:24 InstallContribNbextensionsApp]\u001b[m Copying: /Users/levan/anaconda3/envs/edu/lib/python3.7/site-packages/jupyter_contrib_nbextensions/nbextensions/hide_input_all/hide_input_all_show.png -> /Users/levan/Library/Jupyter/nbextensions/hide_input_all/hide_input_all_show.png\r\n",
      "\u001b[32m[I 19:52:24 InstallContribNbextensionsApp]\u001b[m Copying: /Users/levan/anaconda3/envs/edu/lib/python3.7/site-packages/jupyter_contrib_nbextensions/nbextensions/hide_input_all/readme.md -> /Users/levan/Library/Jupyter/nbextensions/hide_input_all/readme.md\r\n",
      "\u001b[32m[I 19:52:24 InstallContribNbextensionsApp]\u001b[m Copying: /Users/levan/anaconda3/envs/edu/lib/python3.7/site-packages/jupyter_contrib_nbextensions/nbextensions/hide_input_all/main.js -> /Users/levan/Library/Jupyter/nbextensions/hide_input_all/main.js\r\n",
      "\u001b[32m[I 19:52:24 InstallContribNbextensionsApp]\u001b[m Copying: /Users/levan/anaconda3/envs/edu/lib/python3.7/site-packages/jupyter_contrib_nbextensions/nbextensions/hide_input_all/hide_input_all_hide.png -> /Users/levan/Library/Jupyter/nbextensions/hide_input_all/hide_input_all_hide.png\r\n"
     ]
    },
    {
     "name": "stdout",
     "output_type": "stream",
     "text": [
      "\u001b[32m[I 19:52:24 InstallContribNbextensionsApp]\u001b[m - Validating: \u001b[32mOK\u001b[0m\r\n",
      "\u001b[32m[I 19:52:24 InstallContribNbextensionsApp]\u001b[m Installing /Users/levan/anaconda3/envs/edu/lib/python3.7/site-packages/jupyter_contrib_nbextensions/nbextensions/keyboard_shortcut_editor -> keyboard_shortcut_editor\r\n",
      "\u001b[32m[I 19:52:24 InstallContribNbextensionsApp]\u001b[m Making directory: /Users/levan/Library/Jupyter/nbextensions/keyboard_shortcut_editor/\r\n",
      "\u001b[32m[I 19:52:24 InstallContribNbextensionsApp]\u001b[m Copying: /Users/levan/anaconda3/envs/edu/lib/python3.7/site-packages/jupyter_contrib_nbextensions/nbextensions/keyboard_shortcut_editor/keyboard_shortcut_editor.yaml -> /Users/levan/Library/Jupyter/nbextensions/keyboard_shortcut_editor/keyboard_shortcut_editor.yaml\r\n",
      "\u001b[32m[I 19:52:24 InstallContribNbextensionsApp]\u001b[m Copying: /Users/levan/anaconda3/envs/edu/lib/python3.7/site-packages/jupyter_contrib_nbextensions/nbextensions/keyboard_shortcut_editor/icon.png -> /Users/levan/Library/Jupyter/nbextensions/keyboard_shortcut_editor/icon.png\r\n",
      "\u001b[32m[I 19:52:24 InstallContribNbextensionsApp]\u001b[m Copying: /Users/levan/anaconda3/envs/edu/lib/python3.7/site-packages/jupyter_contrib_nbextensions/nbextensions/keyboard_shortcut_editor/readme_comma.png -> /Users/levan/Library/Jupyter/nbextensions/keyboard_shortcut_editor/readme_comma.png\r\n",
      "\u001b[32m[I 19:52:24 InstallContribNbextensionsApp]\u001b[m Copying: /Users/levan/anaconda3/envs/edu/lib/python3.7/site-packages/jupyter_contrib_nbextensions/nbextensions/keyboard_shortcut_editor/readme_shortcut_editor_blank.png -> /Users/levan/Library/Jupyter/nbextensions/keyboard_shortcut_editor/readme_shortcut_editor_blank.png\r\n",
      "\u001b[32m[I 19:52:24 InstallContribNbextensionsApp]\u001b[m Copying: /Users/levan/anaconda3/envs/edu/lib/python3.7/site-packages/jupyter_contrib_nbextensions/nbextensions/keyboard_shortcut_editor/readme_shortcut_editor_success.png -> /Users/levan/Library/Jupyter/nbextensions/keyboard_shortcut_editor/readme_shortcut_editor_success.png\r\n",
      "\u001b[32m[I 19:52:24 InstallContribNbextensionsApp]\u001b[m Copying: /Users/levan/anaconda3/envs/edu/lib/python3.7/site-packages/jupyter_contrib_nbextensions/nbextensions/keyboard_shortcut_editor/main.css -> /Users/levan/Library/Jupyter/nbextensions/keyboard_shortcut_editor/main.css\r\n",
      "\u001b[32m[I 19:52:24 InstallContribNbextensionsApp]\u001b[m Copying: /Users/levan/anaconda3/envs/edu/lib/python3.7/site-packages/jupyter_contrib_nbextensions/nbextensions/keyboard_shortcut_editor/README.md -> /Users/levan/Library/Jupyter/nbextensions/keyboard_shortcut_editor/README.md\r\n",
      "\u001b[32m[I 19:52:24 InstallContribNbextensionsApp]\u001b[m Copying: /Users/levan/anaconda3/envs/edu/lib/python3.7/site-packages/jupyter_contrib_nbextensions/nbextensions/keyboard_shortcut_editor/readme_reset_disabled.png -> /Users/levan/Library/Jupyter/nbextensions/keyboard_shortcut_editor/readme_reset_disabled.png\r\n",
      "\u001b[32m[I 19:52:24 InstallContribNbextensionsApp]\u001b[m Copying: /Users/levan/anaconda3/envs/edu/lib/python3.7/site-packages/jupyter_contrib_nbextensions/nbextensions/keyboard_shortcut_editor/readme_add_new_link.png -> /Users/levan/Library/Jupyter/nbextensions/keyboard_shortcut_editor/readme_add_new_link.png\r\n",
      "\u001b[32m[I 19:52:24 InstallContribNbextensionsApp]\u001b[m Copying: /Users/levan/anaconda3/envs/edu/lib/python3.7/site-packages/jupyter_contrib_nbextensions/nbextensions/keyboard_shortcut_editor/main.js -> /Users/levan/Library/Jupyter/nbextensions/keyboard_shortcut_editor/main.js\r\n",
      "\u001b[32m[I 19:52:24 InstallContribNbextensionsApp]\u001b[m Copying: /Users/levan/anaconda3/envs/edu/lib/python3.7/site-packages/jupyter_contrib_nbextensions/nbextensions/keyboard_shortcut_editor/readme_dropdown.png -> /Users/levan/Library/Jupyter/nbextensions/keyboard_shortcut_editor/readme_dropdown.png\r\n",
      "\u001b[32m[I 19:52:24 InstallContribNbextensionsApp]\u001b[m Copying: /Users/levan/anaconda3/envs/edu/lib/python3.7/site-packages/jupyter_contrib_nbextensions/nbextensions/keyboard_shortcut_editor/quickhelp_shim.js -> /Users/levan/Library/Jupyter/nbextensions/keyboard_shortcut_editor/quickhelp_shim.js\r\n",
      "\u001b[32m[I 19:52:24 InstallContribNbextensionsApp]\u001b[m Copying: /Users/levan/anaconda3/envs/edu/lib/python3.7/site-packages/jupyter_contrib_nbextensions/nbextensions/keyboard_shortcut_editor/readme_add_new_select_action.png -> /Users/levan/Library/Jupyter/nbextensions/keyboard_shortcut_editor/readme_add_new_select_action.png\r\n",
      "\u001b[32m[I 19:52:24 InstallContribNbextensionsApp]\u001b[m Copying: /Users/levan/anaconda3/envs/edu/lib/python3.7/site-packages/jupyter_contrib_nbextensions/nbextensions/keyboard_shortcut_editor/kse_components.js -> /Users/levan/Library/Jupyter/nbextensions/keyboard_shortcut_editor/kse_components.js\r\n",
      "\u001b[32m[I 19:52:24 InstallContribNbextensionsApp]\u001b[m Copying: /Users/levan/anaconda3/envs/edu/lib/python3.7/site-packages/jupyter_contrib_nbextensions/nbextensions/keyboard_shortcut_editor/readme_undefined_key.png -> /Users/levan/Library/Jupyter/nbextensions/keyboard_shortcut_editor/readme_undefined_key.png\r\n",
      "\u001b[32m[I 19:52:24 InstallContribNbextensionsApp]\u001b[m Copying: /Users/levan/anaconda3/envs/edu/lib/python3.7/site-packages/jupyter_contrib_nbextensions/nbextensions/keyboard_shortcut_editor/readme_conflict.png -> /Users/levan/Library/Jupyter/nbextensions/keyboard_shortcut_editor/readme_conflict.png\r\n",
      "\u001b[32m[I 19:52:24 InstallContribNbextensionsApp]\u001b[m Copying: /Users/levan/anaconda3/envs/edu/lib/python3.7/site-packages/jupyter_contrib_nbextensions/nbextensions/keyboard_shortcut_editor/readme_menu_item.png -> /Users/levan/Library/Jupyter/nbextensions/keyboard_shortcut_editor/readme_menu_item.png\r\n",
      "\u001b[32m[I 19:52:24 InstallContribNbextensionsApp]\u001b[m - Validating: \u001b[32mOK\u001b[0m\r\n",
      "\u001b[32m[I 19:52:24 InstallContribNbextensionsApp]\u001b[m Installing /Users/levan/anaconda3/envs/edu/lib/python3.7/site-packages/jupyter_contrib_nbextensions/nbextensions/help_panel -> help_panel\r\n",
      "\u001b[32m[I 19:52:24 InstallContribNbextensionsApp]\u001b[m Making directory: /Users/levan/Library/Jupyter/nbextensions/help_panel/\r\n",
      "\u001b[32m[I 19:52:24 InstallContribNbextensionsApp]\u001b[m Copying: /Users/levan/anaconda3/envs/edu/lib/python3.7/site-packages/jupyter_contrib_nbextensions/nbextensions/help_panel/icon.png -> /Users/levan/Library/Jupyter/nbextensions/help_panel/icon.png\r\n",
      "\u001b[32m[I 19:52:24 InstallContribNbextensionsApp]\u001b[m Copying: /Users/levan/anaconda3/envs/edu/lib/python3.7/site-packages/jupyter_contrib_nbextensions/nbextensions/help_panel/help_panel_ext.png -> /Users/levan/Library/Jupyter/nbextensions/help_panel/help_panel_ext.png\r\n",
      "\u001b[32m[I 19:52:24 InstallContribNbextensionsApp]\u001b[m Copying: /Users/levan/anaconda3/envs/edu/lib/python3.7/site-packages/jupyter_contrib_nbextensions/nbextensions/help_panel/readme.md -> /Users/levan/Library/Jupyter/nbextensions/help_panel/readme.md\r\n",
      "\u001b[32m[I 19:52:24 InstallContribNbextensionsApp]\u001b[m Copying: /Users/levan/anaconda3/envs/edu/lib/python3.7/site-packages/jupyter_contrib_nbextensions/nbextensions/help_panel/help_panel_ext_fullscreen.png -> /Users/levan/Library/Jupyter/nbextensions/help_panel/help_panel_ext_fullscreen.png\r\n",
      "\u001b[32m[I 19:52:24 InstallContribNbextensionsApp]\u001b[m Copying: /Users/levan/anaconda3/envs/edu/lib/python3.7/site-packages/jupyter_contrib_nbextensions/nbextensions/help_panel/help_panel.yaml -> /Users/levan/Library/Jupyter/nbextensions/help_panel/help_panel.yaml\r\n",
      "\u001b[32m[I 19:52:24 InstallContribNbextensionsApp]\u001b[m Copying: /Users/levan/anaconda3/envs/edu/lib/python3.7/site-packages/jupyter_contrib_nbextensions/nbextensions/help_panel/help_panel.css -> /Users/levan/Library/Jupyter/nbextensions/help_panel/help_panel.css\r\n",
      "\u001b[32m[I 19:52:24 InstallContribNbextensionsApp]\u001b[m Copying: /Users/levan/anaconda3/envs/edu/lib/python3.7/site-packages/jupyter_contrib_nbextensions/nbextensions/help_panel/help_panel.js -> /Users/levan/Library/Jupyter/nbextensions/help_panel/help_panel.js\r\n",
      "\u001b[32m[I 19:52:24 InstallContribNbextensionsApp]\u001b[m Making directory: /Users/levan/Library/Jupyter/nbextensions/help_panel/img\r\n",
      "\u001b[32m[I 19:52:24 InstallContribNbextensionsApp]\u001b[m Copying: /Users/levan/anaconda3/envs/edu/lib/python3.7/site-packages/jupyter_contrib_nbextensions/nbextensions/help_panel/img/handle-v.png -> /Users/levan/Library/Jupyter/nbextensions/help_panel/img/handle-v.png\r\n",
      "\u001b[32m[I 19:52:24 InstallContribNbextensionsApp]\u001b[m - Validating: \u001b[32mOK\u001b[0m\r\n",
      "\u001b[32m[I 19:52:24 InstallContribNbextensionsApp]\u001b[m Installing /Users/levan/anaconda3/envs/edu/lib/python3.7/site-packages/jupyter_contrib_nbextensions/nbextensions/move_selected_cells -> move_selected_cells\r\n",
      "\u001b[32m[I 19:52:24 InstallContribNbextensionsApp]\u001b[m Making directory: /Users/levan/Library/Jupyter/nbextensions/move_selected_cells/\r\n",
      "\u001b[32m[I 19:52:24 InstallContribNbextensionsApp]\u001b[m Copying: /Users/levan/anaconda3/envs/edu/lib/python3.7/site-packages/jupyter_contrib_nbextensions/nbextensions/move_selected_cells/README.md -> /Users/levan/Library/Jupyter/nbextensions/move_selected_cells/README.md\r\n",
      "\u001b[32m[I 19:52:24 InstallContribNbextensionsApp]\u001b[m Copying: /Users/levan/anaconda3/envs/edu/lib/python3.7/site-packages/jupyter_contrib_nbextensions/nbextensions/move_selected_cells/main.js -> /Users/levan/Library/Jupyter/nbextensions/move_selected_cells/main.js\r\n",
      "\u001b[32m[I 19:52:24 InstallContribNbextensionsApp]\u001b[m Copying: /Users/levan/anaconda3/envs/edu/lib/python3.7/site-packages/jupyter_contrib_nbextensions/nbextensions/move_selected_cells/move_selected_cells.yaml -> /Users/levan/Library/Jupyter/nbextensions/move_selected_cells/move_selected_cells.yaml\r\n",
      "\u001b[32m[I 19:52:24 InstallContribNbextensionsApp]\u001b[m - Validating: \u001b[32mOK\u001b[0m\r\n",
      "\u001b[32m[I 19:52:24 InstallContribNbextensionsApp]\u001b[m Installing /Users/levan/anaconda3/envs/edu/lib/python3.7/site-packages/jupyter_contrib_nbextensions/nbextensions/zenmode -> zenmode\r\n",
      "\u001b[32m[I 19:52:24 InstallContribNbextensionsApp]\u001b[m Making directory: /Users/levan/Library/Jupyter/nbextensions/zenmode/\r\n",
      "\u001b[32m[I 19:52:24 InstallContribNbextensionsApp]\u001b[m Copying: /Users/levan/anaconda3/envs/edu/lib/python3.7/site-packages/jupyter_contrib_nbextensions/nbextensions/zenmode/main.css -> /Users/levan/Library/Jupyter/nbextensions/zenmode/main.css\r\n",
      "\u001b[32m[I 19:52:24 InstallContribNbextensionsApp]\u001b[m Copying: /Users/levan/anaconda3/envs/edu/lib/python3.7/site-packages/jupyter_contrib_nbextensions/nbextensions/zenmode/README.md -> /Users/levan/Library/Jupyter/nbextensions/zenmode/README.md\r\n",
      "\u001b[32m[I 19:52:24 InstallContribNbextensionsApp]\u001b[m Copying: /Users/levan/anaconda3/envs/edu/lib/python3.7/site-packages/jupyter_contrib_nbextensions/nbextensions/zenmode/main.js -> /Users/levan/Library/Jupyter/nbextensions/zenmode/main.js\r\n",
      "\u001b[32m[I 19:52:24 InstallContribNbextensionsApp]\u001b[m Copying: /Users/levan/anaconda3/envs/edu/lib/python3.7/site-packages/jupyter_contrib_nbextensions/nbextensions/zenmode/zenmode.yaml -> /Users/levan/Library/Jupyter/nbextensions/zenmode/zenmode.yaml\r\n",
      "\u001b[32m[I 19:52:24 InstallContribNbextensionsApp]\u001b[m Making directory: /Users/levan/Library/Jupyter/nbextensions/zenmode/images\r\n",
      "\u001b[32m[I 19:52:24 InstallContribNbextensionsApp]\u001b[m Copying: /Users/levan/anaconda3/envs/edu/lib/python3.7/site-packages/jupyter_contrib_nbextensions/nbextensions/zenmode/images/back12.jpg -> /Users/levan/Library/Jupyter/nbextensions/zenmode/images/back12.jpg\r\n",
      "\u001b[32m[I 19:52:24 InstallContribNbextensionsApp]\u001b[m Copying: /Users/levan/anaconda3/envs/edu/lib/python3.7/site-packages/jupyter_contrib_nbextensions/nbextensions/zenmode/images/back11.jpg -> /Users/levan/Library/Jupyter/nbextensions/zenmode/images/back11.jpg\r\n",
      "\u001b[32m[I 19:52:24 InstallContribNbextensionsApp]\u001b[m Copying: /Users/levan/anaconda3/envs/edu/lib/python3.7/site-packages/jupyter_contrib_nbextensions/nbextensions/zenmode/images/back2.jpg -> /Users/levan/Library/Jupyter/nbextensions/zenmode/images/back2.jpg\r\n",
      "\u001b[32m[I 19:52:24 InstallContribNbextensionsApp]\u001b[m Copying: /Users/levan/anaconda3/envs/edu/lib/python3.7/site-packages/jupyter_contrib_nbextensions/nbextensions/zenmode/images/back3.jpg -> /Users/levan/Library/Jupyter/nbextensions/zenmode/images/back3.jpg\r\n",
      "\u001b[32m[I 19:52:24 InstallContribNbextensionsApp]\u001b[m Copying: /Users/levan/anaconda3/envs/edu/lib/python3.7/site-packages/jupyter_contrib_nbextensions/nbextensions/zenmode/images/back1.jpg -> /Users/levan/Library/Jupyter/nbextensions/zenmode/images/back1.jpg\r\n",
      "\u001b[32m[I 19:52:24 InstallContribNbextensionsApp]\u001b[m Copying: /Users/levan/anaconda3/envs/edu/lib/python3.7/site-packages/jupyter_contrib_nbextensions/nbextensions/zenmode/images/ipynblogo1.png -> /Users/levan/Library/Jupyter/nbextensions/zenmode/images/ipynblogo1.png\r\n",
      "\u001b[32m[I 19:52:24 InstallContribNbextensionsApp]\u001b[m Copying: /Users/levan/anaconda3/envs/edu/lib/python3.7/site-packages/jupyter_contrib_nbextensions/nbextensions/zenmode/images/ipynblogo0.png -> /Users/levan/Library/Jupyter/nbextensions/zenmode/images/ipynblogo0.png\r\n",
      "\u001b[32m[I 19:52:24 InstallContribNbextensionsApp]\u001b[m Copying: /Users/levan/anaconda3/envs/edu/lib/python3.7/site-packages/jupyter_contrib_nbextensions/nbextensions/zenmode/images/back21.jpg -> /Users/levan/Library/Jupyter/nbextensions/zenmode/images/back21.jpg\r\n",
      "\u001b[32m[I 19:52:24 InstallContribNbextensionsApp]\u001b[m Copying: /Users/levan/anaconda3/envs/edu/lib/python3.7/site-packages/jupyter_contrib_nbextensions/nbextensions/zenmode/images/back22.jpg -> /Users/levan/Library/Jupyter/nbextensions/zenmode/images/back22.jpg\r\n",
      "\u001b[32m[I 19:52:24 InstallContribNbextensionsApp]\u001b[m - Validating: \u001b[32mOK\u001b[0m\r\n",
      "\u001b[32m[I 19:52:24 InstallContribNbextensionsApp]\u001b[m Installing /Users/levan/anaconda3/envs/edu/lib/python3.7/site-packages/jupyter_contrib_nbextensions/nbextensions/skip-traceback -> skip-traceback\r\n",
      "\u001b[32m[I 19:52:24 InstallContribNbextensionsApp]\u001b[m Making directory: /Users/levan/Library/Jupyter/nbextensions/skip-traceback/\r\n",
      "\u001b[32m[I 19:52:24 InstallContribNbextensionsApp]\u001b[m Copying: /Users/levan/anaconda3/envs/edu/lib/python3.7/site-packages/jupyter_contrib_nbextensions/nbextensions/skip-traceback/icon.png -> /Users/levan/Library/Jupyter/nbextensions/skip-traceback/icon.png\r\n",
      "\u001b[32m[I 19:52:24 InstallContribNbextensionsApp]\u001b[m Copying: /Users/levan/anaconda3/envs/edu/lib/python3.7/site-packages/jupyter_contrib_nbextensions/nbextensions/skip-traceback/traceback.png -> /Users/levan/Library/Jupyter/nbextensions/skip-traceback/traceback.png\r\n",
      "\u001b[32m[I 19:52:24 InstallContribNbextensionsApp]\u001b[m Copying: /Users/levan/anaconda3/envs/edu/lib/python3.7/site-packages/jupyter_contrib_nbextensions/nbextensions/skip-traceback/readme.md -> /Users/levan/Library/Jupyter/nbextensions/skip-traceback/readme.md\r\n",
      "\u001b[32m[I 19:52:24 InstallContribNbextensionsApp]\u001b[m Copying: /Users/levan/anaconda3/envs/edu/lib/python3.7/site-packages/jupyter_contrib_nbextensions/nbextensions/skip-traceback/main.js -> /Users/levan/Library/Jupyter/nbextensions/skip-traceback/main.js\r\n",
      "\u001b[32m[I 19:52:24 InstallContribNbextensionsApp]\u001b[m Copying: /Users/levan/anaconda3/envs/edu/lib/python3.7/site-packages/jupyter_contrib_nbextensions/nbextensions/skip-traceback/skip-traceback.yaml -> /Users/levan/Library/Jupyter/nbextensions/skip-traceback/skip-traceback.yaml\r\n",
      "\u001b[32m[I 19:52:24 InstallContribNbextensionsApp]\u001b[m Copying: /Users/levan/anaconda3/envs/edu/lib/python3.7/site-packages/jupyter_contrib_nbextensions/nbextensions/skip-traceback/skip-traceback.png -> /Users/levan/Library/Jupyter/nbextensions/skip-traceback/skip-traceback.png\r\n",
      "\u001b[32m[I 19:52:24 InstallContribNbextensionsApp]\u001b[m - Validating: \u001b[32mOK\u001b[0m\r\n",
      "\u001b[32m[I 19:52:24 InstallContribNbextensionsApp]\u001b[m Installing /Users/levan/anaconda3/envs/edu/lib/python3.7/site-packages/jupyter_contrib_nbextensions/nbextensions/python-markdown -> python-markdown\r\n",
      "\u001b[32m[I 19:52:24 InstallContribNbextensionsApp]\u001b[m Making directory: /Users/levan/Library/Jupyter/nbextensions/python-markdown/\r\n",
      "\u001b[32m[I 19:52:24 InstallContribNbextensionsApp]\u001b[m Copying: /Users/levan/anaconda3/envs/edu/lib/python3.7/site-packages/jupyter_contrib_nbextensions/nbextensions/python-markdown/untrusted.png -> /Users/levan/Library/Jupyter/nbextensions/python-markdown/untrusted.png\r\n",
      "\u001b[32m[I 19:52:24 InstallContribNbextensionsApp]\u001b[m Copying: /Users/levan/anaconda3/envs/edu/lib/python3.7/site-packages/jupyter_contrib_nbextensions/nbextensions/python-markdown/python-markdown-pre.png -> /Users/levan/Library/Jupyter/nbextensions/python-markdown/python-markdown-pre.png\r\n",
      "\u001b[32m[I 19:52:24 InstallContribNbextensionsApp]\u001b[m Copying: /Users/levan/anaconda3/envs/edu/lib/python3.7/site-packages/jupyter_contrib_nbextensions/nbextensions/python-markdown/main.css -> /Users/levan/Library/Jupyter/nbextensions/python-markdown/main.css\r\n",
      "\u001b[32m[I 19:52:24 InstallContribNbextensionsApp]\u001b[m Copying: /Users/levan/anaconda3/envs/edu/lib/python3.7/site-packages/jupyter_contrib_nbextensions/nbextensions/python-markdown/readme.md -> /Users/levan/Library/Jupyter/nbextensions/python-markdown/readme.md\r\n",
      "\u001b[32m[I 19:52:24 InstallContribNbextensionsApp]\u001b[m Copying: /Users/levan/anaconda3/envs/edu/lib/python3.7/site-packages/jupyter_contrib_nbextensions/nbextensions/python-markdown/main.js -> /Users/levan/Library/Jupyter/nbextensions/python-markdown/main.js\r\n",
      "\u001b[32m[I 19:52:24 InstallContribNbextensionsApp]\u001b[m Copying: /Users/levan/anaconda3/envs/edu/lib/python3.7/site-packages/jupyter_contrib_nbextensions/nbextensions/python-markdown/python-markdown.png -> /Users/levan/Library/Jupyter/nbextensions/python-markdown/python-markdown.png\r\n",
      "\u001b[32m[I 19:52:24 InstallContribNbextensionsApp]\u001b[m Copying: /Users/levan/anaconda3/envs/edu/lib/python3.7/site-packages/jupyter_contrib_nbextensions/nbextensions/python-markdown/trusted.png -> /Users/levan/Library/Jupyter/nbextensions/python-markdown/trusted.png\r\n",
      "\u001b[32m[I 19:52:24 InstallContribNbextensionsApp]\u001b[m Copying: /Users/levan/anaconda3/envs/edu/lib/python3.7/site-packages/jupyter_contrib_nbextensions/nbextensions/python-markdown/python-markdown.yaml -> /Users/levan/Library/Jupyter/nbextensions/python-markdown/python-markdown.yaml\r\n",
      "\u001b[32m[I 19:52:24 InstallContribNbextensionsApp]\u001b[m Copying: /Users/levan/anaconda3/envs/edu/lib/python3.7/site-packages/jupyter_contrib_nbextensions/nbextensions/python-markdown/python-markdown-post.png -> /Users/levan/Library/Jupyter/nbextensions/python-markdown/python-markdown-post.png\r\n",
      "\u001b[32m[I 19:52:24 InstallContribNbextensionsApp]\u001b[m - Validating: \u001b[32mOK\u001b[0m\r\n",
      "\u001b[32m[I 19:52:24 InstallContribNbextensionsApp]\u001b[m Installing /Users/levan/anaconda3/envs/edu/lib/python3.7/site-packages/jupyter_contrib_nbextensions/nbextensions/codefolding -> codefolding\r\n",
      "\u001b[32m[I 19:52:24 InstallContribNbextensionsApp]\u001b[m Making directory: /Users/levan/Library/Jupyter/nbextensions/codefolding/\r\n",
      "\u001b[32m[I 19:52:24 InstallContribNbextensionsApp]\u001b[m Copying: /Users/levan/anaconda3/envs/edu/lib/python3.7/site-packages/jupyter_contrib_nbextensions/nbextensions/codefolding/codefolding_editor.yaml -> /Users/levan/Library/Jupyter/nbextensions/codefolding/codefolding_editor.yaml\r\n",
      "\u001b[32m[I 19:52:24 InstallContribNbextensionsApp]\u001b[m Copying: /Users/levan/anaconda3/envs/edu/lib/python3.7/site-packages/jupyter_contrib_nbextensions/nbextensions/codefolding/icon.png -> /Users/levan/Library/Jupyter/nbextensions/codefolding/icon.png\r\n",
      "\u001b[32m[I 19:52:24 InstallContribNbextensionsApp]\u001b[m Copying: /Users/levan/anaconda3/envs/edu/lib/python3.7/site-packages/jupyter_contrib_nbextensions/nbextensions/codefolding/codefolding_firstline_folded.png -> /Users/levan/Library/Jupyter/nbextensions/codefolding/codefolding_firstline_folded.png\r\n",
      "\u001b[32m[I 19:52:24 InstallContribNbextensionsApp]\u001b[m Copying: /Users/levan/anaconda3/envs/edu/lib/python3.7/site-packages/jupyter_contrib_nbextensions/nbextensions/codefolding/codefolding_indent_folded_2.png -> /Users/levan/Library/Jupyter/nbextensions/codefolding/codefolding_indent_folded_2.png\r\n",
      "\u001b[32m[I 19:52:24 InstallContribNbextensionsApp]\u001b[m Copying: /Users/levan/anaconda3/envs/edu/lib/python3.7/site-packages/jupyter_contrib_nbextensions/nbextensions/codefolding/codefolding_indent_folded_1.png -> /Users/levan/Library/Jupyter/nbextensions/codefolding/codefolding_indent_folded_1.png\r\n",
      "\u001b[32m[I 19:52:24 InstallContribNbextensionsApp]\u001b[m Copying: /Users/levan/anaconda3/envs/edu/lib/python3.7/site-packages/jupyter_contrib_nbextensions/nbextensions/codefolding/edit.js -> /Users/levan/Library/Jupyter/nbextensions/codefolding/edit.js\r\n",
      "\u001b[32m[I 19:52:24 InstallContribNbextensionsApp]\u001b[m Copying: /Users/levan/anaconda3/envs/edu/lib/python3.7/site-packages/jupyter_contrib_nbextensions/nbextensions/codefolding/magic-fold.js -> /Users/levan/Library/Jupyter/nbextensions/codefolding/magic-fold.js\r\n",
      "\u001b[32m[I 19:52:24 InstallContribNbextensionsApp]\u001b[m Copying: /Users/levan/anaconda3/envs/edu/lib/python3.7/site-packages/jupyter_contrib_nbextensions/nbextensions/codefolding/firstline-fold.js -> /Users/levan/Library/Jupyter/nbextensions/codefolding/firstline-fold.js\r\n",
      "\u001b[32m[I 19:52:24 InstallContribNbextensionsApp]\u001b[m Copying: /Users/levan/anaconda3/envs/edu/lib/python3.7/site-packages/jupyter_contrib_nbextensions/nbextensions/codefolding/codefolding_firstline_unfolded.png -> /Users/levan/Library/Jupyter/nbextensions/codefolding/codefolding_firstline_unfolded.png\r\n",
      "\u001b[32m[I 19:52:24 InstallContribNbextensionsApp]\u001b[m Copying: /Users/levan/anaconda3/envs/edu/lib/python3.7/site-packages/jupyter_contrib_nbextensions/nbextensions/codefolding/readme.md -> /Users/levan/Library/Jupyter/nbextensions/codefolding/readme.md\r\n",
      "\u001b[32m[I 19:52:24 InstallContribNbextensionsApp]\u001b[m Copying: /Users/levan/anaconda3/envs/edu/lib/python3.7/site-packages/jupyter_contrib_nbextensions/nbextensions/codefolding/main.js -> /Users/levan/Library/Jupyter/nbextensions/codefolding/main.js\r\n",
      "\u001b[32m[I 19:52:24 InstallContribNbextensionsApp]\u001b[m Copying: /Users/levan/anaconda3/envs/edu/lib/python3.7/site-packages/jupyter_contrib_nbextensions/nbextensions/codefolding/magic-unfolded.png -> /Users/levan/Library/Jupyter/nbextensions/codefolding/magic-unfolded.png\r\n",
      "\u001b[32m[I 19:52:24 InstallContribNbextensionsApp]\u001b[m Copying: /Users/levan/anaconda3/envs/edu/lib/python3.7/site-packages/jupyter_contrib_nbextensions/nbextensions/codefolding/foldgutter.css -> /Users/levan/Library/Jupyter/nbextensions/codefolding/foldgutter.css\r\n",
      "\u001b[32m[I 19:52:24 InstallContribNbextensionsApp]\u001b[m Copying: /Users/levan/anaconda3/envs/edu/lib/python3.7/site-packages/jupyter_contrib_nbextensions/nbextensions/codefolding/magic-folded.png -> /Users/levan/Library/Jupyter/nbextensions/codefolding/magic-folded.png\r\n",
      "\u001b[32m[I 19:52:24 InstallContribNbextensionsApp]\u001b[m Copying: /Users/levan/anaconda3/envs/edu/lib/python3.7/site-packages/jupyter_contrib_nbextensions/nbextensions/codefolding/codefolding.yaml -> /Users/levan/Library/Jupyter/nbextensions/codefolding/codefolding.yaml\r\n"
     ]
    },
    {
     "name": "stdout",
     "output_type": "stream",
     "text": [
      "\u001b[32m[I 19:52:24 InstallContribNbextensionsApp]\u001b[m Copying: /Users/levan/anaconda3/envs/edu/lib/python3.7/site-packages/jupyter_contrib_nbextensions/nbextensions/codefolding/codefolding_editor.png -> /Users/levan/Library/Jupyter/nbextensions/codefolding/codefolding_editor.png\r\n",
      "\u001b[32m[I 19:52:24 InstallContribNbextensionsApp]\u001b[m Copying: /Users/levan/anaconda3/envs/edu/lib/python3.7/site-packages/jupyter_contrib_nbextensions/nbextensions/codefolding/codefolding_indent_unfolded.png -> /Users/levan/Library/Jupyter/nbextensions/codefolding/codefolding_indent_unfolded.png\r\n",
      "\u001b[32m[I 19:52:24 InstallContribNbextensionsApp]\u001b[m Copying: /Users/levan/anaconda3/envs/edu/lib/python3.7/site-packages/jupyter_contrib_nbextensions/nbextensions/codefolding/blockcomment-fold.js -> /Users/levan/Library/Jupyter/nbextensions/codefolding/blockcomment-fold.js\r\n",
      "\u001b[32m[I 19:52:24 InstallContribNbextensionsApp]\u001b[m - Validating: \u001b[32mOK\u001b[0m\r\n",
      "\u001b[32m[I 19:52:24 InstallContribNbextensionsApp]\u001b[m Installing /Users/levan/anaconda3/envs/edu/lib/python3.7/site-packages/jupyter_contrib_nbextensions/nbextensions/codefolding -> codefolding\r\n",
      "\u001b[32m[I 19:52:24 InstallContribNbextensionsApp]\u001b[m Up to date: /Users/levan/Library/Jupyter/nbextensions/codefolding/codefolding_editor.yaml\r\n",
      "\u001b[32m[I 19:52:24 InstallContribNbextensionsApp]\u001b[m Up to date: /Users/levan/Library/Jupyter/nbextensions/codefolding/icon.png\r\n",
      "\u001b[32m[I 19:52:24 InstallContribNbextensionsApp]\u001b[m Up to date: /Users/levan/Library/Jupyter/nbextensions/codefolding/codefolding_firstline_folded.png\r\n",
      "\u001b[32m[I 19:52:24 InstallContribNbextensionsApp]\u001b[m Up to date: /Users/levan/Library/Jupyter/nbextensions/codefolding/codefolding_indent_folded_2.png\r\n",
      "\u001b[32m[I 19:52:24 InstallContribNbextensionsApp]\u001b[m Up to date: /Users/levan/Library/Jupyter/nbextensions/codefolding/codefolding_indent_folded_1.png\r\n",
      "\u001b[32m[I 19:52:24 InstallContribNbextensionsApp]\u001b[m Up to date: /Users/levan/Library/Jupyter/nbextensions/codefolding/edit.js\r\n",
      "\u001b[32m[I 19:52:24 InstallContribNbextensionsApp]\u001b[m Up to date: /Users/levan/Library/Jupyter/nbextensions/codefolding/magic-fold.js\r\n",
      "\u001b[32m[I 19:52:24 InstallContribNbextensionsApp]\u001b[m Up to date: /Users/levan/Library/Jupyter/nbextensions/codefolding/firstline-fold.js\r\n",
      "\u001b[32m[I 19:52:24 InstallContribNbextensionsApp]\u001b[m Up to date: /Users/levan/Library/Jupyter/nbextensions/codefolding/codefolding_firstline_unfolded.png\r\n",
      "\u001b[32m[I 19:52:24 InstallContribNbextensionsApp]\u001b[m Up to date: /Users/levan/Library/Jupyter/nbextensions/codefolding/readme.md\r\n",
      "\u001b[32m[I 19:52:24 InstallContribNbextensionsApp]\u001b[m Up to date: /Users/levan/Library/Jupyter/nbextensions/codefolding/main.js\r\n",
      "\u001b[32m[I 19:52:24 InstallContribNbextensionsApp]\u001b[m Up to date: /Users/levan/Library/Jupyter/nbextensions/codefolding/magic-unfolded.png\r\n",
      "\u001b[32m[I 19:52:24 InstallContribNbextensionsApp]\u001b[m Up to date: /Users/levan/Library/Jupyter/nbextensions/codefolding/foldgutter.css\r\n",
      "\u001b[32m[I 19:52:24 InstallContribNbextensionsApp]\u001b[m Up to date: /Users/levan/Library/Jupyter/nbextensions/codefolding/magic-folded.png\r\n",
      "\u001b[32m[I 19:52:24 InstallContribNbextensionsApp]\u001b[m Up to date: /Users/levan/Library/Jupyter/nbextensions/codefolding/codefolding.yaml\r\n",
      "\u001b[32m[I 19:52:24 InstallContribNbextensionsApp]\u001b[m Up to date: /Users/levan/Library/Jupyter/nbextensions/codefolding/codefolding_editor.png\r\n",
      "\u001b[32m[I 19:52:24 InstallContribNbextensionsApp]\u001b[m Up to date: /Users/levan/Library/Jupyter/nbextensions/codefolding/codefolding_indent_unfolded.png\r\n",
      "\u001b[32m[I 19:52:24 InstallContribNbextensionsApp]\u001b[m Up to date: /Users/levan/Library/Jupyter/nbextensions/codefolding/blockcomment-fold.js\r\n",
      "\u001b[32m[I 19:52:24 InstallContribNbextensionsApp]\u001b[m - Validating: \u001b[32mOK\u001b[0m\r\n",
      "\u001b[32m[I 19:52:24 InstallContribNbextensionsApp]\u001b[m Installing /Users/levan/anaconda3/envs/edu/lib/python3.7/site-packages/jupyter_contrib_nbextensions/nbextensions/collapsible_headings -> collapsible_headings\r\n",
      "\u001b[32m[I 19:52:24 InstallContribNbextensionsApp]\u001b[m Making directory: /Users/levan/Library/Jupyter/nbextensions/collapsible_headings/\r\n",
      "\u001b[32m[I 19:52:24 InstallContribNbextensionsApp]\u001b[m Copying: /Users/levan/anaconda3/envs/edu/lib/python3.7/site-packages/jupyter_contrib_nbextensions/nbextensions/collapsible_headings/icon.png -> /Users/levan/Library/Jupyter/nbextensions/collapsible_headings/icon.png\r\n",
      "\u001b[32m[I 19:52:24 InstallContribNbextensionsApp]\u001b[m Copying: /Users/levan/anaconda3/envs/edu/lib/python3.7/site-packages/jupyter_contrib_nbextensions/nbextensions/collapsible_headings/screenshot.png -> /Users/levan/Library/Jupyter/nbextensions/collapsible_headings/screenshot.png\r\n",
      "\u001b[32m[I 19:52:24 InstallContribNbextensionsApp]\u001b[m Copying: /Users/levan/anaconda3/envs/edu/lib/python3.7/site-packages/jupyter_contrib_nbextensions/nbextensions/collapsible_headings/main.css -> /Users/levan/Library/Jupyter/nbextensions/collapsible_headings/main.css\r\n",
      "\u001b[32m[I 19:52:24 InstallContribNbextensionsApp]\u001b[m Copying: /Users/levan/anaconda3/envs/edu/lib/python3.7/site-packages/jupyter_contrib_nbextensions/nbextensions/collapsible_headings/readme.md -> /Users/levan/Library/Jupyter/nbextensions/collapsible_headings/readme.md\r\n",
      "\u001b[32m[I 19:52:24 InstallContribNbextensionsApp]\u001b[m Copying: /Users/levan/anaconda3/envs/edu/lib/python3.7/site-packages/jupyter_contrib_nbextensions/nbextensions/collapsible_headings/main.js -> /Users/levan/Library/Jupyter/nbextensions/collapsible_headings/main.js\r\n",
      "\u001b[32m[I 19:52:24 InstallContribNbextensionsApp]\u001b[m Copying: /Users/levan/anaconda3/envs/edu/lib/python3.7/site-packages/jupyter_contrib_nbextensions/nbextensions/collapsible_headings/collapsible_headings.yaml -> /Users/levan/Library/Jupyter/nbextensions/collapsible_headings/collapsible_headings.yaml\r\n",
      "\u001b[32m[I 19:52:24 InstallContribNbextensionsApp]\u001b[m - Validating: \u001b[32mOK\u001b[0m\r\n",
      "\u001b[32m[I 19:52:24 InstallContribNbextensionsApp]\u001b[m Installing /Users/levan/anaconda3/envs/edu/lib/python3.7/site-packages/jupyter_contrib_nbextensions/nbextensions/exercise -> exercise\r\n",
      "\u001b[32m[I 19:52:24 InstallContribNbextensionsApp]\u001b[m Making directory: /Users/levan/Library/Jupyter/nbextensions/exercise/\r\n",
      "\u001b[32m[I 19:52:24 InstallContribNbextensionsApp]\u001b[m Copying: /Users/levan/anaconda3/envs/edu/lib/python3.7/site-packages/jupyter_contrib_nbextensions/nbextensions/exercise/icon.png -> /Users/levan/Library/Jupyter/nbextensions/exercise/icon.png\r\n",
      "\u001b[32m[I 19:52:24 InstallContribNbextensionsApp]\u001b[m Copying: /Users/levan/anaconda3/envs/edu/lib/python3.7/site-packages/jupyter_contrib_nbextensions/nbextensions/exercise/history.md -> /Users/levan/Library/Jupyter/nbextensions/exercise/history.md\r\n",
      "\u001b[32m[I 19:52:24 InstallContribNbextensionsApp]\u001b[m Copying: /Users/levan/anaconda3/envs/edu/lib/python3.7/site-packages/jupyter_contrib_nbextensions/nbextensions/exercise/main.css -> /Users/levan/Library/Jupyter/nbextensions/exercise/main.css\r\n",
      "\u001b[32m[I 19:52:24 InstallContribNbextensionsApp]\u001b[m Copying: /Users/levan/anaconda3/envs/edu/lib/python3.7/site-packages/jupyter_contrib_nbextensions/nbextensions/exercise/image.gif -> /Users/levan/Library/Jupyter/nbextensions/exercise/image.gif\r\n",
      "\u001b[32m[I 19:52:24 InstallContribNbextensionsApp]\u001b[m Copying: /Users/levan/anaconda3/envs/edu/lib/python3.7/site-packages/jupyter_contrib_nbextensions/nbextensions/exercise/readme.md -> /Users/levan/Library/Jupyter/nbextensions/exercise/readme.md\r\n",
      "\u001b[32m[I 19:52:24 InstallContribNbextensionsApp]\u001b[m Copying: /Users/levan/anaconda3/envs/edu/lib/python3.7/site-packages/jupyter_contrib_nbextensions/nbextensions/exercise/main.js -> /Users/levan/Library/Jupyter/nbextensions/exercise/main.js\r\n",
      "\u001b[32m[I 19:52:24 InstallContribNbextensionsApp]\u001b[m Copying: /Users/levan/anaconda3/envs/edu/lib/python3.7/site-packages/jupyter_contrib_nbextensions/nbextensions/exercise/exercise.yaml -> /Users/levan/Library/Jupyter/nbextensions/exercise/exercise.yaml\r\n",
      "\u001b[32m[I 19:52:24 InstallContribNbextensionsApp]\u001b[m - Validating: \u001b[32mOK\u001b[0m\r\n",
      "\u001b[32m[I 19:52:24 InstallContribNbextensionsApp]\u001b[m Installing /Users/levan/anaconda3/envs/edu/lib/python3.7/site-packages/jupyter_contrib_nbextensions/nbextensions/codemirror_mode_extensions -> codemirror_mode_extensions\r\n",
      "\u001b[32m[I 19:52:24 InstallContribNbextensionsApp]\u001b[m Making directory: /Users/levan/Library/Jupyter/nbextensions/codemirror_mode_extensions/\r\n",
      "\u001b[32m[I 19:52:24 InstallContribNbextensionsApp]\u001b[m Copying: /Users/levan/anaconda3/envs/edu/lib/python3.7/site-packages/jupyter_contrib_nbextensions/nbextensions/codemirror_mode_extensions/codemirror_mode_extensions.yaml -> /Users/levan/Library/Jupyter/nbextensions/codemirror_mode_extensions/codemirror_mode_extensions.yaml\r\n",
      "\u001b[32m[I 19:52:24 InstallContribNbextensionsApp]\u001b[m Copying: /Users/levan/anaconda3/envs/edu/lib/python3.7/site-packages/jupyter_contrib_nbextensions/nbextensions/codemirror_mode_extensions/main.js -> /Users/levan/Library/Jupyter/nbextensions/codemirror_mode_extensions/main.js\r\n",
      "\u001b[32m[I 19:52:24 InstallContribNbextensionsApp]\u001b[m - Validating: \u001b[32mOK\u001b[0m\r\n",
      "\u001b[32m[I 19:52:24 InstallContribNbextensionsApp]\u001b[m Installing /Users/levan/anaconda3/envs/edu/lib/python3.7/site-packages/jupyter_contrib_nbextensions/nbextensions/ruler -> ruler\r\n",
      "\u001b[32m[I 19:52:24 InstallContribNbextensionsApp]\u001b[m Making directory: /Users/levan/Library/Jupyter/nbextensions/ruler/\r\n",
      "\u001b[32m[I 19:52:24 InstallContribNbextensionsApp]\u001b[m Copying: /Users/levan/anaconda3/envs/edu/lib/python3.7/site-packages/jupyter_contrib_nbextensions/nbextensions/ruler/icon.png -> /Users/levan/Library/Jupyter/nbextensions/ruler/icon.png\r\n",
      "\u001b[32m[I 19:52:24 InstallContribNbextensionsApp]\u001b[m Copying: /Users/levan/anaconda3/envs/edu/lib/python3.7/site-packages/jupyter_contrib_nbextensions/nbextensions/ruler/edit.js -> /Users/levan/Library/Jupyter/nbextensions/ruler/edit.js\r\n",
      "\u001b[32m[I 19:52:24 InstallContribNbextensionsApp]\u001b[m Copying: /Users/levan/anaconda3/envs/edu/lib/python3.7/site-packages/jupyter_contrib_nbextensions/nbextensions/ruler/ruler_editor.yaml -> /Users/levan/Library/Jupyter/nbextensions/ruler/ruler_editor.yaml\r\n",
      "\u001b[32m[I 19:52:24 InstallContribNbextensionsApp]\u001b[m Copying: /Users/levan/anaconda3/envs/edu/lib/python3.7/site-packages/jupyter_contrib_nbextensions/nbextensions/ruler/readme.md -> /Users/levan/Library/Jupyter/nbextensions/ruler/readme.md\r\n",
      "\u001b[32m[I 19:52:24 InstallContribNbextensionsApp]\u001b[m Copying: /Users/levan/anaconda3/envs/edu/lib/python3.7/site-packages/jupyter_contrib_nbextensions/nbextensions/ruler/main.js -> /Users/levan/Library/Jupyter/nbextensions/ruler/main.js\r\n",
      "\u001b[32m[I 19:52:24 InstallContribNbextensionsApp]\u001b[m Copying: /Users/levan/anaconda3/envs/edu/lib/python3.7/site-packages/jupyter_contrib_nbextensions/nbextensions/ruler/ruler.yaml -> /Users/levan/Library/Jupyter/nbextensions/ruler/ruler.yaml\r\n",
      "\u001b[32m[I 19:52:24 InstallContribNbextensionsApp]\u001b[m - Validating: \u001b[32mOK\u001b[0m\r\n",
      "\u001b[32m[I 19:52:24 InstallContribNbextensionsApp]\u001b[m Installing /Users/levan/anaconda3/envs/edu/lib/python3.7/site-packages/jupyter_contrib_nbextensions/nbextensions/ruler -> ruler\r\n",
      "\u001b[32m[I 19:52:24 InstallContribNbextensionsApp]\u001b[m Up to date: /Users/levan/Library/Jupyter/nbextensions/ruler/icon.png\r\n",
      "\u001b[32m[I 19:52:24 InstallContribNbextensionsApp]\u001b[m Up to date: /Users/levan/Library/Jupyter/nbextensions/ruler/edit.js\r\n",
      "\u001b[32m[I 19:52:24 InstallContribNbextensionsApp]\u001b[m Up to date: /Users/levan/Library/Jupyter/nbextensions/ruler/ruler_editor.yaml\r\n",
      "\u001b[32m[I 19:52:24 InstallContribNbextensionsApp]\u001b[m Up to date: /Users/levan/Library/Jupyter/nbextensions/ruler/readme.md\r\n",
      "\u001b[32m[I 19:52:24 InstallContribNbextensionsApp]\u001b[m Up to date: /Users/levan/Library/Jupyter/nbextensions/ruler/main.js\r\n",
      "\u001b[32m[I 19:52:24 InstallContribNbextensionsApp]\u001b[m Up to date: /Users/levan/Library/Jupyter/nbextensions/ruler/ruler.yaml\r\n",
      "\u001b[32m[I 19:52:24 InstallContribNbextensionsApp]\u001b[m - Validating: \u001b[32mOK\u001b[0m\r\n",
      "\u001b[32m[I 19:52:24 InstallContribNbextensionsApp]\u001b[m Installing /Users/levan/anaconda3/envs/edu/lib/python3.7/site-packages/jupyter_contrib_nbextensions/nbextensions/contrib_nbextensions_help_item -> contrib_nbextensions_help_item\r\n",
      "\u001b[32m[I 19:52:24 InstallContribNbextensionsApp]\u001b[m Making directory: /Users/levan/Library/Jupyter/nbextensions/contrib_nbextensions_help_item/\r\n",
      "\u001b[32m[I 19:52:24 InstallContribNbextensionsApp]\u001b[m Copying: /Users/levan/anaconda3/envs/edu/lib/python3.7/site-packages/jupyter_contrib_nbextensions/nbextensions/contrib_nbextensions_help_item/README.md -> /Users/levan/Library/Jupyter/nbextensions/contrib_nbextensions_help_item/README.md\r\n",
      "\u001b[32m[I 19:52:24 InstallContribNbextensionsApp]\u001b[m Copying: /Users/levan/anaconda3/envs/edu/lib/python3.7/site-packages/jupyter_contrib_nbextensions/nbextensions/contrib_nbextensions_help_item/main.js -> /Users/levan/Library/Jupyter/nbextensions/contrib_nbextensions_help_item/main.js\r\n",
      "\u001b[32m[I 19:52:24 InstallContribNbextensionsApp]\u001b[m Copying: /Users/levan/anaconda3/envs/edu/lib/python3.7/site-packages/jupyter_contrib_nbextensions/nbextensions/contrib_nbextensions_help_item/contrib_nbextensions_help_item.yaml -> /Users/levan/Library/Jupyter/nbextensions/contrib_nbextensions_help_item/contrib_nbextensions_help_item.yaml\r\n",
      "\u001b[32m[I 19:52:24 InstallContribNbextensionsApp]\u001b[m - Validating: \u001b[32mOK\u001b[0m\r\n",
      "\u001b[32m[I 19:52:24 InstallContribNbextensionsApp]\u001b[m Installing /Users/levan/anaconda3/envs/edu/lib/python3.7/site-packages/jupyter_contrib_nbextensions/nbextensions/datestamper -> datestamper\r\n",
      "\u001b[32m[I 19:52:24 InstallContribNbextensionsApp]\u001b[m Making directory: /Users/levan/Library/Jupyter/nbextensions/datestamper/\r\n",
      "\u001b[32m[I 19:52:24 InstallContribNbextensionsApp]\u001b[m Copying: /Users/levan/anaconda3/envs/edu/lib/python3.7/site-packages/jupyter_contrib_nbextensions/nbextensions/datestamper/icon.png -> /Users/levan/Library/Jupyter/nbextensions/datestamper/icon.png\r\n",
      "\u001b[32m[I 19:52:24 InstallContribNbextensionsApp]\u001b[m Copying: /Users/levan/anaconda3/envs/edu/lib/python3.7/site-packages/jupyter_contrib_nbextensions/nbextensions/datestamper/main.yaml -> /Users/levan/Library/Jupyter/nbextensions/datestamper/main.yaml\r\n",
      "\u001b[32m[I 19:52:24 InstallContribNbextensionsApp]\u001b[m Copying: /Users/levan/anaconda3/envs/edu/lib/python3.7/site-packages/jupyter_contrib_nbextensions/nbextensions/datestamper/readme.md -> /Users/levan/Library/Jupyter/nbextensions/datestamper/readme.md\r\n",
      "\u001b[32m[I 19:52:24 InstallContribNbextensionsApp]\u001b[m Copying: /Users/levan/anaconda3/envs/edu/lib/python3.7/site-packages/jupyter_contrib_nbextensions/nbextensions/datestamper/main.js -> /Users/levan/Library/Jupyter/nbextensions/datestamper/main.js\r\n",
      "\u001b[32m[I 19:52:24 InstallContribNbextensionsApp]\u001b[m - Validating: \u001b[32mOK\u001b[0m\r\n",
      "\u001b[32m[I 19:52:24 InstallContribNbextensionsApp]\u001b[m Installing /Users/levan/anaconda3/envs/edu/lib/python3.7/site-packages/jupyter_contrib_nbextensions/nbextensions/go_to_current_running_cell -> go_to_current_running_cell\r\n",
      "\u001b[32m[I 19:52:24 InstallContribNbextensionsApp]\u001b[m Making directory: /Users/levan/Library/Jupyter/nbextensions/go_to_current_running_cell/\r\n",
      "\u001b[32m[I 19:52:24 InstallContribNbextensionsApp]\u001b[m Copying: /Users/levan/anaconda3/envs/edu/lib/python3.7/site-packages/jupyter_contrib_nbextensions/nbextensions/go_to_current_running_cell/jump_to_cell.gif -> /Users/levan/Library/Jupyter/nbextensions/go_to_current_running_cell/jump_to_cell.gif\r\n",
      "\u001b[32m[I 19:52:24 InstallContribNbextensionsApp]\u001b[m Copying: /Users/levan/anaconda3/envs/edu/lib/python3.7/site-packages/jupyter_contrib_nbextensions/nbextensions/go_to_current_running_cell/README.md -> /Users/levan/Library/Jupyter/nbextensions/go_to_current_running_cell/README.md\r\n",
      "\u001b[32m[I 19:52:24 InstallContribNbextensionsApp]\u001b[m Copying: /Users/levan/anaconda3/envs/edu/lib/python3.7/site-packages/jupyter_contrib_nbextensions/nbextensions/go_to_current_running_cell/main.js -> /Users/levan/Library/Jupyter/nbextensions/go_to_current_running_cell/main.js\r\n",
      "\u001b[32m[I 19:52:24 InstallContribNbextensionsApp]\u001b[m Copying: /Users/levan/anaconda3/envs/edu/lib/python3.7/site-packages/jupyter_contrib_nbextensions/nbextensions/go_to_current_running_cell/go_to_current_running_cell.yaml -> /Users/levan/Library/Jupyter/nbextensions/go_to_current_running_cell/go_to_current_running_cell.yaml\r\n",
      "\u001b[32m[I 19:52:24 InstallContribNbextensionsApp]\u001b[m Copying: /Users/levan/anaconda3/envs/edu/lib/python3.7/site-packages/jupyter_contrib_nbextensions/nbextensions/go_to_current_running_cell/auto_focus.gif -> /Users/levan/Library/Jupyter/nbextensions/go_to_current_running_cell/auto_focus.gif\r\n",
      "\u001b[32m[I 19:52:24 InstallContribNbextensionsApp]\u001b[m Copying: /Users/levan/anaconda3/envs/edu/lib/python3.7/site-packages/jupyter_contrib_nbextensions/nbextensions/go_to_current_running_cell/eye.png -> /Users/levan/Library/Jupyter/nbextensions/go_to_current_running_cell/eye.png\r\n",
      "\u001b[32m[I 19:52:24 InstallContribNbextensionsApp]\u001b[m Copying: /Users/levan/anaconda3/envs/edu/lib/python3.7/site-packages/jupyter_contrib_nbextensions/nbextensions/go_to_current_running_cell/anchor.png -> /Users/levan/Library/Jupyter/nbextensions/go_to_current_running_cell/anchor.png\r\n",
      "\u001b[32m[I 19:52:24 InstallContribNbextensionsApp]\u001b[m - Validating: \u001b[32mOK\u001b[0m\r\n",
      "\u001b[32m[I 19:52:24 InstallContribNbextensionsApp]\u001b[m Installing /Users/levan/anaconda3/envs/edu/lib/python3.7/site-packages/jupyter_contrib_nbextensions/nbextensions/init_cell -> init_cell\r\n",
      "\u001b[32m[I 19:52:24 InstallContribNbextensionsApp]\u001b[m Making directory: /Users/levan/Library/Jupyter/nbextensions/init_cell/\r\n",
      "\u001b[32m[I 19:52:24 InstallContribNbextensionsApp]\u001b[m Copying: /Users/levan/anaconda3/envs/edu/lib/python3.7/site-packages/jupyter_contrib_nbextensions/nbextensions/init_cell/init_cell.yaml -> /Users/levan/Library/Jupyter/nbextensions/init_cell/init_cell.yaml\r\n",
      "\u001b[32m[I 19:52:24 InstallContribNbextensionsApp]\u001b[m Copying: /Users/levan/anaconda3/envs/edu/lib/python3.7/site-packages/jupyter_contrib_nbextensions/nbextensions/init_cell/icon.png -> /Users/levan/Library/Jupyter/nbextensions/init_cell/icon.png\r\n",
      "\u001b[32m[I 19:52:24 InstallContribNbextensionsApp]\u001b[m Copying: /Users/levan/anaconda3/envs/edu/lib/python3.7/site-packages/jupyter_contrib_nbextensions/nbextensions/init_cell/README.md -> /Users/levan/Library/Jupyter/nbextensions/init_cell/README.md\r\n",
      "\u001b[32m[I 19:52:24 InstallContribNbextensionsApp]\u001b[m Copying: /Users/levan/anaconda3/envs/edu/lib/python3.7/site-packages/jupyter_contrib_nbextensions/nbextensions/init_cell/main.js -> /Users/levan/Library/Jupyter/nbextensions/init_cell/main.js\r\n",
      "\u001b[32m[I 19:52:24 InstallContribNbextensionsApp]\u001b[m Copying: /Users/levan/anaconda3/envs/edu/lib/python3.7/site-packages/jupyter_contrib_nbextensions/nbextensions/init_cell/cell_toolbar_menu.png -> /Users/levan/Library/Jupyter/nbextensions/init_cell/cell_toolbar_menu.png\r\n",
      "\u001b[32m[I 19:52:24 InstallContribNbextensionsApp]\u001b[m - Validating: \u001b[32mOK\u001b[0m\r\n",
      "\u001b[32m[I 19:52:24 InstallContribNbextensionsApp]\u001b[m Installing /Users/levan/anaconda3/envs/edu/lib/python3.7/site-packages/jupyter_contrib_nbextensions/nbextensions/limit_output -> limit_output\r\n",
      "\u001b[32m[I 19:52:24 InstallContribNbextensionsApp]\u001b[m Making directory: /Users/levan/Library/Jupyter/nbextensions/limit_output/\r\n",
      "\u001b[32m[I 19:52:24 InstallContribNbextensionsApp]\u001b[m Copying: /Users/levan/anaconda3/envs/edu/lib/python3.7/site-packages/jupyter_contrib_nbextensions/nbextensions/limit_output/icon.png -> /Users/levan/Library/Jupyter/nbextensions/limit_output/icon.png\r\n",
      "\u001b[32m[I 19:52:24 InstallContribNbextensionsApp]\u001b[m Copying: /Users/levan/anaconda3/envs/edu/lib/python3.7/site-packages/jupyter_contrib_nbextensions/nbextensions/limit_output/readme.md -> /Users/levan/Library/Jupyter/nbextensions/limit_output/readme.md\r\n",
      "\u001b[32m[I 19:52:24 InstallContribNbextensionsApp]\u001b[m Copying: /Users/levan/anaconda3/envs/edu/lib/python3.7/site-packages/jupyter_contrib_nbextensions/nbextensions/limit_output/main.js -> /Users/levan/Library/Jupyter/nbextensions/limit_output/main.js\r\n",
      "\u001b[32m[I 19:52:24 InstallContribNbextensionsApp]\u001b[m Copying: /Users/levan/anaconda3/envs/edu/lib/python3.7/site-packages/jupyter_contrib_nbextensions/nbextensions/limit_output/limit-output.yaml -> /Users/levan/Library/Jupyter/nbextensions/limit_output/limit-output.yaml\r\n",
      "\u001b[32m[I 19:52:24 InstallContribNbextensionsApp]\u001b[m - Validating: \u001b[32mOK\u001b[0m\r\n",
      "\u001b[32m[I 19:52:24 InstallContribNbextensionsApp]\u001b[m Installing /Users/levan/anaconda3/envs/edu/lib/python3.7/site-packages/jupyter_contrib_nbextensions/nbextensions/qtconsole -> qtconsole\r\n",
      "\u001b[32m[I 19:52:24 InstallContribNbextensionsApp]\u001b[m Making directory: /Users/levan/Library/Jupyter/nbextensions/qtconsole/\r\n",
      "\u001b[32m[I 19:52:24 InstallContribNbextensionsApp]\u001b[m Copying: /Users/levan/anaconda3/envs/edu/lib/python3.7/site-packages/jupyter_contrib_nbextensions/nbextensions/qtconsole/qtconsole.js -> /Users/levan/Library/Jupyter/nbextensions/qtconsole/qtconsole.js\r\n",
      "\u001b[32m[I 19:52:24 InstallContribNbextensionsApp]\u001b[m Copying: /Users/levan/anaconda3/envs/edu/lib/python3.7/site-packages/jupyter_contrib_nbextensions/nbextensions/qtconsole/qtconsole.yaml -> /Users/levan/Library/Jupyter/nbextensions/qtconsole/qtconsole.yaml\r\n",
      "\u001b[32m[I 19:52:24 InstallContribNbextensionsApp]\u001b[m Copying: /Users/levan/anaconda3/envs/edu/lib/python3.7/site-packages/jupyter_contrib_nbextensions/nbextensions/qtconsole/README.md -> /Users/levan/Library/Jupyter/nbextensions/qtconsole/README.md\r\n",
      "\u001b[32m[I 19:52:24 InstallContribNbextensionsApp]\u001b[m - Validating: \u001b[32mOK\u001b[0m\r\n",
      "\u001b[32m[I 19:52:24 InstallContribNbextensionsApp]\u001b[m Installing /Users/levan/anaconda3/envs/edu/lib/python3.7/site-packages/jupyter_contrib_nbextensions/nbextensions/addbefore -> addbefore\r\n",
      "\u001b[32m[I 19:52:24 InstallContribNbextensionsApp]\u001b[m Making directory: /Users/levan/Library/Jupyter/nbextensions/addbefore/\r\n",
      "\u001b[32m[I 19:52:24 InstallContribNbextensionsApp]\u001b[m Copying: /Users/levan/anaconda3/envs/edu/lib/python3.7/site-packages/jupyter_contrib_nbextensions/nbextensions/addbefore/icon.png -> /Users/levan/Library/Jupyter/nbextensions/addbefore/icon.png\r\n",
      "\u001b[32m[I 19:52:24 InstallContribNbextensionsApp]\u001b[m Copying: /Users/levan/anaconda3/envs/edu/lib/python3.7/site-packages/jupyter_contrib_nbextensions/nbextensions/addbefore/readme.md -> /Users/levan/Library/Jupyter/nbextensions/addbefore/readme.md\r\n",
      "\u001b[32m[I 19:52:24 InstallContribNbextensionsApp]\u001b[m Copying: /Users/levan/anaconda3/envs/edu/lib/python3.7/site-packages/jupyter_contrib_nbextensions/nbextensions/addbefore/main.js -> /Users/levan/Library/Jupyter/nbextensions/addbefore/main.js\r\n",
      "\u001b[32m[I 19:52:24 InstallContribNbextensionsApp]\u001b[m Copying: /Users/levan/anaconda3/envs/edu/lib/python3.7/site-packages/jupyter_contrib_nbextensions/nbextensions/addbefore/addbefore.yaml -> /Users/levan/Library/Jupyter/nbextensions/addbefore/addbefore.yaml\r\n",
      "\u001b[32m[I 19:52:24 InstallContribNbextensionsApp]\u001b[m - Validating: \u001b[32mOK\u001b[0m\r\n",
      "\u001b[32m[I 19:52:24 InstallContribNbextensionsApp]\u001b[m Installing /Users/levan/anaconda3/envs/edu/lib/python3.7/site-packages/jupyter_contrib_nbextensions/nbextensions/highlighter -> highlighter\r\n",
      "\u001b[32m[I 19:52:24 InstallContribNbextensionsApp]\u001b[m Making directory: /Users/levan/Library/Jupyter/nbextensions/highlighter/\r\n",
      "\u001b[32m[I 19:52:24 InstallContribNbextensionsApp]\u001b[m Copying: /Users/levan/anaconda3/envs/edu/lib/python3.7/site-packages/jupyter_contrib_nbextensions/nbextensions/highlighter/icon.png -> /Users/levan/Library/Jupyter/nbextensions/highlighter/icon.png\r\n",
      "\u001b[32m[I 19:52:24 InstallContribNbextensionsApp]\u001b[m Copying: /Users/levan/anaconda3/envs/edu/lib/python3.7/site-packages/jupyter_contrib_nbextensions/nbextensions/highlighter/export_highlights.pdf -> /Users/levan/Library/Jupyter/nbextensions/highlighter/export_highlights.pdf\r\n",
      "\u001b[32m[I 19:52:24 InstallContribNbextensionsApp]\u001b[m Copying: /Users/levan/anaconda3/envs/edu/lib/python3.7/site-packages/jupyter_contrib_nbextensions/nbextensions/highlighter/demo_highlighter.html -> /Users/levan/Library/Jupyter/nbextensions/highlighter/demo_highlighter.html\r\n",
      "\u001b[32m[I 19:52:24 InstallContribNbextensionsApp]\u001b[m Copying: /Users/levan/anaconda3/envs/edu/lib/python3.7/site-packages/jupyter_contrib_nbextensions/nbextensions/highlighter/demo_highlighter.ipynb -> /Users/levan/Library/Jupyter/nbextensions/highlighter/demo_highlighter.ipynb\r\n",
      "\u001b[32m[I 19:52:24 InstallContribNbextensionsApp]\u001b[m Copying: /Users/levan/anaconda3/envs/edu/lib/python3.7/site-packages/jupyter_contrib_nbextensions/nbextensions/highlighter/tst_highlights.ipynb -> /Users/levan/Library/Jupyter/nbextensions/highlighter/tst_highlights.ipynb\r\n",
      "\u001b[32m[I 19:52:24 InstallContribNbextensionsApp]\u001b[m Copying: /Users/levan/anaconda3/envs/edu/lib/python3.7/site-packages/jupyter_contrib_nbextensions/nbextensions/highlighter/export_highlights.ipynb -> /Users/levan/Library/Jupyter/nbextensions/highlighter/export_highlights.ipynb\r\n",
      "\u001b[32m[I 19:52:24 InstallContribNbextensionsApp]\u001b[m Copying: /Users/levan/anaconda3/envs/edu/lib/python3.7/site-packages/jupyter_contrib_nbextensions/nbextensions/highlighter/tst_highlights.html -> /Users/levan/Library/Jupyter/nbextensions/highlighter/tst_highlights.html\r\n",
      "\u001b[32m[I 19:52:24 InstallContribNbextensionsApp]\u001b[m Copying: /Users/levan/anaconda3/envs/edu/lib/python3.7/site-packages/jupyter_contrib_nbextensions/nbextensions/highlighter/export_highlights.tex -> /Users/levan/Library/Jupyter/nbextensions/highlighter/export_highlights.tex\r\n",
      "\u001b[32m[I 19:52:24 InstallContribNbextensionsApp]\u001b[m Copying: /Users/levan/anaconda3/envs/edu/lib/python3.7/site-packages/jupyter_contrib_nbextensions/nbextensions/highlighter/image.gif -> /Users/levan/Library/Jupyter/nbextensions/highlighter/image.gif\r\n",
      "\u001b[32m[I 19:52:24 InstallContribNbextensionsApp]\u001b[m Copying: /Users/levan/anaconda3/envs/edu/lib/python3.7/site-packages/jupyter_contrib_nbextensions/nbextensions/highlighter/readme.md -> /Users/levan/Library/Jupyter/nbextensions/highlighter/readme.md\r\n",
      "\u001b[32m[I 19:52:24 InstallContribNbextensionsApp]\u001b[m Copying: /Users/levan/anaconda3/envs/edu/lib/python3.7/site-packages/jupyter_contrib_nbextensions/nbextensions/highlighter/highlighter.css -> /Users/levan/Library/Jupyter/nbextensions/highlighter/highlighter.css\r\n",
      "\u001b[32m[I 19:52:24 InstallContribNbextensionsApp]\u001b[m Copying: /Users/levan/anaconda3/envs/edu/lib/python3.7/site-packages/jupyter_contrib_nbextensions/nbextensions/highlighter/tst_highlights.pdf -> /Users/levan/Library/Jupyter/nbextensions/highlighter/tst_highlights.pdf\r\n",
      "\u001b[32m[I 19:52:24 InstallContribNbextensionsApp]\u001b[m Copying: /Users/levan/anaconda3/envs/edu/lib/python3.7/site-packages/jupyter_contrib_nbextensions/nbextensions/highlighter/export_highlights.html -> /Users/levan/Library/Jupyter/nbextensions/highlighter/export_highlights.html\r\n",
      "\u001b[32m[I 19:52:24 InstallContribNbextensionsApp]\u001b[m Copying: /Users/levan/anaconda3/envs/edu/lib/python3.7/site-packages/jupyter_contrib_nbextensions/nbextensions/highlighter/tst_highlights.tex -> /Users/levan/Library/Jupyter/nbextensions/highlighter/tst_highlights.tex\r\n",
      "\u001b[32m[I 19:52:24 InstallContribNbextensionsApp]\u001b[m Copying: /Users/levan/anaconda3/envs/edu/lib/python3.7/site-packages/jupyter_contrib_nbextensions/nbextensions/highlighter/highlighter.yaml -> /Users/levan/Library/Jupyter/nbextensions/highlighter/highlighter.yaml\r\n",
      "\u001b[32m[I 19:52:24 InstallContribNbextensionsApp]\u001b[m Copying: /Users/levan/anaconda3/envs/edu/lib/python3.7/site-packages/jupyter_contrib_nbextensions/nbextensions/highlighter/highlighter.js -> /Users/levan/Library/Jupyter/nbextensions/highlighter/highlighter.js\r\n",
      "\u001b[32m[I 19:52:24 InstallContribNbextensionsApp]\u001b[m - Validating: \u001b[32mOK\u001b[0m\r\n",
      "\u001b[32m[I 19:52:24 InstallContribNbextensionsApp]\u001b[m Installing /Users/levan/anaconda3/envs/edu/lib/python3.7/site-packages/jupyter_contrib_nbextensions/nbextensions/comment-uncomment -> comment-uncomment\r\n",
      "\u001b[32m[I 19:52:24 InstallContribNbextensionsApp]\u001b[m Making directory: /Users/levan/Library/Jupyter/nbextensions/comment-uncomment/\r\n",
      "\u001b[32m[I 19:52:24 InstallContribNbextensionsApp]\u001b[m Copying: /Users/levan/anaconda3/envs/edu/lib/python3.7/site-packages/jupyter_contrib_nbextensions/nbextensions/comment-uncomment/icon.png -> /Users/levan/Library/Jupyter/nbextensions/comment-uncomment/icon.png\r\n",
      "\u001b[32m[I 19:52:24 InstallContribNbextensionsApp]\u001b[m Copying: /Users/levan/anaconda3/envs/edu/lib/python3.7/site-packages/jupyter_contrib_nbextensions/nbextensions/comment-uncomment/readme.md -> /Users/levan/Library/Jupyter/nbextensions/comment-uncomment/readme.md\r\n",
      "\u001b[32m[I 19:52:24 InstallContribNbextensionsApp]\u001b[m Copying: /Users/levan/anaconda3/envs/edu/lib/python3.7/site-packages/jupyter_contrib_nbextensions/nbextensions/comment-uncomment/main.js -> /Users/levan/Library/Jupyter/nbextensions/comment-uncomment/main.js\r\n",
      "\u001b[32m[I 19:52:24 InstallContribNbextensionsApp]\u001b[m Copying: /Users/levan/anaconda3/envs/edu/lib/python3.7/site-packages/jupyter_contrib_nbextensions/nbextensions/comment-uncomment/comment-uncomment.yaml -> /Users/levan/Library/Jupyter/nbextensions/comment-uncomment/comment-uncomment.yaml\r\n",
      "\u001b[32m[I 19:52:24 InstallContribNbextensionsApp]\u001b[m - Validating: \u001b[32mOK\u001b[0m\r\n",
      "\u001b[32m[I 19:52:24 InstallContribNbextensionsApp]\u001b[m Installing /Users/levan/anaconda3/envs/edu/lib/python3.7/site-packages/jupyter_contrib_nbextensions/nbextensions/code_font_size -> code_font_size\r\n",
      "\u001b[32m[I 19:52:24 InstallContribNbextensionsApp]\u001b[m Making directory: /Users/levan/Library/Jupyter/nbextensions/code_font_size/\r\n",
      "\u001b[32m[I 19:52:24 InstallContribNbextensionsApp]\u001b[m Copying: /Users/levan/anaconda3/envs/edu/lib/python3.7/site-packages/jupyter_contrib_nbextensions/nbextensions/code_font_size/code_font_size.yaml -> /Users/levan/Library/Jupyter/nbextensions/code_font_size/code_font_size.yaml\r\n",
      "\u001b[32m[I 19:52:24 InstallContribNbextensionsApp]\u001b[m Copying: /Users/levan/anaconda3/envs/edu/lib/python3.7/site-packages/jupyter_contrib_nbextensions/nbextensions/code_font_size/code_font_size.js -> /Users/levan/Library/Jupyter/nbextensions/code_font_size/code_font_size.js\r\n"
     ]
    },
    {
     "name": "stdout",
     "output_type": "stream",
     "text": [
      "\u001b[32m[I 19:52:24 InstallContribNbextensionsApp]\u001b[m Copying: /Users/levan/anaconda3/envs/edu/lib/python3.7/site-packages/jupyter_contrib_nbextensions/nbextensions/code_font_size/README.md -> /Users/levan/Library/Jupyter/nbextensions/code_font_size/README.md\r\n",
      "\u001b[32m[I 19:52:24 InstallContribNbextensionsApp]\u001b[m - Validating: \u001b[32mOK\u001b[0m\r\n",
      "\u001b[32m[I 19:52:24 InstallContribNbextensionsApp]\u001b[m Installing /Users/levan/anaconda3/envs/edu/lib/python3.7/site-packages/jupyter_contrib_nbextensions/nbextensions/varInspector -> varInspector\r\n",
      "\u001b[32m[I 19:52:24 InstallContribNbextensionsApp]\u001b[m Making directory: /Users/levan/Library/Jupyter/nbextensions/varInspector/\r\n",
      "\u001b[32m[I 19:52:24 InstallContribNbextensionsApp]\u001b[m Copying: /Users/levan/anaconda3/envs/edu/lib/python3.7/site-packages/jupyter_contrib_nbextensions/nbextensions/varInspector/icon.png -> /Users/levan/Library/Jupyter/nbextensions/varInspector/icon.png\r\n",
      "\u001b[32m[I 19:52:24 InstallContribNbextensionsApp]\u001b[m Copying: /Users/levan/anaconda3/envs/edu/lib/python3.7/site-packages/jupyter_contrib_nbextensions/nbextensions/varInspector/jquery.tablesorter.min.js -> /Users/levan/Library/Jupyter/nbextensions/varInspector/jquery.tablesorter.min.js\r\n",
      "\u001b[32m[I 19:52:24 InstallContribNbextensionsApp]\u001b[m Copying: /Users/levan/anaconda3/envs/edu/lib/python3.7/site-packages/jupyter_contrib_nbextensions/nbextensions/varInspector/varInspector.yaml -> /Users/levan/Library/Jupyter/nbextensions/varInspector/varInspector.yaml\r\n",
      "\u001b[32m[I 19:52:24 InstallContribNbextensionsApp]\u001b[m Copying: /Users/levan/anaconda3/envs/edu/lib/python3.7/site-packages/jupyter_contrib_nbextensions/nbextensions/varInspector/main.css -> /Users/levan/Library/Jupyter/nbextensions/varInspector/main.css\r\n",
      "\u001b[32m[I 19:52:24 InstallContribNbextensionsApp]\u001b[m Copying: /Users/levan/anaconda3/envs/edu/lib/python3.7/site-packages/jupyter_contrib_nbextensions/nbextensions/varInspector/var_list.py -> /Users/levan/Library/Jupyter/nbextensions/varInspector/var_list.py\r\n",
      "\u001b[32m[I 19:52:24 InstallContribNbextensionsApp]\u001b[m Copying: /Users/levan/anaconda3/envs/edu/lib/python3.7/site-packages/jupyter_contrib_nbextensions/nbextensions/varInspector/README.md -> /Users/levan/Library/Jupyter/nbextensions/varInspector/README.md\r\n",
      "\u001b[32m[I 19:52:24 InstallContribNbextensionsApp]\u001b[m Copying: /Users/levan/anaconda3/envs/edu/lib/python3.7/site-packages/jupyter_contrib_nbextensions/nbextensions/varInspector/main.js -> /Users/levan/Library/Jupyter/nbextensions/varInspector/main.js\r\n",
      "\u001b[32m[I 19:52:24 InstallContribNbextensionsApp]\u001b[m Copying: /Users/levan/anaconda3/envs/edu/lib/python3.7/site-packages/jupyter_contrib_nbextensions/nbextensions/varInspector/var_list.r -> /Users/levan/Library/Jupyter/nbextensions/varInspector/var_list.r\r\n",
      "\u001b[32m[I 19:52:24 InstallContribNbextensionsApp]\u001b[m Copying: /Users/levan/anaconda3/envs/edu/lib/python3.7/site-packages/jupyter_contrib_nbextensions/nbextensions/varInspector/tablesorter_LICENSE.txt -> /Users/levan/Library/Jupyter/nbextensions/varInspector/tablesorter_LICENSE.txt\r\n",
      "\u001b[32m[I 19:52:24 InstallContribNbextensionsApp]\u001b[m Copying: /Users/levan/anaconda3/envs/edu/lib/python3.7/site-packages/jupyter_contrib_nbextensions/nbextensions/varInspector/demo.gif -> /Users/levan/Library/Jupyter/nbextensions/varInspector/demo.gif\r\n",
      "\u001b[32m[I 19:52:24 InstallContribNbextensionsApp]\u001b[m Making directory: /Users/levan/Library/Jupyter/nbextensions/varInspector/__pycache__\r\n",
      "\u001b[32m[I 19:52:24 InstallContribNbextensionsApp]\u001b[m Copying: /Users/levan/anaconda3/envs/edu/lib/python3.7/site-packages/jupyter_contrib_nbextensions/nbextensions/varInspector/__pycache__/var_list.cpython-37.pyc -> /Users/levan/Library/Jupyter/nbextensions/varInspector/__pycache__/var_list.cpython-37.pyc\r\n",
      "\u001b[32m[I 19:52:24 InstallContribNbextensionsApp]\u001b[m - Validating: \u001b[32mOK\u001b[0m\r\n",
      "\u001b[32m[I 19:52:24 InstallContribNbextensionsApp]\u001b[m Installing /Users/levan/anaconda3/envs/edu/lib/python3.7/site-packages/jupyter_contrib_nbextensions/nbextensions/execute_time -> execute_time\r\n",
      "\u001b[32m[I 19:52:24 InstallContribNbextensionsApp]\u001b[m Making directory: /Users/levan/Library/Jupyter/nbextensions/execute_time/\r\n",
      "\u001b[32m[I 19:52:24 InstallContribNbextensionsApp]\u001b[m Copying: /Users/levan/anaconda3/envs/edu/lib/python3.7/site-packages/jupyter_contrib_nbextensions/nbextensions/execute_time/ExecuteTime.js -> /Users/levan/Library/Jupyter/nbextensions/execute_time/ExecuteTime.js\r\n",
      "\u001b[32m[I 19:52:24 InstallContribNbextensionsApp]\u001b[m Copying: /Users/levan/anaconda3/envs/edu/lib/python3.7/site-packages/jupyter_contrib_nbextensions/nbextensions/execute_time/icon.png -> /Users/levan/Library/Jupyter/nbextensions/execute_time/icon.png\r\n",
      "\u001b[32m[I 19:52:24 InstallContribNbextensionsApp]\u001b[m Copying: /Users/levan/anaconda3/envs/edu/lib/python3.7/site-packages/jupyter_contrib_nbextensions/nbextensions/execute_time/execution-timings-box.png -> /Users/levan/Library/Jupyter/nbextensions/execute_time/execution-timings-box.png\r\n",
      "\u001b[32m[I 19:52:24 InstallContribNbextensionsApp]\u001b[m Copying: /Users/levan/anaconda3/envs/edu/lib/python3.7/site-packages/jupyter_contrib_nbextensions/nbextensions/execute_time/ExecuteTime.css -> /Users/levan/Library/Jupyter/nbextensions/execute_time/ExecuteTime.css\r\n",
      "\u001b[32m[I 19:52:24 InstallContribNbextensionsApp]\u001b[m Copying: /Users/levan/anaconda3/envs/edu/lib/python3.7/site-packages/jupyter_contrib_nbextensions/nbextensions/execute_time/ExecuteTime.yaml -> /Users/levan/Library/Jupyter/nbextensions/execute_time/ExecuteTime.yaml\r\n",
      "\u001b[32m[I 19:52:24 InstallContribNbextensionsApp]\u001b[m Copying: /Users/levan/anaconda3/envs/edu/lib/python3.7/site-packages/jupyter_contrib_nbextensions/nbextensions/execute_time/execution-timings-menu.png -> /Users/levan/Library/Jupyter/nbextensions/execute_time/execution-timings-menu.png\r\n",
      "\u001b[32m[I 19:52:24 InstallContribNbextensionsApp]\u001b[m Copying: /Users/levan/anaconda3/envs/edu/lib/python3.7/site-packages/jupyter_contrib_nbextensions/nbextensions/execute_time/readme.md -> /Users/levan/Library/Jupyter/nbextensions/execute_time/readme.md\r\n",
      "\u001b[32m[I 19:52:24 InstallContribNbextensionsApp]\u001b[m - Validating: \u001b[32mOK\u001b[0m\r\n",
      "\u001b[32m[I 19:52:24 InstallContribNbextensionsApp]\u001b[m Installing /Users/levan/anaconda3/envs/edu/lib/python3.7/site-packages/jupyter_contrib_nbextensions/nbextensions/spellchecker -> spellchecker\r\n",
      "\u001b[32m[I 19:52:24 InstallContribNbextensionsApp]\u001b[m Making directory: /Users/levan/Library/Jupyter/nbextensions/spellchecker/\r\n",
      "\u001b[32m[I 19:52:24 InstallContribNbextensionsApp]\u001b[m Copying: /Users/levan/anaconda3/envs/edu/lib/python3.7/site-packages/jupyter_contrib_nbextensions/nbextensions/spellchecker/download_new_dict.py -> /Users/levan/Library/Jupyter/nbextensions/spellchecker/download_new_dict.py\r\n",
      "\u001b[32m[I 19:52:24 InstallContribNbextensionsApp]\u001b[m Copying: /Users/levan/anaconda3/envs/edu/lib/python3.7/site-packages/jupyter_contrib_nbextensions/nbextensions/spellchecker/screenshot.png -> /Users/levan/Library/Jupyter/nbextensions/spellchecker/screenshot.png\r\n",
      "\u001b[32m[I 19:52:24 InstallContribNbextensionsApp]\u001b[m Copying: /Users/levan/anaconda3/envs/edu/lib/python3.7/site-packages/jupyter_contrib_nbextensions/nbextensions/spellchecker/config.yaml -> /Users/levan/Library/Jupyter/nbextensions/spellchecker/config.yaml\r\n",
      "\u001b[32m[I 19:52:24 InstallContribNbextensionsApp]\u001b[m Copying: /Users/levan/anaconda3/envs/edu/lib/python3.7/site-packages/jupyter_contrib_nbextensions/nbextensions/spellchecker/main.css -> /Users/levan/Library/Jupyter/nbextensions/spellchecker/main.css\r\n",
      "\u001b[32m[I 19:52:24 InstallContribNbextensionsApp]\u001b[m Copying: /Users/levan/anaconda3/envs/edu/lib/python3.7/site-packages/jupyter_contrib_nbextensions/nbextensions/spellchecker/README.md -> /Users/levan/Library/Jupyter/nbextensions/spellchecker/README.md\r\n",
      "\u001b[32m[I 19:52:24 InstallContribNbextensionsApp]\u001b[m Copying: /Users/levan/anaconda3/envs/edu/lib/python3.7/site-packages/jupyter_contrib_nbextensions/nbextensions/spellchecker/main.js -> /Users/levan/Library/Jupyter/nbextensions/spellchecker/main.js\r\n",
      "\u001b[32m[I 19:52:24 InstallContribNbextensionsApp]\u001b[m Making directory: /Users/levan/Library/Jupyter/nbextensions/spellchecker/typo\r\n",
      "\u001b[32m[I 19:52:24 InstallContribNbextensionsApp]\u001b[m Copying: /Users/levan/anaconda3/envs/edu/lib/python3.7/site-packages/jupyter_contrib_nbextensions/nbextensions/spellchecker/typo/typo.js -> /Users/levan/Library/Jupyter/nbextensions/spellchecker/typo/typo.js\r\n",
      "\u001b[32m[I 19:52:24 InstallContribNbextensionsApp]\u001b[m Copying: /Users/levan/anaconda3/envs/edu/lib/python3.7/site-packages/jupyter_contrib_nbextensions/nbextensions/spellchecker/typo/LICENSE.txt -> /Users/levan/Library/Jupyter/nbextensions/spellchecker/typo/LICENSE.txt\r\n",
      "\u001b[32m[I 19:52:24 InstallContribNbextensionsApp]\u001b[m Making directory: /Users/levan/Library/Jupyter/nbextensions/spellchecker/__pycache__\r\n",
      "\u001b[32m[I 19:52:24 InstallContribNbextensionsApp]\u001b[m Copying: /Users/levan/anaconda3/envs/edu/lib/python3.7/site-packages/jupyter_contrib_nbextensions/nbextensions/spellchecker/__pycache__/download_new_dict.cpython-37.pyc -> /Users/levan/Library/Jupyter/nbextensions/spellchecker/__pycache__/download_new_dict.cpython-37.pyc\r\n",
      "\u001b[32m[I 19:52:24 InstallContribNbextensionsApp]\u001b[m - Validating: \u001b[32mOK\u001b[0m\r\n",
      "\u001b[32m[I 19:52:24 InstallContribNbextensionsApp]\u001b[m Installing /Users/levan/anaconda3/envs/edu/lib/python3.7/site-packages/jupyter_contrib_nbextensions/nbextensions/code_prettify -> code_prettify\r\n",
      "\u001b[32m[I 19:52:24 InstallContribNbextensionsApp]\u001b[m Making directory: /Users/levan/Library/Jupyter/nbextensions/code_prettify/\r\n",
      "\u001b[32m[I 19:52:24 InstallContribNbextensionsApp]\u001b[m Copying: /Users/levan/anaconda3/envs/edu/lib/python3.7/site-packages/jupyter_contrib_nbextensions/nbextensions/code_prettify/demo-py.gif -> /Users/levan/Library/Jupyter/nbextensions/code_prettify/demo-py.gif\r\n",
      "\u001b[32m[I 19:52:24 InstallContribNbextensionsApp]\u001b[m Copying: /Users/levan/anaconda3/envs/edu/lib/python3.7/site-packages/jupyter_contrib_nbextensions/nbextensions/code_prettify/kernel_exec_on_cell.js -> /Users/levan/Library/Jupyter/nbextensions/code_prettify/kernel_exec_on_cell.js\r\n",
      "\u001b[32m[I 19:52:24 InstallContribNbextensionsApp]\u001b[m Copying: /Users/levan/anaconda3/envs/edu/lib/python3.7/site-packages/jupyter_contrib_nbextensions/nbextensions/code_prettify/demo-jv.gif -> /Users/levan/Library/Jupyter/nbextensions/code_prettify/demo-jv.gif\r\n",
      "\u001b[32m[I 19:52:24 InstallContribNbextensionsApp]\u001b[m Copying: /Users/levan/anaconda3/envs/edu/lib/python3.7/site-packages/jupyter_contrib_nbextensions/nbextensions/code_prettify/README_2to3.md -> /Users/levan/Library/Jupyter/nbextensions/code_prettify/README_2to3.md\r\n",
      "\u001b[32m[I 19:52:24 InstallContribNbextensionsApp]\u001b[m Copying: /Users/levan/anaconda3/envs/edu/lib/python3.7/site-packages/jupyter_contrib_nbextensions/nbextensions/code_prettify/2to3.yaml -> /Users/levan/Library/Jupyter/nbextensions/code_prettify/2to3.yaml\r\n",
      "\u001b[32m[I 19:52:24 InstallContribNbextensionsApp]\u001b[m Copying: /Users/levan/anaconda3/envs/edu/lib/python3.7/site-packages/jupyter_contrib_nbextensions/nbextensions/code_prettify/README_autopep8.md -> /Users/levan/Library/Jupyter/nbextensions/code_prettify/README_autopep8.md\r\n",
      "\u001b[32m[I 19:52:24 InstallContribNbextensionsApp]\u001b[m Copying: /Users/levan/anaconda3/envs/edu/lib/python3.7/site-packages/jupyter_contrib_nbextensions/nbextensions/code_prettify/demo_2to3.gif -> /Users/levan/Library/Jupyter/nbextensions/code_prettify/demo_2to3.gif\r\n",
      "\u001b[32m[I 19:52:24 InstallContribNbextensionsApp]\u001b[m Copying: /Users/levan/anaconda3/envs/edu/lib/python3.7/site-packages/jupyter_contrib_nbextensions/nbextensions/code_prettify/README_isort.md -> /Users/levan/Library/Jupyter/nbextensions/code_prettify/README_isort.md\r\n",
      "\u001b[32m[I 19:52:24 InstallContribNbextensionsApp]\u001b[m Copying: /Users/levan/anaconda3/envs/edu/lib/python3.7/site-packages/jupyter_contrib_nbextensions/nbextensions/code_prettify/README_code_prettify.md -> /Users/levan/Library/Jupyter/nbextensions/code_prettify/README_code_prettify.md\r\n",
      "\u001b[32m[I 19:52:24 InstallContribNbextensionsApp]\u001b[m Copying: /Users/levan/anaconda3/envs/edu/lib/python3.7/site-packages/jupyter_contrib_nbextensions/nbextensions/code_prettify/README.md -> /Users/levan/Library/Jupyter/nbextensions/code_prettify/README.md\r\n",
      "\u001b[32m[I 19:52:24 InstallContribNbextensionsApp]\u001b[m Copying: /Users/levan/anaconda3/envs/edu/lib/python3.7/site-packages/jupyter_contrib_nbextensions/nbextensions/code_prettify/code_prettify.js -> /Users/levan/Library/Jupyter/nbextensions/code_prettify/code_prettify.js\r\n",
      "\u001b[32m[I 19:52:24 InstallContribNbextensionsApp]\u001b[m Copying: /Users/levan/anaconda3/envs/edu/lib/python3.7/site-packages/jupyter_contrib_nbextensions/nbextensions/code_prettify/autopep8.js -> /Users/levan/Library/Jupyter/nbextensions/code_prettify/autopep8.js\r\n",
      "\u001b[32m[I 19:52:24 InstallContribNbextensionsApp]\u001b[m Copying: /Users/levan/anaconda3/envs/edu/lib/python3.7/site-packages/jupyter_contrib_nbextensions/nbextensions/code_prettify/demo-R.gif -> /Users/levan/Library/Jupyter/nbextensions/code_prettify/demo-R.gif\r\n",
      "\u001b[32m[I 19:52:24 InstallContribNbextensionsApp]\u001b[m Copying: /Users/levan/anaconda3/envs/edu/lib/python3.7/site-packages/jupyter_contrib_nbextensions/nbextensions/code_prettify/isort.js -> /Users/levan/Library/Jupyter/nbextensions/code_prettify/isort.js\r\n",
      "\u001b[32m[I 19:52:24 InstallContribNbextensionsApp]\u001b[m Copying: /Users/levan/anaconda3/envs/edu/lib/python3.7/site-packages/jupyter_contrib_nbextensions/nbextensions/code_prettify/code_prettify.yaml -> /Users/levan/Library/Jupyter/nbextensions/code_prettify/code_prettify.yaml\r\n",
      "\u001b[32m[I 19:52:24 InstallContribNbextensionsApp]\u001b[m Copying: /Users/levan/anaconda3/envs/edu/lib/python3.7/site-packages/jupyter_contrib_nbextensions/nbextensions/code_prettify/2to3.js -> /Users/levan/Library/Jupyter/nbextensions/code_prettify/2to3.js\r\n",
      "\u001b[32m[I 19:52:24 InstallContribNbextensionsApp]\u001b[m Copying: /Users/levan/anaconda3/envs/edu/lib/python3.7/site-packages/jupyter_contrib_nbextensions/nbextensions/code_prettify/autopep8.yaml -> /Users/levan/Library/Jupyter/nbextensions/code_prettify/autopep8.yaml\r\n",
      "\u001b[32m[I 19:52:24 InstallContribNbextensionsApp]\u001b[m Copying: /Users/levan/anaconda3/envs/edu/lib/python3.7/site-packages/jupyter_contrib_nbextensions/nbextensions/code_prettify/isort.yaml -> /Users/levan/Library/Jupyter/nbextensions/code_prettify/isort.yaml\r\n",
      "\u001b[32m[I 19:52:24 InstallContribNbextensionsApp]\u001b[m - Validating: \u001b[32mOK\u001b[0m\r\n",
      "\u001b[32m[I 19:52:24 InstallContribNbextensionsApp]\u001b[m Installing /Users/levan/anaconda3/envs/edu/lib/python3.7/site-packages/jupyter_contrib_nbextensions/nbextensions/code_prettify -> code_prettify\r\n",
      "\u001b[32m[I 19:52:24 InstallContribNbextensionsApp]\u001b[m Up to date: /Users/levan/Library/Jupyter/nbextensions/code_prettify/demo-py.gif\r\n",
      "\u001b[32m[I 19:52:24 InstallContribNbextensionsApp]\u001b[m Up to date: /Users/levan/Library/Jupyter/nbextensions/code_prettify/kernel_exec_on_cell.js\r\n",
      "\u001b[32m[I 19:52:24 InstallContribNbextensionsApp]\u001b[m Up to date: /Users/levan/Library/Jupyter/nbextensions/code_prettify/demo-jv.gif\r\n",
      "\u001b[32m[I 19:52:24 InstallContribNbextensionsApp]\u001b[m Up to date: /Users/levan/Library/Jupyter/nbextensions/code_prettify/README_2to3.md\r\n",
      "\u001b[32m[I 19:52:24 InstallContribNbextensionsApp]\u001b[m Up to date: /Users/levan/Library/Jupyter/nbextensions/code_prettify/2to3.yaml\r\n",
      "\u001b[32m[I 19:52:24 InstallContribNbextensionsApp]\u001b[m Up to date: /Users/levan/Library/Jupyter/nbextensions/code_prettify/README_autopep8.md\r\n",
      "\u001b[32m[I 19:52:24 InstallContribNbextensionsApp]\u001b[m Up to date: /Users/levan/Library/Jupyter/nbextensions/code_prettify/demo_2to3.gif\r\n",
      "\u001b[32m[I 19:52:24 InstallContribNbextensionsApp]\u001b[m Up to date: /Users/levan/Library/Jupyter/nbextensions/code_prettify/README_isort.md\r\n",
      "\u001b[32m[I 19:52:24 InstallContribNbextensionsApp]\u001b[m Up to date: /Users/levan/Library/Jupyter/nbextensions/code_prettify/README_code_prettify.md\r\n",
      "\u001b[32m[I 19:52:24 InstallContribNbextensionsApp]\u001b[m Up to date: /Users/levan/Library/Jupyter/nbextensions/code_prettify/README.md\r\n",
      "\u001b[32m[I 19:52:24 InstallContribNbextensionsApp]\u001b[m Up to date: /Users/levan/Library/Jupyter/nbextensions/code_prettify/code_prettify.js\r\n",
      "\u001b[32m[I 19:52:24 InstallContribNbextensionsApp]\u001b[m Up to date: /Users/levan/Library/Jupyter/nbextensions/code_prettify/autopep8.js\r\n",
      "\u001b[32m[I 19:52:24 InstallContribNbextensionsApp]\u001b[m Up to date: /Users/levan/Library/Jupyter/nbextensions/code_prettify/demo-R.gif\r\n",
      "\u001b[32m[I 19:52:24 InstallContribNbextensionsApp]\u001b[m Up to date: /Users/levan/Library/Jupyter/nbextensions/code_prettify/isort.js\r\n",
      "\u001b[32m[I 19:52:24 InstallContribNbextensionsApp]\u001b[m Up to date: /Users/levan/Library/Jupyter/nbextensions/code_prettify/code_prettify.yaml\r\n",
      "\u001b[32m[I 19:52:24 InstallContribNbextensionsApp]\u001b[m Up to date: /Users/levan/Library/Jupyter/nbextensions/code_prettify/2to3.js\r\n",
      "\u001b[32m[I 19:52:24 InstallContribNbextensionsApp]\u001b[m Up to date: /Users/levan/Library/Jupyter/nbextensions/code_prettify/autopep8.yaml\r\n",
      "\u001b[32m[I 19:52:24 InstallContribNbextensionsApp]\u001b[m Up to date: /Users/levan/Library/Jupyter/nbextensions/code_prettify/isort.yaml\r\n",
      "\u001b[32m[I 19:52:24 InstallContribNbextensionsApp]\u001b[m - Validating: \u001b[32mOK\u001b[0m\r\n",
      "\u001b[32m[I 19:52:24 InstallContribNbextensionsApp]\u001b[m Installing /Users/levan/anaconda3/envs/edu/lib/python3.7/site-packages/jupyter_contrib_nbextensions/nbextensions/code_prettify -> code_prettify\r\n",
      "\u001b[32m[I 19:52:24 InstallContribNbextensionsApp]\u001b[m Up to date: /Users/levan/Library/Jupyter/nbextensions/code_prettify/demo-py.gif\r\n",
      "\u001b[32m[I 19:52:24 InstallContribNbextensionsApp]\u001b[m Up to date: /Users/levan/Library/Jupyter/nbextensions/code_prettify/kernel_exec_on_cell.js\r\n",
      "\u001b[32m[I 19:52:24 InstallContribNbextensionsApp]\u001b[m Up to date: /Users/levan/Library/Jupyter/nbextensions/code_prettify/demo-jv.gif\r\n",
      "\u001b[32m[I 19:52:24 InstallContribNbextensionsApp]\u001b[m Up to date: /Users/levan/Library/Jupyter/nbextensions/code_prettify/README_2to3.md\r\n",
      "\u001b[32m[I 19:52:24 InstallContribNbextensionsApp]\u001b[m Up to date: /Users/levan/Library/Jupyter/nbextensions/code_prettify/2to3.yaml\r\n",
      "\u001b[32m[I 19:52:24 InstallContribNbextensionsApp]\u001b[m Up to date: /Users/levan/Library/Jupyter/nbextensions/code_prettify/README_autopep8.md\r\n",
      "\u001b[32m[I 19:52:24 InstallContribNbextensionsApp]\u001b[m Up to date: /Users/levan/Library/Jupyter/nbextensions/code_prettify/demo_2to3.gif\r\n",
      "\u001b[32m[I 19:52:24 InstallContribNbextensionsApp]\u001b[m Up to date: /Users/levan/Library/Jupyter/nbextensions/code_prettify/README_isort.md\r\n",
      "\u001b[32m[I 19:52:24 InstallContribNbextensionsApp]\u001b[m Up to date: /Users/levan/Library/Jupyter/nbextensions/code_prettify/README_code_prettify.md\r\n",
      "\u001b[32m[I 19:52:24 InstallContribNbextensionsApp]\u001b[m Up to date: /Users/levan/Library/Jupyter/nbextensions/code_prettify/README.md\r\n",
      "\u001b[32m[I 19:52:24 InstallContribNbextensionsApp]\u001b[m Up to date: /Users/levan/Library/Jupyter/nbextensions/code_prettify/code_prettify.js\r\n",
      "\u001b[32m[I 19:52:24 InstallContribNbextensionsApp]\u001b[m Up to date: /Users/levan/Library/Jupyter/nbextensions/code_prettify/autopep8.js\r\n",
      "\u001b[32m[I 19:52:24 InstallContribNbextensionsApp]\u001b[m Up to date: /Users/levan/Library/Jupyter/nbextensions/code_prettify/demo-R.gif\r\n",
      "\u001b[32m[I 19:52:24 InstallContribNbextensionsApp]\u001b[m Up to date: /Users/levan/Library/Jupyter/nbextensions/code_prettify/isort.js\r\n",
      "\u001b[32m[I 19:52:24 InstallContribNbextensionsApp]\u001b[m Up to date: /Users/levan/Library/Jupyter/nbextensions/code_prettify/code_prettify.yaml\r\n",
      "\u001b[32m[I 19:52:24 InstallContribNbextensionsApp]\u001b[m Up to date: /Users/levan/Library/Jupyter/nbextensions/code_prettify/2to3.js\r\n",
      "\u001b[32m[I 19:52:24 InstallContribNbextensionsApp]\u001b[m Up to date: /Users/levan/Library/Jupyter/nbextensions/code_prettify/autopep8.yaml\r\n",
      "\u001b[32m[I 19:52:24 InstallContribNbextensionsApp]\u001b[m Up to date: /Users/levan/Library/Jupyter/nbextensions/code_prettify/isort.yaml\r\n",
      "\u001b[32m[I 19:52:24 InstallContribNbextensionsApp]\u001b[m - Validating: \u001b[32mOK\u001b[0m\r\n",
      "\u001b[32m[I 19:52:24 InstallContribNbextensionsApp]\u001b[m Installing /Users/levan/anaconda3/envs/edu/lib/python3.7/site-packages/jupyter_contrib_nbextensions/nbextensions/code_prettify -> code_prettify\r\n",
      "\u001b[32m[I 19:52:24 InstallContribNbextensionsApp]\u001b[m Up to date: /Users/levan/Library/Jupyter/nbextensions/code_prettify/demo-py.gif\r\n",
      "\u001b[32m[I 19:52:24 InstallContribNbextensionsApp]\u001b[m Up to date: /Users/levan/Library/Jupyter/nbextensions/code_prettify/kernel_exec_on_cell.js\r\n",
      "\u001b[32m[I 19:52:24 InstallContribNbextensionsApp]\u001b[m Up to date: /Users/levan/Library/Jupyter/nbextensions/code_prettify/demo-jv.gif\r\n",
      "\u001b[32m[I 19:52:24 InstallContribNbextensionsApp]\u001b[m Up to date: /Users/levan/Library/Jupyter/nbextensions/code_prettify/README_2to3.md\r\n",
      "\u001b[32m[I 19:52:24 InstallContribNbextensionsApp]\u001b[m Up to date: /Users/levan/Library/Jupyter/nbextensions/code_prettify/2to3.yaml\r\n",
      "\u001b[32m[I 19:52:24 InstallContribNbextensionsApp]\u001b[m Up to date: /Users/levan/Library/Jupyter/nbextensions/code_prettify/README_autopep8.md\r\n",
      "\u001b[32m[I 19:52:24 InstallContribNbextensionsApp]\u001b[m Up to date: /Users/levan/Library/Jupyter/nbextensions/code_prettify/demo_2to3.gif\r\n",
      "\u001b[32m[I 19:52:24 InstallContribNbextensionsApp]\u001b[m Up to date: /Users/levan/Library/Jupyter/nbextensions/code_prettify/README_isort.md\r\n",
      "\u001b[32m[I 19:52:24 InstallContribNbextensionsApp]\u001b[m Up to date: /Users/levan/Library/Jupyter/nbextensions/code_prettify/README_code_prettify.md\r\n",
      "\u001b[32m[I 19:52:24 InstallContribNbextensionsApp]\u001b[m Up to date: /Users/levan/Library/Jupyter/nbextensions/code_prettify/README.md\r\n",
      "\u001b[32m[I 19:52:24 InstallContribNbextensionsApp]\u001b[m Up to date: /Users/levan/Library/Jupyter/nbextensions/code_prettify/code_prettify.js\r\n",
      "\u001b[32m[I 19:52:24 InstallContribNbextensionsApp]\u001b[m Up to date: /Users/levan/Library/Jupyter/nbextensions/code_prettify/autopep8.js\r\n",
      "\u001b[32m[I 19:52:24 InstallContribNbextensionsApp]\u001b[m Up to date: /Users/levan/Library/Jupyter/nbextensions/code_prettify/demo-R.gif\r\n",
      "\u001b[32m[I 19:52:24 InstallContribNbextensionsApp]\u001b[m Up to date: /Users/levan/Library/Jupyter/nbextensions/code_prettify/isort.js\r\n",
      "\u001b[32m[I 19:52:24 InstallContribNbextensionsApp]\u001b[m Up to date: /Users/levan/Library/Jupyter/nbextensions/code_prettify/code_prettify.yaml\r\n",
      "\u001b[32m[I 19:52:24 InstallContribNbextensionsApp]\u001b[m Up to date: /Users/levan/Library/Jupyter/nbextensions/code_prettify/2to3.js\r\n",
      "\u001b[32m[I 19:52:24 InstallContribNbextensionsApp]\u001b[m Up to date: /Users/levan/Library/Jupyter/nbextensions/code_prettify/autopep8.yaml\r\n",
      "\u001b[32m[I 19:52:24 InstallContribNbextensionsApp]\u001b[m Up to date: /Users/levan/Library/Jupyter/nbextensions/code_prettify/isort.yaml\r\n",
      "\u001b[32m[I 19:52:24 InstallContribNbextensionsApp]\u001b[m - Validating: \u001b[32mOK\u001b[0m\r\n",
      "\u001b[32m[I 19:52:24 InstallContribNbextensionsApp]\u001b[m Installing /Users/levan/anaconda3/envs/edu/lib/python3.7/site-packages/jupyter_contrib_nbextensions/nbextensions/load_tex_macros -> load_tex_macros\r\n",
      "\u001b[32m[I 19:52:24 InstallContribNbextensionsApp]\u001b[m Making directory: /Users/levan/Library/Jupyter/nbextensions/load_tex_macros/\r\n",
      "\u001b[32m[I 19:52:24 InstallContribNbextensionsApp]\u001b[m Copying: /Users/levan/anaconda3/envs/edu/lib/python3.7/site-packages/jupyter_contrib_nbextensions/nbextensions/load_tex_macros/load_tex_macros.yaml -> /Users/levan/Library/Jupyter/nbextensions/load_tex_macros/load_tex_macros.yaml\r\n",
      "\u001b[32m[I 19:52:24 InstallContribNbextensionsApp]\u001b[m Copying: /Users/levan/anaconda3/envs/edu/lib/python3.7/site-packages/jupyter_contrib_nbextensions/nbextensions/load_tex_macros/icon.png -> /Users/levan/Library/Jupyter/nbextensions/load_tex_macros/icon.png\r\n",
      "\u001b[32m[I 19:52:24 InstallContribNbextensionsApp]\u001b[m Copying: /Users/levan/anaconda3/envs/edu/lib/python3.7/site-packages/jupyter_contrib_nbextensions/nbextensions/load_tex_macros/readme.md -> /Users/levan/Library/Jupyter/nbextensions/load_tex_macros/readme.md\r\n",
      "\u001b[32m[I 19:52:24 InstallContribNbextensionsApp]\u001b[m Copying: /Users/levan/anaconda3/envs/edu/lib/python3.7/site-packages/jupyter_contrib_nbextensions/nbextensions/load_tex_macros/main.js -> /Users/levan/Library/Jupyter/nbextensions/load_tex_macros/main.js\r\n",
      "\u001b[32m[I 19:52:24 InstallContribNbextensionsApp]\u001b[m - Validating: \u001b[32mOK\u001b[0m\r\n",
      "\u001b[32m[I 19:52:24 InstallContribNbextensionsApp]\u001b[m Installing /Users/levan/anaconda3/envs/edu/lib/python3.7/site-packages/jupyter_contrib_nbextensions/nbextensions/hide_header -> hide_header\r\n",
      "\u001b[32m[I 19:52:24 InstallContribNbextensionsApp]\u001b[m Making directory: /Users/levan/Library/Jupyter/nbextensions/hide_header/\r\n",
      "\u001b[32m[I 19:52:24 InstallContribNbextensionsApp]\u001b[m Copying: /Users/levan/anaconda3/envs/edu/lib/python3.7/site-packages/jupyter_contrib_nbextensions/nbextensions/hide_header/hide_header.yaml -> /Users/levan/Library/Jupyter/nbextensions/hide_header/hide_header.yaml\r\n",
      "\u001b[32m[I 19:52:24 InstallContribNbextensionsApp]\u001b[m Copying: /Users/levan/anaconda3/envs/edu/lib/python3.7/site-packages/jupyter_contrib_nbextensions/nbextensions/hide_header/README.md -> /Users/levan/Library/Jupyter/nbextensions/hide_header/README.md\r\n",
      "\u001b[32m[I 19:52:24 InstallContribNbextensionsApp]\u001b[m Copying: /Users/levan/anaconda3/envs/edu/lib/python3.7/site-packages/jupyter_contrib_nbextensions/nbextensions/hide_header/main.js -> /Users/levan/Library/Jupyter/nbextensions/hide_header/main.js\r\n",
      "\u001b[32m[I 19:52:24 InstallContribNbextensionsApp]\u001b[m - Validating: \u001b[32mOK\u001b[0m\r\n",
      "\u001b[32m[I 19:52:24 InstallContribNbextensionsApp]\u001b[m Installing /Users/levan/anaconda3/envs/edu/lib/python3.7/site-packages/jupyter_highlight_selected_word/static/highlight_selected_word -> highlight_selected_word\r\n",
      "\u001b[32m[I 19:52:24 InstallContribNbextensionsApp]\u001b[m Making directory: /Users/levan/Library/Jupyter/nbextensions/highlight_selected_word/\r\n",
      "\u001b[32m[I 19:52:24 InstallContribNbextensionsApp]\u001b[m Copying: /Users/levan/anaconda3/envs/edu/lib/python3.7/site-packages/jupyter_highlight_selected_word/static/highlight_selected_word/configurator.yaml -> /Users/levan/Library/Jupyter/nbextensions/highlight_selected_word/configurator.yaml\r\n",
      "\u001b[32m[I 19:52:24 InstallContribNbextensionsApp]\u001b[m Copying: /Users/levan/anaconda3/envs/edu/lib/python3.7/site-packages/jupyter_highlight_selected_word/static/highlight_selected_word/README.md -> /Users/levan/Library/Jupyter/nbextensions/highlight_selected_word/README.md\r\n",
      "\u001b[32m[I 19:52:24 InstallContribNbextensionsApp]\u001b[m Copying: /Users/levan/anaconda3/envs/edu/lib/python3.7/site-packages/jupyter_highlight_selected_word/static/highlight_selected_word/main.js -> /Users/levan/Library/Jupyter/nbextensions/highlight_selected_word/main.js\r\n",
      "\u001b[32m[I 19:52:24 InstallContribNbextensionsApp]\u001b[m - Validating: \u001b[32mOK\u001b[0m\r\n",
      "\u001b[32m[I 19:52:24 InstallContribNbextensionsApp]\u001b[m Installing /Users/levan/anaconda3/envs/edu/lib/python3.7/site-packages/latex_envs/static -> latex_envs\r\n",
      "\u001b[32m[I 19:52:24 InstallContribNbextensionsApp]\u001b[m Making directory: /Users/levan/Library/Jupyter/nbextensions/latex_envs/\r\n",
      "\u001b[32m[I 19:52:24 InstallContribNbextensionsApp]\u001b[m Copying: /Users/levan/anaconda3/envs/edu/lib/python3.7/site-packages/latex_envs/static/icon.png -> /Users/levan/Library/Jupyter/nbextensions/latex_envs/icon.png\r\n",
      "\u001b[32m[I 19:52:24 InstallContribNbextensionsApp]\u001b[m Copying: /Users/levan/anaconda3/envs/edu/lib/python3.7/site-packages/latex_envs/static/latex_envs.yaml -> /Users/levan/Library/Jupyter/nbextensions/latex_envs/latex_envs.yaml\r\n",
      "\u001b[32m[I 19:52:24 InstallContribNbextensionsApp]\u001b[m Copying: /Users/levan/anaconda3/envs/edu/lib/python3.7/site-packages/latex_envs/static/configuration_toolbar.png -> /Users/levan/Library/Jupyter/nbextensions/latex_envs/configuration_toolbar.png\r\n",
      "\u001b[32m[I 19:52:24 InstallContribNbextensionsApp]\u001b[m Copying: /Users/levan/anaconda3/envs/edu/lib/python3.7/site-packages/latex_envs/static/bibInNb4.js -> /Users/levan/Library/Jupyter/nbextensions/latex_envs/bibInNb4.js\r\n",
      "\u001b[32m[I 19:52:24 InstallContribNbextensionsApp]\u001b[m Copying: /Users/levan/anaconda3/envs/edu/lib/python3.7/site-packages/latex_envs/static/example_user_envs.json -> /Users/levan/Library/Jupyter/nbextensions/latex_envs/example_user_envs.json\r\n",
      "\u001b[32m[I 19:52:24 InstallContribNbextensionsApp]\u001b[m Copying: /Users/levan/anaconda3/envs/edu/lib/python3.7/site-packages/latex_envs/static/envsLatex.js -> /Users/levan/Library/Jupyter/nbextensions/latex_envs/envsLatex.js\r\n",
      "\u001b[32m[I 19:52:24 InstallContribNbextensionsApp]\u001b[m Copying: /Users/levan/anaconda3/envs/edu/lib/python3.7/site-packages/latex_envs/static/main_toolbar.png -> /Users/levan/Library/Jupyter/nbextensions/latex_envs/main_toolbar.png\r\n",
      "\u001b[32m[I 19:52:24 InstallContribNbextensionsApp]\u001b[m Copying: /Users/levan/anaconda3/envs/edu/lib/python3.7/site-packages/latex_envs/static/envsLatex.json -> /Users/levan/Library/Jupyter/nbextensions/latex_envs/envsLatex.json\r\n",
      "\u001b[32m[I 19:52:24 InstallContribNbextensionsApp]\u001b[m Copying: /Users/levan/anaconda3/envs/edu/lib/python3.7/site-packages/latex_envs/static/README.md -> /Users/levan/Library/Jupyter/nbextensions/latex_envs/README.md\r\n",
      "\u001b[32m[I 19:52:24 InstallContribNbextensionsApp]\u001b[m Copying: /Users/levan/anaconda3/envs/edu/lib/python3.7/site-packages/latex_envs/static/thmsInNb4.js -> /Users/levan/Library/Jupyter/nbextensions/latex_envs/thmsInNb4.js\r\n",
      "\u001b[32m[I 19:52:24 InstallContribNbextensionsApp]\u001b[m Copying: /Users/levan/anaconda3/envs/edu/lib/python3.7/site-packages/latex_envs/static/initNb.js -> /Users/levan/Library/Jupyter/nbextensions/latex_envs/initNb.js\r\n",
      "\u001b[32m[I 19:52:24 InstallContribNbextensionsApp]\u001b[m Copying: /Users/levan/anaconda3/envs/edu/lib/python3.7/site-packages/latex_envs/static/latex_envs.css -> /Users/levan/Library/Jupyter/nbextensions/latex_envs/latex_envs.css\r\n",
      "\u001b[32m[I 19:52:24 InstallContribNbextensionsApp]\u001b[m Copying: /Users/levan/anaconda3/envs/edu/lib/python3.7/site-packages/latex_envs/static/latex_envs.js -> /Users/levan/Library/Jupyter/nbextensions/latex_envs/latex_envs.js\r\n",
      "\u001b[32m[I 19:52:24 InstallContribNbextensionsApp]\u001b[m Copying: /Users/levan/anaconda3/envs/edu/lib/python3.7/site-packages/latex_envs/static/bibtex2.js -> /Users/levan/Library/Jupyter/nbextensions/latex_envs/bibtex2.js\r\n",
      "\u001b[32m[I 19:52:24 InstallContribNbextensionsApp]\u001b[m Copying: /Users/levan/anaconda3/envs/edu/lib/python3.7/site-packages/latex_envs/static/example.png -> /Users/levan/Library/Jupyter/nbextensions/latex_envs/example.png\r\n",
      "\u001b[32m[I 19:52:24 InstallContribNbextensionsApp]\u001b[m Making directory: /Users/levan/Library/Jupyter/nbextensions/latex_envs/doc\r\n",
      "\u001b[32m[I 19:52:24 InstallContribNbextensionsApp]\u001b[m Copying: /Users/levan/anaconda3/envs/edu/lib/python3.7/site-packages/latex_envs/static/doc/IEEEtran.bst -> /Users/levan/Library/Jupyter/nbextensions/latex_envs/doc/IEEEtran.bst\r\n",
      "\u001b[32m[I 19:52:24 InstallContribNbextensionsApp]\u001b[m Copying: /Users/levan/anaconda3/envs/edu/lib/python3.7/site-packages/latex_envs/static/doc/documentation.pdf -> /Users/levan/Library/Jupyter/nbextensions/latex_envs/doc/documentation.pdf\r\n",
      "\u001b[32m[I 19:52:24 InstallContribNbextensionsApp]\u001b[m Copying: /Users/levan/anaconda3/envs/edu/lib/python3.7/site-packages/latex_envs/static/doc/configuration_toolbar.png -> /Users/levan/Library/Jupyter/nbextensions/latex_envs/doc/configuration_toolbar.png\r\n",
      "\u001b[32m[I 19:52:24 InstallContribNbextensionsApp]\u001b[m Copying: /Users/levan/anaconda3/envs/edu/lib/python3.7/site-packages/latex_envs/static/doc/biblio_ipython.bib -> /Users/levan/Library/Jupyter/nbextensions/latex_envs/doc/biblio_ipython.bib\r\n",
      "\u001b[32m[I 19:52:24 InstallContribNbextensionsApp]\u001b[m Copying: /Users/levan/anaconda3/envs/edu/lib/python3.7/site-packages/latex_envs/static/doc/config_toolbar.png -> /Users/levan/Library/Jupyter/nbextensions/latex_envs/doc/config_toolbar.png\r\n",
      "\u001b[32m[I 19:52:24 InstallContribNbextensionsApp]\u001b[m Copying: /Users/levan/anaconda3/envs/edu/lib/python3.7/site-packages/latex_envs/static/doc/documentation.tex -> /Users/levan/Library/Jupyter/nbextensions/latex_envs/doc/documentation.tex\r\n",
      "\u001b[32m[I 19:52:24 InstallContribNbextensionsApp]\u001b[m Copying: /Users/levan/anaconda3/envs/edu/lib/python3.7/site-packages/latex_envs/static/doc/main_toolbar.png -> /Users/levan/Library/Jupyter/nbextensions/latex_envs/doc/main_toolbar.png\r\n",
      "\u001b[32m[I 19:52:24 InstallContribNbextensionsApp]\u001b[m Copying: /Users/levan/anaconda3/envs/edu/lib/python3.7/site-packages/latex_envs/static/doc/README.md -> /Users/levan/Library/Jupyter/nbextensions/latex_envs/doc/README.md\r\n",
      "\u001b[32m[I 19:52:24 InstallContribNbextensionsApp]\u001b[m Copying: /Users/levan/anaconda3/envs/edu/lib/python3.7/site-packages/latex_envs/static/doc/latex_env_doc.ipynb -> /Users/levan/Library/Jupyter/nbextensions/latex_envs/doc/latex_env_doc.ipynb\r\n",
      "\u001b[32m[I 19:52:24 InstallContribNbextensionsApp]\u001b[m Copying: /Users/levan/anaconda3/envs/edu/lib/python3.7/site-packages/latex_envs/static/doc/LaTeX_envs_menu.png -> /Users/levan/Library/Jupyter/nbextensions/latex_envs/doc/LaTeX_envs_menu.png\r\n",
      "\u001b[32m[I 19:52:24 InstallContribNbextensionsApp]\u001b[m Copying: /Users/levan/anaconda3/envs/edu/lib/python3.7/site-packages/latex_envs/static/doc/latex_env_doc.tex -> /Users/levan/Library/Jupyter/nbextensions/latex_envs/doc/latex_env_doc.tex\r\n",
      "\u001b[32m[I 19:52:24 InstallContribNbextensionsApp]\u001b[m Copying: /Users/levan/anaconda3/envs/edu/lib/python3.7/site-packages/latex_envs/static/doc/header.tex -> /Users/levan/Library/Jupyter/nbextensions/latex_envs/doc/header.tex\r\n",
      "\u001b[32m[I 19:52:24 InstallContribNbextensionsApp]\u001b[m Copying: /Users/levan/anaconda3/envs/edu/lib/python3.7/site-packages/latex_envs/static/doc/Toggles.png -> /Users/levan/Library/Jupyter/nbextensions/latex_envs/doc/Toggles.png\r\n",
      "\u001b[32m[I 19:52:24 InstallContribNbextensionsApp]\u001b[m Copying: /Users/levan/anaconda3/envs/edu/lib/python3.7/site-packages/latex_envs/static/doc/latex_env_doc.html -> /Users/levan/Library/Jupyter/nbextensions/latex_envs/doc/latex_env_doc.html\r\n",
      "\u001b[32m[I 19:52:24 InstallContribNbextensionsApp]\u001b[m Copying: /Users/levan/anaconda3/envs/edu/lib/python3.7/site-packages/latex_envs/static/doc/example.png -> /Users/levan/Library/Jupyter/nbextensions/latex_envs/doc/example.png\r\n",
      "\u001b[32m[I 19:52:24 InstallContribNbextensionsApp]\u001b[m Making directory: /Users/levan/Library/Jupyter/nbextensions/latex_envs/doc/.ipynb_checkpoints\r\n",
      "\u001b[32m[I 19:52:24 InstallContribNbextensionsApp]\u001b[m Copying: /Users/levan/anaconda3/envs/edu/lib/python3.7/site-packages/latex_envs/static/doc/.ipynb_checkpoints/latex_env_doc-checkpoint.ipynb -> /Users/levan/Library/Jupyter/nbextensions/latex_envs/doc/.ipynb_checkpoints/latex_env_doc-checkpoint.ipynb\r\n",
      "\u001b[32m[I 19:52:24 InstallContribNbextensionsApp]\u001b[m Making directory: /Users/levan/Library/Jupyter/nbextensions/latex_envs/doc/latex_env_doc_files\r\n",
      "\u001b[32m[I 19:52:24 InstallContribNbextensionsApp]\u001b[m Copying: /Users/levan/anaconda3/envs/edu/lib/python3.7/site-packages/latex_envs/static/doc/latex_env_doc_files/latex_env_doc_51_0.png -> /Users/levan/Library/Jupyter/nbextensions/latex_envs/doc/latex_env_doc_files/latex_env_doc_51_0.png\r\n",
      "\u001b[32m[I 19:52:24 InstallContribNbextensionsApp]\u001b[m Copying: /Users/levan/anaconda3/envs/edu/lib/python3.7/site-packages/latex_envs/static/doc/latex_env_doc_files/latex_env_doc_48_0.png -> /Users/levan/Library/Jupyter/nbextensions/latex_envs/doc/latex_env_doc_files/latex_env_doc_48_0.png\r\n",
      "\u001b[32m[I 19:52:24 InstallContribNbextensionsApp]\u001b[m Copying: /Users/levan/anaconda3/envs/edu/lib/python3.7/site-packages/latex_envs/static/doc/latex_env_doc_files/latex_env_doc_50_0.png -> /Users/levan/Library/Jupyter/nbextensions/latex_envs/doc/latex_env_doc_files/latex_env_doc_50_0.png\r\n",
      "\u001b[32m[I 19:52:24 InstallContribNbextensionsApp]\u001b[m Copying: /Users/levan/anaconda3/envs/edu/lib/python3.7/site-packages/latex_envs/static/doc/latex_env_doc_files/latex_env_doc_49_0.png -> /Users/levan/Library/Jupyter/nbextensions/latex_envs/doc/latex_env_doc_files/latex_env_doc_49_0.png\r\n",
      "\u001b[32m[I 19:52:24 InstallContribNbextensionsApp]\u001b[m Copying: /Users/levan/anaconda3/envs/edu/lib/python3.7/site-packages/latex_envs/static/doc/latex_env_doc_files/latex_env_doc_52_0.png -> /Users/levan/Library/Jupyter/nbextensions/latex_envs/doc/latex_env_doc_files/latex_env_doc_52_0.png\r\n",
      "\u001b[32m[I 19:52:24 InstallContribNbextensionsApp]\u001b[m Copying: /Users/levan/anaconda3/envs/edu/lib/python3.7/site-packages/latex_envs/static/doc/latex_env_doc_files/latex_env_doc_41_0.png -> /Users/levan/Library/Jupyter/nbextensions/latex_envs/doc/latex_env_doc_files/latex_env_doc_41_0.png\r\n",
      "\u001b[32m[I 19:52:24 InstallContribNbextensionsApp]\u001b[m Copying: /Users/levan/anaconda3/envs/edu/lib/python3.7/site-packages/latex_envs/static/doc/latex_env_doc_files/latex_env_doc_43_0.png -> /Users/levan/Library/Jupyter/nbextensions/latex_envs/doc/latex_env_doc_files/latex_env_doc_43_0.png\r\n",
      "\u001b[32m[I 19:52:24 InstallContribNbextensionsApp]\u001b[m Copying: /Users/levan/anaconda3/envs/edu/lib/python3.7/site-packages/latex_envs/static/doc/latex_env_doc_files/latex_env_doc_24_2.png -> /Users/levan/Library/Jupyter/nbextensions/latex_envs/doc/latex_env_doc_files/latex_env_doc_24_2.png\r\n"
     ]
    },
    {
     "name": "stdout",
     "output_type": "stream",
     "text": [
      "\u001b[32m[I 19:52:24 InstallContribNbextensionsApp]\u001b[m Copying: /Users/levan/anaconda3/envs/edu/lib/python3.7/site-packages/latex_envs/static/doc/latex_env_doc_files/latex_env_doc_47_0.png -> /Users/levan/Library/Jupyter/nbextensions/latex_envs/doc/latex_env_doc_files/latex_env_doc_47_0.png\n",
      "\u001b[32m[I 19:52:24 InstallContribNbextensionsApp]\u001b[m Copying: /Users/levan/anaconda3/envs/edu/lib/python3.7/site-packages/latex_envs/static/doc/latex_env_doc_files/latex_env_doc_45_0.png -> /Users/levan/Library/Jupyter/nbextensions/latex_envs/doc/latex_env_doc_files/latex_env_doc_45_0.png\n",
      "\u001b[32m[I 19:52:24 InstallContribNbextensionsApp]\u001b[m Copying: /Users/levan/anaconda3/envs/edu/lib/python3.7/site-packages/latex_envs/static/doc/latex_env_doc_files/latex_env_doc_26_2.png -> /Users/levan/Library/Jupyter/nbextensions/latex_envs/doc/latex_env_doc_files/latex_env_doc_26_2.png\n",
      "\u001b[32m[I 19:52:24 InstallContribNbextensionsApp]\u001b[m Copying: /Users/levan/anaconda3/envs/edu/lib/python3.7/site-packages/latex_envs/static/doc/latex_env_doc_files/latex_env_doc_42_0.png -> /Users/levan/Library/Jupyter/nbextensions/latex_envs/doc/latex_env_doc_files/latex_env_doc_42_0.png\n",
      "\u001b[32m[I 19:52:24 InstallContribNbextensionsApp]\u001b[m Copying: /Users/levan/anaconda3/envs/edu/lib/python3.7/site-packages/latex_envs/static/doc/latex_env_doc_files/latex_env_doc_23_2.png -> /Users/levan/Library/Jupyter/nbextensions/latex_envs/doc/latex_env_doc_files/latex_env_doc_23_2.png\n",
      "\u001b[32m[I 19:52:24 InstallContribNbextensionsApp]\u001b[m Copying: /Users/levan/anaconda3/envs/edu/lib/python3.7/site-packages/latex_envs/static/doc/latex_env_doc_files/latex_env_doc_44_0.png -> /Users/levan/Library/Jupyter/nbextensions/latex_envs/doc/latex_env_doc_files/latex_env_doc_44_0.png\n",
      "\u001b[32m[I 19:52:24 InstallContribNbextensionsApp]\u001b[m Copying: /Users/levan/anaconda3/envs/edu/lib/python3.7/site-packages/latex_envs/static/doc/latex_env_doc_files/latex_env_doc_27_2.png -> /Users/levan/Library/Jupyter/nbextensions/latex_envs/doc/latex_env_doc_files/latex_env_doc_27_2.png\n",
      "\u001b[32m[I 19:52:24 InstallContribNbextensionsApp]\u001b[m Copying: /Users/levan/anaconda3/envs/edu/lib/python3.7/site-packages/latex_envs/static/doc/latex_env_doc_files/latex_env_doc_46_0.png -> /Users/levan/Library/Jupyter/nbextensions/latex_envs/doc/latex_env_doc_files/latex_env_doc_46_0.png\n",
      "\u001b[32m[I 19:52:24 InstallContribNbextensionsApp]\u001b[m - Validating: \u001b[32mOK\u001b[0m\n",
      "\u001b[32m[I 19:52:24 InstallContribNbextensionsApp]\u001b[m Installing jupyter_contrib_nbextensions items to config in /Users/levan/.jupyter\n",
      "Enabling: jupyter_nbextensions_configurator\n",
      "- Writing config: /Users/levan/.jupyter\n",
      "    - Validating...\n",
      "      jupyter_nbextensions_configurator 0.4.1 \u001b[32mOK\u001b[0m\n",
      "Enabling notebook nbextension nbextensions_configurator/config_menu/main...\n",
      "Enabling tree nbextension nbextensions_configurator/tree_tab/main...\n",
      "\u001b[32m[I 19:52:24 InstallContribNbextensionsApp]\u001b[m Enabling notebook extension contrib_nbextensions_help_item/main...\n",
      "\u001b[32m[I 19:52:24 InstallContribNbextensionsApp]\u001b[m       - Validating: \u001b[32mOK\u001b[0m\n",
      "\u001b[32m[I 19:52:24 InstallContribNbextensionsApp]\u001b[m - Editing config: /Users/levan/.jupyter/jupyter_nbconvert_config.json\n",
      "\u001b[32m[I 19:52:24 InstallContribNbextensionsApp]\u001b[m --  Configuring nbconvert template path\n",
      "\u001b[32m[I 19:52:24 InstallContribNbextensionsApp]\u001b[m --  Configuring nbconvert preprocessors\n",
      "\u001b[32m[I 19:52:24 InstallContribNbextensionsApp]\u001b[m - Writing config: /Users/levan/.jupyter/jupyter_nbconvert_config.json\n",
      "\u001b[32m[I 19:52:24 InstallContribNbextensionsApp]\u001b[m --  Writing updated config file /Users/levan/.jupyter/jupyter_nbconvert_config.json\n",
      "Enabling: jupyter_nbextensions_configurator\n",
      "- Writing config: /Users/levan/.jupyter\n",
      "    - Validating...\n",
      "      jupyter_nbextensions_configurator 0.4.1 \u001b[32mOK\u001b[0m\n",
      "Enabling notebook nbextension nbextensions_configurator/config_menu/main...\n",
      "Enabling tree nbextension nbextensions_configurator/tree_tab/main...\n"
     ]
    }
   ],
   "source": [
    "!pip install https://github.com/ipython-contrib/jupyter_contrib_nbextensions/tarball/master\n",
    "!pip install jupyter_nbextensions_configurator\n",
    "!jupyter contrib nbextension install --user\n",
    "!jupyter nbextensions_configurator enable --user"
   ]
  },
  {
   "cell_type": "markdown",
   "metadata": {},
   "source": [
    "# Metric spaces"
   ]
  },
  {
   "cell_type": "markdown",
   "metadata": {},
   "source": [
    "Let $X$ be a set and $d:X \\times X \\to [0, +\\infty)$ (for every $x, y \\in X$: $d(u, v) \\geq 0$) be a function such that:"
   ]
  },
  {
   "cell_type": "markdown",
   "metadata": {},
   "source": [
    "- for every $x \\in X$: $d(x, x) = 0$\n",
    "- for every $x, y \\in X$: $d(x, y) = d(y, x)$ (symmetry)\n",
    "- for every $x, y, z \\in X$: $d(x, z) \\leq d(x, y) + d(y, z)$ (triangle inequality)"
   ]
  },
  {
   "cell_type": "markdown",
   "metadata": {},
   "source": [
    "$X$ set with such function $d:X \\times X \\to [0, +\\infty)$ is called metric space and function $d$ - metrics on $X$, we denote it with $(X, d)$ or simple with $X$ if metrics is well defined"
   ]
  },
  {
   "cell_type": "markdown",
   "metadata": {},
   "source": [
    "The $r \\in \\mathbb{R}$ radious open ball with center $x \\in X$ in metric space $(X, d)$ is the set $B(x, r) = \\{y|d(x, y) \\lt r \\}$"
   ]
  },
  {
   "cell_type": "markdown",
   "metadata": {},
   "source": [
    "#### Proposition:  \n",
    "- For each $x \\in X$ and each $r \\in \\mathbb{R}$ and every point $y \\in B(x, r)$ there exists $r' \\in \\mathbb{R}$ such that $B(y, r') \\subset B(x, r)$\n",
    "#### Proof:\n",
    "- Let $x \\in R$, $r \\in \\mathbb{R}$ and $y \\in B(x, r)$, let $l = d(x, y)$ then: $l = d(x, y) \\lt r$ by the definition and thus $r' = r - l \\gt 0$ and consider $z \\in B(y, r')$ we have that $d(x, z) \\lt r$ $d(x, z) \\leq d(x, y) + d(y, z)$ (traiangle inequality), but $d(x, y) = l$ and $d(y, z) \\lt r' = r - l$ therefore $d(x, z) \\lt l + r - l = r$ which implies that $z \\in B(x, r)$. So we've got thet each element of $B(y, r')$ belongs to $B(x, r)$ which means that $B(y, r') \\subset B(x, r)$"
   ]
  },
  {
   "cell_type": "markdown",
   "metadata": {},
   "source": [
    "The set $U \\subset X$ is open in metric space (X, d) if for each point $x \\in U$ there exists $r \\in \\mathbb{R}$ such that $B(x, r) \\subset U$"
   ]
  },
  {
   "cell_type": "markdown",
   "metadata": {},
   "source": [
    "#### Prove that:\n",
    "For every metric space (X, d):\n",
    "- For eny $\\mathcal{U} = \\{U | U$ is open in $(X, d)\\}$ holds $\\bigcup_{U \\in \\mathcal{U}} U$ is open in $(X, d)$\n",
    "- For eny two $U, V \\subset X$ open in $(X, d)$ holds: $U \\cap V$ is open in $(X, d)$\n",
    "- $X$ is open in $(X, d)$\n",
    "- $\\emptyset$ is open in $(X, d)$"
   ]
  },
  {
   "cell_type": "markdown",
   "metadata": {},
   "source": [
    "#### Prove that:\n",
    "- For eny finity set $(U)_{i=1}^{n}$ of open sets in $(X, d)$, $\\bigcap_{i=1}^{n}U$ is open in $(X, d)$"
   ]
  },
  {
   "cell_type": "markdown",
   "metadata": {},
   "source": [
    "Open neighbourhood of point $x \\in X$ is an open set $U \\subset X$ such that $x \\in U$"
   ]
  },
  {
   "cell_type": "markdown",
   "metadata": {},
   "source": [
    "We proved that open ball is open subset in $(X, d)$ for eny metric space"
   ]
  },
  {
   "cell_type": "markdown",
   "metadata": {},
   "source": [
    "Subset $U \\subset A$ in metric space $(X, d)$ is called open subset if it is open in $(X, d)$"
   ]
  },
  {
   "cell_type": "markdown",
   "metadata": {},
   "source": [
    "Interior of the set $A$ is $Int(A) = \\bigcup \\{U \\subset A | U $ is open in $(X, d)\\}$ (the biggest open subset of $A$)"
   ]
  },
  {
   "cell_type": "markdown",
   "metadata": {},
   "source": [
    "#### Prove that for set $U \\subset X$ is open if and only if for each point $x \\in U$ there exists the open neighbourhood $V$ of $x$ such that $V \\subset U$"
   ]
  },
  {
   "cell_type": "markdown",
   "metadata": {},
   "source": [
    "The set $F \\subset X$ is closed if $X - F$ is open\n",
    "<br>\n",
    "Closed ball with center $x \\in X$ with radious $r \\in \\mathbb{R}$ is $\\bar{B}(x, r) = \\{y | d(x, y) \\le r \\}$"
   ]
  },
  {
   "cell_type": "markdown",
   "metadata": {},
   "source": [
    "#### Prove that, closed ball is closed subset in $(X, d)$\n"
   ]
  },
  {
   "cell_type": "markdown",
   "metadata": {},
   "source": [
    "#### Prove that\n",
    "For every metric space (X, d):\n",
    "- For eny $\\mathcal{F} = \\{F | F$ is closed in $(X, d)\\}$ holds $\\bigcap_{F \\in \\mathcal{F}} F$ is closed in $(X, d)$\n",
    "- For eny two $F_1, F_2 \\subset X$ closed in $(X, d)$ holds: $F_1 \\cup F_2$ is closed in $(X, d)$\n",
    "- $X$ is closed in $(X, d)$\n",
    "- $\\emptyset$ is closed in $(X, d)$"
   ]
  },
  {
   "cell_type": "markdown",
   "metadata": {},
   "source": [
    "#### Prove that:\n",
    "- For eny finity set $(F)_{i=1}^{n}$ of closed sets in $(X, d)$, $\\bigcup_{i=1}^{n}F$ is closed in $(X, d)$"
   ]
  },
  {
   "cell_type": "markdown",
   "metadata": {},
   "source": [
    "Closure of the set $A \\subset X$ is $cl(A) = \\bigcap\\{F \\subset X | F \\text{ is closed in } (X, d)$ (the smallest set which contains $A$)"
   ]
  },
  {
   "cell_type": "markdown",
   "metadata": {},
   "source": [
    "The frontier of the set $A \\subset X$ is $Cl(A) - Int(A)$"
   ]
  },
  {
   "cell_type": "markdown",
   "metadata": {},
   "source": [
    "#### Prove that, if $F \\subset X$ is closed then $X - F$ is open in $(X, d)$ "
   ]
  },
  {
   "cell_type": "markdown",
   "metadata": {},
   "source": [
    "The set $A \\subset X$ in metric space $(X, d)$ is called bounded if there exists $r \\in \\mathbb{R}$ such that $d(x, y) < r$ for each $x, y \\in A$"
   ]
  },
  {
   "cell_type": "markdown",
   "metadata": {},
   "source": [
    "### Examples of metric spaces"
   ]
  },
  {
   "cell_type": "markdown",
   "metadata": {},
   "source": [
    "For eny set $X$ define $d:X \\times X \\to [0, \\infty)$ as \n",
    "$$d(x, y) = \\left\\{\\begin{matrix}\n",
    "0 \\text{ iff } x = y \\\\\n",
    "1 \\text{ otherwise} \\\\\n",
    "\\end{matrix}\\right.$$\n",
    "<br>\n",
    "All three metric properties holds.\n",
    "<br>\n",
    "This metric is called discret metric and space $(X, d)$ discret space\n",
    "<br>\n",
    "In discret space each set $U \\subset X$ is open and close"
   ]
  },
  {
   "cell_type": "markdown",
   "metadata": {},
   "source": []
  },
  {
   "cell_type": "markdown",
   "metadata": {},
   "source": [
    "# Metrics in Euclidean spaces"
   ]
  },
  {
   "cell_type": "markdown",
   "metadata": {},
   "source": [
    "For $v, u \\in \\mathbb{R}^{n}$ let define distance function $d:\\mathbb{R}^{n} \\times \\mathbb{R}^{n} \\to \\mathbb{R}$ by $d(u, v) = ||u-v||_2$"
   ]
  },
  {
   "cell_type": "markdown",
   "metadata": {},
   "source": [
    "Prove that:\n",
    "- for every $u, v \\in \\mathbb{R}^{n}$: $d(u, v) \\geq 0$\n",
    "- for every $v \\in \\mathbb{R}^{n}$: $d(v, v) = 0$\n",
    "- for every $u, v \\in \\mathbb{R}^{n}$: $d(u, v) = d(v, u)$ (symmetry)\n",
    "- for every $u, v, w \\in \\mathbb{R}^{n}$: $d(u, w) \\leq d(v, u) + d(v, w)$ (triangle inequality)"
   ]
  },
  {
   "cell_type": "markdown",
   "metadata": {},
   "source": [
    "Prove the same properties hold for $d(u, v) = ||u-v||_1$ ($||u-v||_1 = \\sum_{i = 1}^{n}|u_i - v_i|$)"
   ]
  },
  {
   "cell_type": "markdown",
   "metadata": {},
   "source": [
    "## Sequences and limits"
   ]
  },
  {
   "cell_type": "markdown",
   "metadata": {},
   "source": [
    "#### Every bijection from $\\mathbb{N}$ or $N_0 \\subset \\mathbb{N}$ to some set $A$ is called sequence"
   ]
  },
  {
   "cell_type": "markdown",
   "metadata": {},
   "source": [
    "We can write sequence as $(x_i)_{i=1}^{\\infty} = (x_1, x_2, \\dots x_n)$ if $N_0 \\subset \\mathbb{N}$ is finite of $(x_i)_{i=1}^{\\infty} = (x_1, x_2, \\dots, x_n)$ if it's infinite\n",
    "<br>\n",
    "We say that point $x \\in X$ is a limit of the sequence $(x_i)_{i=1}^{\\infty}$ and write $\\lim_{n \\to \\infty}{x_n} = x$ if for every open set $U \\in X$ such that $x \\in U$ there exists $n_0 \\in \\mathbb{R}$ such that $x_i \\in U$ for every $i \\gt n_0$"
   ]
  },
  {
   "cell_type": "markdown",
   "metadata": {},
   "source": [
    "#### Prove that $x = \\lim_{n\\to\\infty}{x_n}$ in $(X, d)$ if and only if (iff) for every $r \\in \\mathbb{R}$ there exists $n_0 \\in \\mathbb{N}$ such that: $x_i \\in B(x, r)$ for every $i \\gt n_0$"
   ]
  },
  {
   "cell_type": "markdown",
   "metadata": {},
   "source": [
    "Subsequence of the sequence $(x_i)_{i=1}^{\\infty} = (x_1, x_2, \\dots, x_n)$ is a equiualent subset of this sequence"
   ]
  },
  {
   "cell_type": "markdown",
   "metadata": {},
   "source": [
    "Convergent (Cauchy) sequence is a sequence $(x_i)_{i=1}^{\\infty} = (x_1, x_2, \\dots, x_n)$ such that, for every $r \\in \\mathbb{R}$ there exists $n_0 \\in \\mathbb{N}$ such that $d(x_i, x_j) < r$ for every $i, j > n_0$"
   ]
  },
  {
   "cell_type": "markdown",
   "metadata": {},
   "source": [
    "#### Prove that if $x = \\lim_{n\\to\\infty}{x_n}$ and $x \\notin \\{-\\infty, \\infty\\}$ then $(x_i)_{i=1}^{\\infty} = (x_1, x_2, \\dots, x_n)$ is a Cauchy sequence\n",
    "<br>\n",
    "For closed set $F \\subset \\mathbb{R}^n$ and convergent sequence $(x_i)_{i=1}^{\\infty} = (x_1, x_2, \\dots, x_n)$ such that there exists $n_0 \\in \\mathbb{N}$ such that $x_i \\in F$ for each $i \\gt n_0$ then: $\\lim_{n\\to\\infty}{x_n} \\in F$"
   ]
  },
  {
   "cell_type": "markdown",
   "metadata": {},
   "source": [
    "#### Prove that if $F$ is open from previous example, statement does not hold. "
   ]
  },
  {
   "cell_type": "markdown",
   "metadata": {},
   "source": [
    "#### Properties of limits\n",
    "- The limit of a sequence is unique.\n",
    "- $\\lim _{n\\to \\infty }(a_{n}\\pm b_{n})=\\lim _{n\\to \\infty }a_{n}\\pm \\lim _{n\\to \\infty }b_{n}$\n",
    "<br>\n",
    "- $\\lim _{n\\to \\infty }ca_{n}=c\\cdot \\lim _{n\\to \\infty }a_{n}$\n",
    "<br>\n",
    "- $\\lim _{n\\to \\infty }(a_{n}\\cdot b_{n})=(\\lim _{n\\to \\infty }a_{n})\\cdot (\\lim _{n\\to \\infty }b_{n})$\n",
    "<br>\n",
    "- $\\lim _{n\\to \\infty }\\left({\\frac {a_{n}}{b_{n}}}\\right)={\\frac {\\lim \\limits _{n\\to \\infty }a_{n}}{\\lim \\limits _{n\\to \\infty }b_{n}}}$ provided $\\lim _{n\\to \\infty }b_{n}\\neq 0$\n",
    "<br>\n",
    "- $\\lim _{n\\to \\infty }a_{n}^{p}=\\left[\\lim _{n\\to \\infty }a_{n}\\right]^{p}$\n",
    "<br>\n",
    "- if $a_{i}\\leq b_{i}$ for some $n_0 \\in \\mathbb{R}^n$ and all $i > n_0$ then ${\\displaystyle \\lim _{n\\to \\infty }a_{n}\\leq \\lim _{n\\to \\infty }b_{n}}$\n",
    "<br>\n",
    "- If $a_{i}\\leq c_{i}\\leq b_{i}$ for some $n_0 \\in \\mathbb{R}^n$ and all $i > n_0$ and $\\lim _{n\\to \\infty }a_{n}=\\lim _{n\\to \\infty }b_{n}=L$ then $\\lim _{n\\to \\infty }{c_n} = L$\n",
    "- If a sequence is bounded and monotonic then it is convergent.\n",
    "<br>\n",
    "- A sequence is convergent if and only if every subsequence is convergent.\n",
    "<br>"
   ]
  },
  {
   "cell_type": "markdown",
   "metadata": {},
   "source": [
    "If each convergent sequence has a limit in some metric space it is called complete"
   ]
  },
  {
   "cell_type": "markdown",
   "metadata": {},
   "source": [
    "Let define subspace as subset of metric space $(X, d)$ as subset with the same metric, which is called inherited metric os subspace"
   ]
  },
  {
   "cell_type": "markdown",
   "metadata": {},
   "source": [
    "#### Prove that inherited metric is a metric"
   ]
  },
  {
   "cell_type": "markdown",
   "metadata": {},
   "source": [
    "#### Example of sequence which is bounded but does not converges"
   ]
  },
  {
   "cell_type": "markdown",
   "metadata": {},
   "source": [
    "$$x_n = \\left\\{\\begin{matrix}\n",
    "-\\frac{1}{2} \\text{ iff } n \\text{ is odd} \\\\\n",
    "\\frac{1}{2} \\text{ otherwise} \\\\\n",
    "\\end{matrix}\\right.$$"
   ]
  },
  {
   "cell_type": "markdown",
   "metadata": {},
   "source": [
    "Every subset in discret space is open and close simultaneously"
   ]
  },
  {
   "cell_type": "markdown",
   "metadata": {},
   "source": [
    "The limit point of the set $A \\subset X$ in a metric space $(X, d)$ is a point $x \\in X$ such that for each open neighborhood of $x \\in U \\subset X$ there exists at least one $y \\neq x$ such that $y \\in A \\cap U$"
   ]
  },
  {
   "cell_type": "markdown",
   "metadata": {},
   "source": [
    "If $x \\in X$ is a limit point of $A$ if there exists a sequence $(x_i)_{i=1}{\\infty} \\subset A$ such that $\\lim _{n\\to \\infty }{x_n} = x$"
   ]
  },
  {
   "cell_type": "markdown",
   "metadata": {},
   "source": [
    "If we take sequence $(\\frac{1}{n})_{n=1}^{\\infty}$ and sequence $(x_n)_{n=1}^{\\infty} = \\{x_n| x_n \\in B(x, \\frac{1}{n}) \\cap A\\}$"
   ]
  },
  {
   "cell_type": "markdown",
   "metadata": {},
   "source": [
    "## Functions"
   ]
  },
  {
   "cell_type": "markdown",
   "metadata": {},
   "source": [
    "Let for every function $f:X \\to Y$ and $A \\subset X$ define $f(A) \\subset Y$ $f(A) = \\{f(x) | x \\in A\\}$ or $\\bigcup_{x \\in A}{f(x)}$\n",
    "<br>\n",
    "For $f:X \\to Y$ function let define $f^{-1}:Y \\to 2^{X}$ by $\\{x \\in f^{-1}(y), |f(x) = y\\}$\n",
    "<br>\n",
    "in similar way we can define $f^{-1}(B)$ for each $B \\subset Y = \\bigcup\\{f^{-1}(y) | y\\in B\\}$"
   ]
  },
  {
   "cell_type": "markdown",
   "metadata": {},
   "source": [
    "## Limits of functions"
   ]
  },
  {
   "cell_type": "markdown",
   "metadata": {},
   "source": [
    "Let $f:S \\to Y$ is function between subset $S \\subset X$ of a metric space $(X, d_x)$ and metric space $(Y, d_Y)$\n",
    "- We say that the limit of function $f:(S, d_x) \\to (Y, d_Y)$ between metric spaces in some limit point $c \\in X$ of the subset $S$ is $y \\in Y $if for each open neighborhood of $y \\in V \\subset Y$ there exists the open seighborhood of $c \\in U \\subset X$ such that $f(U \\cap S) \\subset V$\n",
    "<br>\n",
    "This definition is equiualent of definition:\n",
    "<br>\n",
    "- The limit of function $f:(S, d_X) \\to (Y, d_Y)$ between metric spaces in limit point $c \\in X$ of the subset $S$ is $y \\in Y $ if for each open ball $B(x, r) \\subset Y$ there exists the ball $B(c, l) \\subset X$ such that $f(B(c, l) \\cap S) \\subset B(y, r)$\n",
    "<br>\n",
    "or\n",
    "<br>\n",
    "- The limit of function $f:(S, d_X) \\to (Y, d_Y)$ between metric spaces in limit point $c \\in X$ of subset $S$ is $y \\in Y $ if for any $r \\in \\mathbb{R}$ there exists $l \\in \\mathbb{R}$ such that for every $x \\in S$ with $d_X(x, c) < l$ implies that $d_Y(f(x), y) < r$"
   ]
  },
  {
   "cell_type": "markdown",
   "metadata": {},
   "source": [
    "We write: $$\\lim_{x \\to c}f(x) = y$$"
   ]
  },
  {
   "cell_type": "markdown",
   "metadata": {},
   "source": [
    "#### Prove that this three definitions are equiualent for eny function between eny two metric spaces"
   ]
  },
  {
   "cell_type": "markdown",
   "metadata": {},
   "source": [
    "For one dimensional euclidean space with natural metrics the definition coinsides with our definition"
   ]
  },
  {
   "cell_type": "markdown",
   "metadata": {},
   "source": [
    "## Continuous functions "
   ]
  },
  {
   "cell_type": "markdown",
   "metadata": {},
   "source": [
    "- The function $f:(X, d_X) \\to (Y, d_Y)$ is called continuous in $c \\in X$ if $$\\lim_{x \\to c}f(x) = f(c)$$\n",
    "-  The function $f:(X, d_X) \\to (Y, d_Y)$ is called continuous if for every open neighborhood of $f(c) \\in U \\subset Y$ there exists the open neighborhood $c \\in V \\subset X$ such that $f(V) \\subset U$"
   ]
  },
  {
   "cell_type": "markdown",
   "metadata": {},
   "source": [
    "#### Prove that function is continuous in $c$ if for eny sequence $(x_n)_{n=1}^{\\infty} \\subset X$ such that $\\lim_{n \\to \\infty}x_n = c$ we have $\\lim_{n \\to \\infty}f(x_n) = f(c)$"
   ]
  },
  {
   "cell_type": "markdown",
   "metadata": {},
   "source": [
    "#### Function $f:(X, d_X) \\to (Y, d_Y)$ is called continuous if it is continuous in each point $x \\in X$"
   ]
  },
  {
   "cell_type": "markdown",
   "metadata": {},
   "source": [
    "#### Prove that function is continuous if for every open set $V \\subset Y$ the $f^{-1}(V)$ is open in $X$"
   ]
  },
  {
   "cell_type": "markdown",
   "metadata": {},
   "source": [
    "#### Prove that function is continuous if for every closed set $F \\subset Y$ the $f^{-1}(F)$ is open in $X$"
   ]
  },
  {
   "cell_type": "markdown",
   "metadata": {},
   "source": [
    "#### Prove that any composition of continous functions is continous"
   ]
  },
  {
   "cell_type": "markdown",
   "metadata": {},
   "source": [
    "## Continuous functions in Euclidean spaces"
   ]
  },
  {
   "cell_type": "markdown",
   "metadata": {},
   "source": [
    "Every linear function is continous"
   ]
  },
  {
   "cell_type": "code",
   "execution_count": null,
   "metadata": {},
   "outputs": [],
   "source": []
  }
 ],
 "metadata": {
  "kernelspec": {
   "display_name": "Python 3",
   "language": "python",
   "name": "python3"
  },
  "language_info": {
   "codemirror_mode": {
    "name": "ipython",
    "version": 3
   },
   "file_extension": ".py",
   "mimetype": "text/x-python",
   "name": "python",
   "nbconvert_exporter": "python",
   "pygments_lexer": "ipython3",
   "version": "3.7.4"
  }
 },
 "nbformat": 4,
 "nbformat_minor": 4
}
